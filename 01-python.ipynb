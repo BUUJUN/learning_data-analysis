{
 "cells": [
  {
   "cell_type": "markdown",
   "metadata": {},
   "source": [
    "python"
   ]
  },
  {
   "cell_type": "markdown",
   "metadata": {},
   "source": [
    "# 列表推导式   \n",
    "<font size=4>_**<font color=orange>result</font><font color=ff8888> = </font>[ <font color=skyblue>expr</font> <font color=ff8888>for</font> <font color=orange>val</font> <font color=ff8888>in</font> <font color=orange>collection</font> <font color=ff8888>if</font> <font color=skyblue>condition</font> ]**_ </font>"
   ]
  },
  {
   "cell_type": "markdown",
   "metadata": {},
   "source": [
    "## 列表推导式"
   ]
  },
  {
   "cell_type": "code",
   "execution_count": 1,
   "metadata": {},
   "outputs": [
    {
     "name": "stdout",
     "output_type": "stream",
     "text": [
      "list is ['dove', 'love', 'pythove'] \n",
      "dict is {'dove': 6, 'love': 8, 'pythove': 9} \n",
      "set  is {'pythove', 'dove', 'love'}\n"
     ]
    }
   ],
   "source": [
    "strings = ['a', 'b', 'c', 'as', 'bat', 'car', 'dove', 'python', 'love', 'pythove']\n",
    "l = [val for val in strings if 'ove' in val]\n",
    "d = {key:val for val, key in enumerate(strings) if 'ove' in key}\n",
    "s = {val for val in strings if 'ove' in val}\n",
    "print('list is {0} \\ndict is {1} \\nset  is {2}'.format(l, d, s))"
   ]
  },
  {
   "cell_type": "markdown",
   "metadata": {},
   "source": [
    "## 列表<font color=ff8888>嵌套</font>推导式"
   ]
  },
  {
   "cell_type": "code",
   "execution_count": 2,
   "metadata": {},
   "outputs": [
    {
     "data": {
      "text/plain": [
       "[1, 2, 3, 4, 5, 6, 7, 8, 9]"
      ]
     },
     "execution_count": 2,
     "metadata": {},
     "output_type": "execute_result"
    }
   ],
   "source": [
    "tuples = [(1,2,3),(4,5,6),(7,8,9)]\n",
    "[val2 for val1 in tuples for val2 in val1]"
   ]
  },
  {
   "cell_type": "code",
   "execution_count": 3,
   "metadata": {},
   "outputs": [
    {
     "data": {
      "text/plain": [
       "[[1, 2, 3], [4, 5, 6], [7, 8, 9]]"
      ]
     },
     "execution_count": 3,
     "metadata": {},
     "output_type": "execute_result"
    }
   ],
   "source": [
    "[[val2 for val2 in val1] for val1 in tuples ]"
   ]
  },
  {
   "cell_type": "markdown",
   "metadata": {},
   "source": [
    "# 函数 \n",
    "<font size=4> _**<font color=ff8888>def</font> <font color=lightgreen>function</font>( <font color=orange>vars</font> ) : <font color=ff8888>... return</font> <font color=skyblue>expr</font>**_ : 一般函数</font>  \n",
    "<font size=4> _**<font color=orange>function</font> <font color=ff8888>= lambda</font> <font color=orange>vars</font> : <font color=skyblue>expr</font>**_ ： _**lambda**_ 函数</font>"
   ]
  },
  {
   "cell_type": "markdown",
   "metadata": {},
   "source": [
    "## 一般函数"
   ]
  },
  {
   "cell_type": "code",
   "execution_count": 4,
   "metadata": {},
   "outputs": [
    {
     "data": {
      "text/plain": [
       "(1, 18)"
      ]
     },
     "execution_count": 4,
     "metadata": {},
     "output_type": "execute_result"
    }
   ],
   "source": [
    "def f(x, y, z=2):\n",
    "    if z > 1:\n",
    "        return z*(x+y)\n",
    "    else:\n",
    "        return z*(x-y)\n",
    "f(5, 4, 1), f(5, 4)"
   ]
  },
  {
   "cell_type": "code",
   "execution_count": 5,
   "metadata": {},
   "outputs": [
    {
     "data": {
      "text/plain": [
       "(5, 6, 7)"
      ]
     },
     "execution_count": 5,
     "metadata": {},
     "output_type": "execute_result"
    }
   ],
   "source": [
    "def f():\n",
    "    a = 5\n",
    "    b = 6\n",
    "    c = 7\n",
    "    return a, b, c\n",
    "f()"
   ]
  },
  {
   "cell_type": "markdown",
   "metadata": {},
   "source": [
    "## 函数的嵌套调用"
   ]
  },
  {
   "cell_type": "code",
   "execution_count": 6,
   "metadata": {},
   "outputs": [
    {
     "name": "stdout",
     "output_type": "stream",
     "text": [
      "['Alabama', 'Georgia', 'Georgia', 'Georgia', 'Florida', 'South      Carolina', 'West    Virginia']\n",
      "['Alabama', 'Georgia', 'Georgia', 'Georgia', 'Florida', 'South      Carolina', 'West    Virginia']\n"
     ]
    }
   ],
   "source": [
    "import re\n",
    "\n",
    "#常规函数\n",
    "def clean_strings_v1(strings):\n",
    "    result = []\n",
    "    for string in strings:\n",
    "        string = string.strip()       # 等价于string = str.strip(string)\n",
    "        string = re.sub('[!#?]', '', string)\n",
    "        string = string.title()\n",
    "        result.append(string)\n",
    "    return result\n",
    "\n",
    "# 函数嵌套调用\n",
    "def remove_marks(string):              # 正则化函数\n",
    "    return re.sub('[!#?]', '', string) # 正则表达式\n",
    "def clean_strings_v2(strings, opts):  # 清理操作函数，strings:操作对象， opts:操作函数\n",
    "    result = []\n",
    "    for string in strings:\n",
    "        for function in opts:          # 遍历opts中的函数依次使用\n",
    "            string = function(string)  # 调用函数function，function的使用等价于function所指代的函数\n",
    "        result.append(string)          # function可以是现成的，也可以是自己定义的\n",
    "    return result\n",
    "\n",
    "# 主函数\n",
    "strings = [' A???laba#ma ',\t'Geo#r?gia!', 'Geor?#gia', 'georgia', \n",
    "           'FlOrIda', 'south      carolina##', 'West    virginia?']\n",
    "clearn_opts = [str.strip, remove_marks, str.title]  # 函数指令依次是：去除空白符， 正则化处理， 正确的大小写\n",
    "\n",
    "print(clean_strings_v1(strings=strings))\n",
    "print(clean_strings_v2(strings=strings, opts=clearn_opts))"
   ]
  },
  {
   "cell_type": "markdown",
   "metadata": {},
   "source": [
    "## _**lambda**_ 函数 "
   ]
  },
  {
   "cell_type": "code",
   "execution_count": 7,
   "metadata": {},
   "outputs": [
    {
     "name": "stdout",
     "output_type": "stream",
     "text": [
      "[' Alabama ', 'Georgia', 'Georgia', 'georgia', 'FlOrIda', 'south      carolina', 'West    virginia']\n"
     ]
    }
   ],
   "source": [
    "import re\n",
    "remove_marks = lambda string: re.sub('[!#?]', '', string)\n",
    "print(clean_strings_v2(strings, opts = [remove_marks]))"
   ]
  },
  {
   "cell_type": "code",
   "execution_count": 8,
   "metadata": {},
   "outputs": [
    {
     "data": {
      "text/plain": [
       "['zzzzz', 'foo', 'app', 'abab', 'card']"
      ]
     },
     "execution_count": 8,
     "metadata": {},
     "output_type": "execute_result"
    }
   ],
   "source": [
    "strings = ['foo', 'card', 'app', 'zzzzz', 'abab']\n",
    "strings.sort(key = lambda x: len(set(x))) # 根据各字符串不同字母数量进行排序\n",
    "strings\n",
    "# 在排序之前, strings里的所有元素都会执行key的函数, 这里指的就是lambda函数\n",
    "# 计算出值之后, 赋值给key, 然后sort()是根据key值进行排序"
   ]
  },
  {
   "cell_type": "markdown",
   "metadata": {},
   "source": [
    "# 生成器及生成器表达式  \n",
    "<font size=4> _**<font color=ff8888>def</font> <font color=lightgreen>generator</font>( <font color=orange>vars</font> ) : <font color=ff8888> for ... : yield</font> <font color=skyblue>expr</font>**_ </font>  \n",
    "<font size=4> _**<font color=orange>gen</font> <font color=ff8888>=</font> ( <font color=skyblue>expr</font> <font color=ff8888>for</font> <font color=orange>val</font> <font color=ff8888>in</font> <font color=orange>collection</font> <font color=ff8888>if</font> <font color=skyblue>condition</font> )**_ </font>"
   ]
  },
  {
   "cell_type": "markdown",
   "metadata": {},
   "source": [
    "## 生成器"
   ]
  },
  {
   "cell_type": "markdown",
   "metadata": {},
   "source": [
    "构造一种可迭代的对象，从而可对其进行迭代，迭代的过程才是函数被执行的过程"
   ]
  },
  {
   "cell_type": "code",
   "execution_count": 9,
   "metadata": {},
   "outputs": [
    {
     "name": "stdout",
     "output_type": "stream",
     "text": [
      "Generating squares from 1 to 9\n",
      "1\n",
      "4\n",
      "9\n"
     ]
    }
   ],
   "source": [
    "def generator(var=10):\n",
    "    print('Generating squares from 1 to {0}'.format(var ** 2))\n",
    "    for i in range(1, var+1):\n",
    "        yield i ** 2\n",
    "\n",
    "gen = generator(var=3) #生成可迭代的对象——生成器gen\n",
    "for e in gen: # 迭代生成器时，才开始执行程序\n",
    "    print(e)"
   ]
  },
  {
   "cell_type": "markdown",
   "metadata": {},
   "source": [
    "## 生成器表达式"
   ]
  },
  {
   "cell_type": "code",
   "execution_count": 10,
   "metadata": {},
   "outputs": [
    {
     "name": "stdout",
     "output_type": "stream",
     "text": [
      "1\n",
      "4\n",
      "9\n"
     ]
    }
   ],
   "source": [
    "gen = (x**2 for x in range(1, 3+1))\n",
    "for e in gen:\n",
    "    print(e)"
   ]
  },
  {
   "cell_type": "code",
   "execution_count": 11,
   "metadata": {},
   "outputs": [
    {
     "data": {
      "text/plain": [
       "328350"
      ]
     },
     "execution_count": 11,
     "metadata": {},
     "output_type": "execute_result"
    }
   ],
   "source": [
    "sum(i**2 for i in range(100))"
   ]
  },
  {
   "cell_type": "code",
   "execution_count": 12,
   "metadata": {},
   "outputs": [
    {
     "data": {
      "text/plain": [
       "{0: 0, 1: 1, 2: 4, 3: 9, 4: 16}"
      ]
     },
     "execution_count": 12,
     "metadata": {},
     "output_type": "execute_result"
    }
   ],
   "source": [
    "dict((i, i**2) for i in range(5))"
   ]
  },
  {
   "cell_type": "markdown",
   "metadata": {},
   "source": [
    "# 异常处理   \n",
    "<font size=4> _**<font color=ff8888>try ... except ...</font>**_ </font>"
   ]
  },
  {
   "cell_type": "code",
   "execution_count": 13,
   "metadata": {},
   "outputs": [
    {
     "data": {
      "text/plain": [
       "('ValueError!', 'TypeError!')"
      ]
     },
     "execution_count": 13,
     "metadata": {},
     "output_type": "execute_result"
    }
   ],
   "source": [
    "def attempt_float(x):\n",
    "    try:\n",
    "        return float(x)\n",
    "    except(ValueError):\n",
    "        return 'ValueError!'\n",
    "    except(TypeError):\n",
    "        return 'TypeError!'\n",
    "attempt_float('something'), attempt_float((1, 2))"
   ]
  },
  {
   "cell_type": "code",
   "execution_count": 14,
   "metadata": {},
   "outputs": [
    {
     "data": {
      "text/plain": [
       "('Error!', 'Error!')"
      ]
     },
     "execution_count": 14,
     "metadata": {},
     "output_type": "execute_result"
    }
   ],
   "source": [
    "def attempt_float(x):\n",
    "    try:\n",
    "        return float(x)\n",
    "    except(ValueError, TypeError):\n",
    "        return 'Error!'\n",
    "attempt_float('something'), attempt_float((1, 2))"
   ]
  },
  {
   "cell_type": "code",
   "execution_count": 15,
   "metadata": {},
   "outputs": [
    {
     "name": "stdout",
     "output_type": "stream",
     "text": [
      "Succeeded\n"
     ]
    }
   ],
   "source": [
    "f = open('try.txt', 'w')\n",
    "try:\n",
    "    f.writelines(x for x in ['x', 'y', 'z'])\n",
    "except:\n",
    "    print('Failed')\n",
    "else:\n",
    "    print('Succeeded')\n",
    "finally:\n",
    "    f.close()"
   ]
  },
  {
   "cell_type": "markdown",
   "metadata": {},
   "source": [
    "# 文件"
   ]
  },
  {
   "cell_type": "markdown",
   "metadata": {},
   "source": [
    "## _**<font color=skyblue><font color=orange>f</font> <font color=ff8888>=</font> open( <font color=orange>path</font>, <font color=orange>mode</font>, <font color=orange>encoding</font> ) <font color=ff8888>...</font> <font color=orange>f</font>.close() </font>**_ : 文件打开"
   ]
  },
  {
   "cell_type": "code",
   "execution_count": 16,
   "metadata": {},
   "outputs": [],
   "source": [
    "import os\n",
    "path = os.getcwd()+'\\\\file.txt'"
   ]
  },
  {
   "cell_type": "code",
   "execution_count": 17,
   "metadata": {},
   "outputs": [
    {
     "name": "stdout",
     "output_type": "stream",
     "text": [
      "['致橡树：\\n', '我如果爱你——\\n', '绝不像攀援的凌霄花，\\n', '借你的高枝炫耀自己；\\n', '我如果爱你——\\n', '绝不学痴情的鸟儿，\\n', '为绿荫重复单调的歌曲；\\n', '也不止像泉源，\\n', '常年送来清凉的慰藉；\\n', '也不止像险峰，\\n', '增加你的高度，衬托你的威仪。\\n', '甚至日光，\\n', '甚至春雨。']\n"
     ]
    }
   ],
   "source": [
    "f = open(path)\n",
    "print([line for line in f]) \n",
    "f.close()"
   ]
  },
  {
   "cell_type": "code",
   "execution_count": 18,
   "metadata": {},
   "outputs": [
    {
     "name": "stdout",
     "output_type": "stream",
     "text": [
      "['致橡树：', '我如果爱你——', '绝不像攀援的凌霄花，', '借你的高枝炫耀自己；', '我如果爱你——', '绝不学痴情的鸟儿，', '为绿荫重复单调的歌曲；', '也不止像泉源，', '常年送来清凉的慰藉；', '也不止像险峰，', '增加你的高度，衬托你的威仪。', '甚至日光，', '甚至春雨。']\n"
     ]
    }
   ],
   "source": [
    "f = open(path)\n",
    "print([line.rstrip() for line in f]) # rstrip删除字符串末尾的指定字符\n",
    "f.close()"
   ]
  },
  {
   "cell_type": "markdown",
   "metadata": {},
   "source": [
    "## _**<font color=skyblue><font color=ff8888>with</font> open( <font color=orange>path</font> ) <font color=ff8888>as</font> <font color=orange>f</font> :  </font>**_ : 文件打开"
   ]
  },
  {
   "cell_type": "code",
   "execution_count": 19,
   "metadata": {},
   "outputs": [
    {
     "name": "stdout",
     "output_type": "stream",
     "text": [
      "['致橡树：', '我如果爱你——', '绝不像攀援的凌霄花，', '借你的高枝炫耀自己；', '我如果爱你——', '绝不学痴情的鸟儿，', '为绿荫重复单调的歌曲；', '也不止像泉源，', '常年送来清凉的慰藉；', '也不止像险峰，', '增加你的高度，衬托你的威仪。', '甚至日光，', '甚至春雨。']\n"
     ]
    }
   ],
   "source": [
    "with open(path) as f:\n",
    "    print([line.rstrip() for line in f])"
   ]
  },
  {
   "cell_type": "markdown",
   "metadata": {},
   "source": [
    "### 读取模式\n",
    "![jupyter](./images/1.jpg)"
   ]
  },
  {
   "cell_type": "markdown",
   "metadata": {},
   "source": [
    "## 文件读写方法 \n",
    "![jupyter](./images/2.jpg)"
   ]
  },
  {
   "cell_type": "markdown",
   "metadata": {},
   "source": [
    "## _**<font color = skyblue> <font color=orange>f</font>.tell( ), <font color=orange>f</font>.seek( <font color=orange>position</font> ), <font color=orange>f</font>.read( <font color=orange>size</font> ),  <font color=orange>f</font>.readlines( <font color=orange>hint</font> )</font>**_"
   ]
  },
  {
   "cell_type": "code",
   "execution_count": 20,
   "metadata": {},
   "outputs": [
    {
     "name": "stdout",
     "output_type": "stream",
     "text": [
      "0\n",
      "18\n",
      "8\n",
      "\n",
      "我如果爱\n"
     ]
    }
   ],
   "source": [
    "with open(path) as f:\n",
    "    print(f.tell()) # 从0开始\n",
    "    l = f.read(9) # 从当前位置向前读取9个字符\n",
    "    print(f.tell()) #读取的字节数\n",
    "    f.seek(8)  #定位文件中的位置，单位：字节\n",
    "    print(f.tell())\n",
    "    print(f.read(5))"
   ]
  },
  {
   "cell_type": "markdown",
   "metadata": {},
   "source": [
    "## _**<font color = skyblue><font color=orange>f</font>.write( <font color=orange>text</font> ), <font color=orange>f</font>.writelines( <font color=orange>lines</font> )</font>**_"
   ]
  },
  {
   "cell_type": "code",
   "execution_count": 21,
   "metadata": {},
   "outputs": [
    {
     "name": "stdout",
     "output_type": "stream",
     "text": [
      "['ZHI XIANG SHU\\n', '致橡树：\\n']\n"
     ]
    }
   ],
   "source": [
    "path_out = os.getcwd() + '\\\\out.txt'\n",
    "with open(path_out, mode='w') as f_out:\n",
    "    f_in = open(path)\n",
    "    f_out.write('ZHI XIANG SHU\\n')\n",
    "    f_out.writelines(x for x in f_in)\n",
    "    f_in.close()\n",
    "with open(path_out) as f:\n",
    "    lines = f.readlines(14) # 从当前位置向前读到第14个字符所在的行\n",
    "    print(lines)"
   ]
  },
  {
   "cell_type": "markdown",
   "metadata": {},
   "source": [
    "<font size=3> 字符模式（str: unicode）与字节模式（编码: encode）</font>  \n",
    "> <font size=3>字符：' ...... '</font>  \n",
    "> <font size=3>字节：***<font color = ff8888>b</font>***' ...... '</font>"
   ]
  },
  {
   "cell_type": "code",
   "execution_count": 22,
   "metadata": {},
   "outputs": [
    {
     "name": "stdout",
     "output_type": "stream",
     "text": [
      "致橡树：\n",
      "我如果爱你\n",
      "b'\\xd6\\xc2\\xcf\\xf0\\xca\\xf7\\xa3\\xba\\n\\xce\\xd2\\xc8\\xe7\\xb9\\xfb\\xb0\\xae\\xc4\\xe3'\n",
      "b'\\xd6\\xc2\\xcf\\xf0\\xca\\xf7\\xa3\\xba\\r\\n'\n"
     ]
    }
   ],
   "source": [
    "with open(path) as f_str:\n",
    "    data_str = f_str.read(10)  ##向前读10个字符\n",
    "with open(path, 'rb') as f_gbk:\n",
    "    data_gbk = f_gbk.read(10)  ##向前读10个字节\n",
    "print(data_str)\n",
    "print(data_str.encode('gbk'))\n",
    "print(data_gbk)\n",
    "\n",
    "path_out = os.getcwd() + '\\\\out_utf8.txt'\n",
    "with open(path_out, mode='w', encoding='utf8') as f_out:\n",
    "    f_in = open(path)\n",
    "    f_out.writelines(x for x in f_in)\n",
    "    f_in.close()\n"
   ]
  },
  {
   "cell_type": "markdown",
   "metadata": {},
   "source": [
    "<font size=3><font color=ff8888>注意</font> : 文件是什么编码写的，就应该用对应编码格式读</font>"
   ]
  },
  {
   "cell_type": "code",
   "execution_count": 23,
   "metadata": {},
   "outputs": [
    {
     "name": "stdout",
     "output_type": "stream",
     "text": [
      "致橡树\n",
      "鑷存℃\n",
      "\n",
      "㡪\n",
      "\n",
      "致橡树\n"
     ]
    }
   ],
   "source": [
    "path_gbk = os.getcwd() + '\\\\file.txt'\n",
    "path_utf8 = os.getcwd() + '\\\\out_utf8.txt'\n",
    "with open(path_utf8, 'r+', encoding='utf8') as f_utf_utf:\n",
    "    data_utf_utf = f_utf_utf.read(3)\n",
    "with open(path_utf8, 'r+', encoding='gbk', errors='ignore') as f_utf_gbk:\n",
    "    data_utf_gbk = f_utf_gbk.read(3) \n",
    "with open(path_gbk, 'r+', encoding='utf8', errors='ignore') as f_gbk_utf:\n",
    "    data_gbk_utf= f_gbk_utf.read(3)\n",
    "with open(path_gbk, 'r+', encoding='gbk') as f_gbk_gbk:\n",
    "    data_gbk_gbk = f_gbk_gbk.read(3) \n",
    "print(data_utf_utf)\n",
    "print(data_utf_gbk)\n",
    "print(data_gbk_utf)\n",
    "print(data_gbk_gbk)"
   ]
  }
 ],
 "metadata": {
  "interpreter": {
   "hash": "68e46c7c86c1cc2409d6e31d27c78e45e4d67aa8b7a5fb870e63d2734be169e0"
  },
  "kernelspec": {
   "display_name": "Python 3",
   "language": "python",
   "name": "python3"
  },
  "language_info": {
   "codemirror_mode": {
    "name": "ipython",
    "version": 3
   },
   "file_extension": ".py",
   "mimetype": "text/x-python",
   "name": "python",
   "nbconvert_exporter": "python",
   "pygments_lexer": "ipython3",
   "version": "3.8.0"
  }
 },
 "nbformat": 4,
 "nbformat_minor": 2
}
