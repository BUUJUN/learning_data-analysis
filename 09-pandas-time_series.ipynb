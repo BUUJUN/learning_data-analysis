{
 "cells": [
  {
   "cell_type": "markdown",
   "metadata": {},
   "source": [
    "time series"
   ]
  },
  {
   "cell_type": "code",
   "execution_count": 1,
   "metadata": {},
   "outputs": [],
   "source": [
    "import pandas as pd\n",
    "from datetime import datetime\n",
    "from datetime import timedelta\n",
    "from dateutil.parser import parse\n",
    "import numpy as np"
   ]
  },
  {
   "cell_type": "markdown",
   "metadata": {},
   "source": [
    "# 日期和时间数据的类型"
   ]
  },
  {
   "cell_type": "markdown",
   "metadata": {},
   "source": [
    "## <font color=orange>_**datetime**_</font> 类型"
   ]
  },
  {
   "cell_type": "code",
   "execution_count": 2,
   "metadata": {},
   "outputs": [
    {
     "data": {
      "text/plain": [
       "datetime.datetime(2021, 10, 9, 21, 38, 2, 642419)"
      ]
     },
     "execution_count": 2,
     "metadata": {},
     "output_type": "execute_result"
    }
   ],
   "source": [
    "now = datetime.now()\n",
    "now"
   ]
  },
  {
   "cell_type": "code",
   "execution_count": 3,
   "metadata": {},
   "outputs": [
    {
     "data": {
      "text/plain": [
       "(2021, 10, 9, 21, 38, 2)"
      ]
     },
     "execution_count": 3,
     "metadata": {},
     "output_type": "execute_result"
    }
   ],
   "source": [
    "now.year, now.month, now.day, now.hour, now.minute, now.second"
   ]
  },
  {
   "cell_type": "markdown",
   "metadata": {},
   "source": [
    "## <font color=orange>_**timedelta**_</font> 类型"
   ]
  },
  {
   "cell_type": "code",
   "execution_count": 4,
   "metadata": {},
   "outputs": [
    {
     "data": {
      "text/plain": [
       "datetime.timedelta(days=731, seconds=520)"
      ]
     },
     "execution_count": 4,
     "metadata": {},
     "output_type": "execute_result"
    }
   ],
   "source": [
    "delta = datetime(2021, 5, 1, 0, 8, 40) - datetime(2019, 5, 1)\n",
    "delta"
   ]
  },
  {
   "cell_type": "code",
   "execution_count": 5,
   "metadata": {},
   "outputs": [
    {
     "data": {
      "text/plain": [
       "datetime.datetime(2019, 5, 21, 0, 0, 20)"
      ]
     },
     "execution_count": 5,
     "metadata": {},
     "output_type": "execute_result"
    }
   ],
   "source": [
    "start = datetime(2019, 5, 1)\n",
    "start + timedelta(20, 20)"
   ]
  },
  {
   "cell_type": "markdown",
   "metadata": {},
   "source": [
    "# datetime 与 string 的转换"
   ]
  },
  {
   "cell_type": "markdown",
   "metadata": {},
   "source": [
    "## <font color=skyblue> _**pd.to_datetime( <font color=orange>list</font> )**_ </font>: datetime → string"
   ]
  },
  {
   "cell_type": "markdown",
   "metadata": {},
   "source": [
    "<font size=3>to_datetime 方法可以解析多种不同的日期表示形式</font>"
   ]
  },
  {
   "cell_type": "code",
   "execution_count": 6,
   "metadata": {},
   "outputs": [
    {
     "data": {
      "text/plain": [
       "DatetimeIndex(['2019-05-01', '2021-05-01'], dtype='datetime64[ns]', freq=None)"
      ]
     },
     "execution_count": 6,
     "metadata": {},
     "output_type": "execute_result"
    }
   ],
   "source": [
    "datestrs = ['2019/5/1/00:00:00', '2021-5-1 00:00:00']\n",
    "pd.to_datetime(datestrs)"
   ]
  },
  {
   "cell_type": "markdown",
   "metadata": {},
   "source": [
    "## <font color=skyblue> _**str(<font color=orange>datetime</font>), <font color=orange>datetime</font>.strftime(<font color=ff8888>'%Y-%m-%d'</font>)**_ </font> : datetime → string"
   ]
  },
  {
   "cell_type": "code",
   "execution_count": 7,
   "metadata": {},
   "outputs": [
    {
     "data": {
      "text/plain": [
       "(datetime.datetime(2021, 10, 9, 21, 38, 2, 880786),\n",
       " '2021-10-09 21:38:02.880786',\n",
       " '2021-10-09')"
      ]
     },
     "execution_count": 7,
     "metadata": {},
     "output_type": "execute_result"
    }
   ],
   "source": [
    "now = datetime.now()\n",
    "now, str(now), now.strftime('%Y-%m-%d')"
   ]
  },
  {
   "cell_type": "markdown",
   "metadata": {},
   "source": [
    "<font size=3>_**<font color=orange>datetime</font>**_ 格式定义 </font>  "
   ]
  },
  {
   "cell_type": "markdown",
   "metadata": {},
   "source": [
    "|**<font size=3 color=skyblue>代码</font>**  | **<font size=3 color=skyblue>说明</font>**     |\n",
    "|---------------------------------------------|------------------------------------------------|\n",
    "| <font size=3>%Y, %y </font>                     | <font size=3> 4 位数的年, 2 位数的年 </font>       | \n",
    "| <font size=3>%m , <font color=ff8888>%h </font></font>                    | <font size=3> 2 位数的月 [01, 12], <font color=ff8888>英文缩写表示的月 [Jan, Feb, ..., Dec] </font></font>       |\n",
    "| <font size=3>%d </font>                     | <font size=3> 2 位数的日 [01, 31] </font>       | \n",
    "| | | \n",
    "| <font size=3>%H , <font color=ff8888>%l </font></font>                     | <font size=3> 24 小时制的时 [00, 23], <font color=ff8888> 12 小时制的时 [01, 12] </font> </font>       |\n",
    "| <font size=3>%M, %S </font>                     | <font size=3> 2 位数的分 [00, 59], 2 位数的秒 [00, 59] </font>       | \n",
    "| | |\n",
    "| <font size=3>%w </font>                     | <font size=3> 整数表示的星期几 [0, 6]</font>       |  \n",
    "| <font size=3>%W </font>                     | <font size=3> 2 位数的每年的第几周 [00， 53], 以星期一为每周的开始 </font>| \n",
    "| <font size=3 color=ff8888>%U </font>        | <font size=3> 2 位数的每年的第几周 [00， 53], 以星期日为每周的开始 </font>|\n",
    "| | |\n",
    "| <font size=3>%F </font>                     | <font size=3> %Y-%m-%d </font>       | \n",
    "| <font size=3>%D </font>                     | <font size=3> %m/%d/%y </font>       |"
   ]
  },
  {
   "cell_type": "markdown",
   "metadata": {},
   "source": [
    "## <font color=skyblue> _**datetime.strptime(<font color=orange>string</font>, <font color=ff8888>'%Y-%m-%d'</font>)**_ </font>: string → datetime"
   ]
  },
  {
   "cell_type": "code",
   "execution_count": 8,
   "metadata": {},
   "outputs": [
    {
     "data": {
      "text/plain": [
       "datetime.datetime(2019, 5, 1, 0, 0)"
      ]
     },
     "execution_count": 8,
     "metadata": {},
     "output_type": "execute_result"
    }
   ],
   "source": [
    "value = '2019-05-01'\n",
    "datetime.strptime(value, '%Y-%m-%d')"
   ]
  },
  {
   "cell_type": "code",
   "execution_count": 9,
   "metadata": {},
   "outputs": [
    {
     "data": {
      "text/plain": [
       "[datetime.datetime(1998, 7, 25, 0, 0), datetime.datetime(1997, 11, 24, 0, 0)]"
      ]
     },
     "execution_count": 9,
     "metadata": {},
     "output_type": "execute_result"
    }
   ],
   "source": [
    "datestrs = ['7/25/1998', '11/24/1997']\n",
    "[datetime.strptime(x, '%m/%d/%Y') for x in datestrs]"
   ]
  },
  {
   "cell_type": "markdown",
   "metadata": {},
   "source": [
    "## <font color=skyblue> _**dateutil.parser.parse( <font color=orange>string</font>, <font color=orange>dayfirst</font> )**_ </font>: string → datetime"
   ]
  },
  {
   "cell_type": "code",
   "execution_count": 10,
   "metadata": {},
   "outputs": [
    {
     "data": {
      "text/plain": [
       "datetime.datetime(2019, 5, 1, 0, 0)"
      ]
     },
     "execution_count": 10,
     "metadata": {},
     "output_type": "execute_result"
    }
   ],
   "source": [
    "parse('2019-05-01')"
   ]
  },
  {
   "cell_type": "code",
   "execution_count": 11,
   "metadata": {},
   "outputs": [
    {
     "data": {
      "text/plain": [
       "datetime.datetime(2019, 5, 1, 22, 45)"
      ]
     },
     "execution_count": 11,
     "metadata": {},
     "output_type": "execute_result"
    }
   ],
   "source": [
    "parse('May 1, 2019 10:45 PM')"
   ]
  },
  {
   "cell_type": "markdown",
   "metadata": {},
   "source": [
    "<font size=3>在国际通用的格式中, 日出现在月的前面很普遍, 传入 dayfirst=True 即可解决这个问题</font>  "
   ]
  },
  {
   "cell_type": "code",
   "execution_count": 12,
   "metadata": {},
   "outputs": [
    {
     "data": {
      "text/plain": [
       "(datetime.datetime(2019, 1, 5, 0, 0), datetime.datetime(2019, 5, 1, 0, 0))"
      ]
     },
     "execution_count": 12,
     "metadata": {},
     "output_type": "execute_result"
    }
   ],
   "source": [
    "parse('1/5/2019'), parse('1/5/2019', dayfirst=True)"
   ]
  },
  {
   "cell_type": "markdown",
   "metadata": {},
   "source": [
    "# 时间序列的索引"
   ]
  },
  {
   "cell_type": "code",
   "execution_count": 13,
   "metadata": {},
   "outputs": [
    {
     "data": {
      "text/plain": [
       "2011-01-02   -1.248703\n",
       "2011-01-05   -0.072871\n",
       "2011-01-07    1.672176\n",
       "2011-01-08   -0.761810\n",
       "2011-01-10   -0.044322\n",
       "2011-01-12   -0.701274\n",
       "dtype: float64"
      ]
     },
     "execution_count": 13,
     "metadata": {},
     "output_type": "execute_result"
    }
   ],
   "source": [
    "dates = [datetime(2011, 1, 2), datetime(2011, 1, 5),\n",
    "         datetime(2011, 1, 7), datetime(2011, 1, 8),\n",
    "         datetime(2011, 1, 10), datetime(2011, 1, 12)]\n",
    "ts = pd.Series(np.random.randn(6), index=dates)\n",
    "ts"
   ]
  },
  {
   "cell_type": "markdown",
   "metadata": {},
   "source": [
    "<font size=3>可以传入一个可以被解释为日期的字符串进行切片</font>"
   ]
  },
  {
   "cell_type": "code",
   "execution_count": 14,
   "metadata": {},
   "outputs": [
    {
     "data": {
      "text/plain": [
       "2000-01-01    0\n",
       "2000-01-02    1\n",
       "2000-01-03    2\n",
       "2000-01-04    3\n",
       "2000-01-05    4\n",
       "Freq: D, dtype: int32"
      ]
     },
     "execution_count": 14,
     "metadata": {},
     "output_type": "execute_result"
    }
   ],
   "source": [
    "ts = pd.Series(np.arange(1000),\n",
    "                      index=pd.date_range('1/1/2000', periods=1000))\n",
    "ts.head()"
   ]
  },
  {
   "cell_type": "code",
   "execution_count": 15,
   "metadata": {},
   "outputs": [
    {
     "data": {
      "text/plain": [
       "2000-01-01    0\n",
       "2000-01-02    1\n",
       "2000-01-03    2\n",
       "Freq: D, dtype: int32"
      ]
     },
     "execution_count": 15,
     "metadata": {},
     "output_type": "execute_result"
    }
   ],
   "source": [
    "ts['2000-1-1':'2000-1-3']"
   ]
  },
  {
   "cell_type": "markdown",
   "metadata": {},
   "source": [
    "<font size=3>对于较长的时间序列, 只需传入“年”或“年月”即可轻松选取数据的切片</font>"
   ]
  },
  {
   "cell_type": "code",
   "execution_count": 16,
   "metadata": {},
   "outputs": [
    {
     "data": {
      "text/plain": [
       "2001-01-01    366\n",
       "2001-01-02    367\n",
       "2001-01-03    368\n",
       "2001-01-04    369\n",
       "2001-01-05    370\n",
       "Freq: D, dtype: int32"
      ]
     },
     "execution_count": 16,
     "metadata": {},
     "output_type": "execute_result"
    }
   ],
   "source": [
    "ts['2001'].head()"
   ]
  },
  {
   "cell_type": "code",
   "execution_count": 17,
   "metadata": {},
   "outputs": [
    {
     "data": {
      "text/plain": [
       "2001-02-01    397\n",
       "2001-02-02    398\n",
       "2001-02-03    399\n",
       "2001-02-04    400\n",
       "2001-02-05    401\n",
       "Freq: D, dtype: int32"
      ]
     },
     "execution_count": 17,
     "metadata": {},
     "output_type": "execute_result"
    }
   ],
   "source": [
    "ts['2001-2'].head()"
   ]
  },
  {
   "cell_type": "markdown",
   "metadata": {},
   "source": [
    "<font size=3>传入 datetime 对象也可以进行切片</font>"
   ]
  },
  {
   "cell_type": "code",
   "execution_count": 18,
   "metadata": {},
   "outputs": [
    {
     "data": {
      "text/plain": [
       "2001-01-07    372\n",
       "2001-01-08    373\n",
       "Freq: D, dtype: int32"
      ]
     },
     "execution_count": 18,
     "metadata": {},
     "output_type": "execute_result"
    }
   ],
   "source": [
    "ts[datetime(2001,1,7):datetime(2001,1,8)]"
   ]
  },
  {
   "cell_type": "markdown",
   "metadata": {},
   "source": [
    "## _**<font color=skyblue><font color=orange>ts</font>.truncate( <font color=orange>before</font>, <font color=orange>after</font> )</font>**_ :"
   ]
  },
  {
   "cell_type": "markdown",
   "metadata": {},
   "source": [
    "<font size=3>before : 向后切片</font>"
   ]
  },
  {
   "cell_type": "code",
   "execution_count": 19,
   "metadata": {},
   "outputs": [
    {
     "data": {
      "text/plain": [
       "2001-09-01    609\n",
       "2001-09-02    610\n",
       "2001-09-03    611\n",
       "2001-09-04    612\n",
       "2001-09-05    613\n",
       "Freq: D, dtype: int32"
      ]
     },
     "execution_count": 19,
     "metadata": {},
     "output_type": "execute_result"
    }
   ],
   "source": [
    "ts.truncate(before='2001-9').head()"
   ]
  },
  {
   "cell_type": "markdown",
   "metadata": {},
   "source": [
    "<font size=3>after : 向前切片</font>"
   ]
  },
  {
   "cell_type": "code",
   "execution_count": 20,
   "metadata": {},
   "outputs": [
    {
     "data": {
      "text/plain": [
       "2000-01-01    0\n",
       "2000-01-02    1\n",
       "2000-01-03    2\n",
       "2000-01-04    3\n",
       "2000-01-05    4\n",
       "Freq: D, dtype: int32"
      ]
     },
     "execution_count": 20,
     "metadata": {},
     "output_type": "execute_result"
    }
   ],
   "source": [
    "ts.truncate(after='2000-2-4').head()"
   ]
  },
  {
   "cell_type": "code",
   "execution_count": 21,
   "metadata": {},
   "outputs": [
    {
     "data": {
      "text/plain": [
       "2000-01-01    0\n",
       "2000-01-02    1\n",
       "2000-01-03    2\n",
       "2000-01-04    3\n",
       "Freq: D, dtype: int32"
      ]
     },
     "execution_count": 21,
     "metadata": {},
     "output_type": "execute_result"
    }
   ],
   "source": [
    "ts.truncate(before = '2000-1-1', after='2000-1-4')"
   ]
  },
  {
   "cell_type": "markdown",
   "metadata": {},
   "source": [
    "# 时间的范围、频率和位移"
   ]
  },
  {
   "cell_type": "markdown",
   "metadata": {},
   "source": [
    "## _**<font color=skyblue>pd.date_range( <font color=orange>start</font>, <font color=orange>end</font>, <font color=orange>periods</font>, <font color=orange>freq</font> )</font>**_ :"
   ]
  },
  {
   "cell_type": "code",
   "execution_count": 22,
   "metadata": {},
   "outputs": [
    {
     "data": {
      "text/plain": [
       "DatetimeIndex(['2019-05-01', '2019-05-02', '2019-05-03', '2019-05-04',\n",
       "               '2019-05-05', '2019-05-06', '2019-05-07', '2019-05-08',\n",
       "               '2019-05-09', '2019-05-10',\n",
       "               ...\n",
       "               '2021-04-22', '2021-04-23', '2021-04-24', '2021-04-25',\n",
       "               '2021-04-26', '2021-04-27', '2021-04-28', '2021-04-29',\n",
       "               '2021-04-30', '2021-05-01'],\n",
       "              dtype='datetime64[ns]', length=732, freq='D')"
      ]
     },
     "execution_count": 22,
     "metadata": {},
     "output_type": "execute_result"
    }
   ],
   "source": [
    "pd.date_range('2019-05-01', '2021-05-01')"
   ]
  },
  {
   "cell_type": "code",
   "execution_count": 23,
   "metadata": {},
   "outputs": [
    {
     "data": {
      "text/plain": [
       "DatetimeIndex(['2019-05-01', '2019-05-02', '2019-05-03'], dtype='datetime64[ns]', freq='D')"
      ]
     },
     "execution_count": 23,
     "metadata": {},
     "output_type": "execute_result"
    }
   ],
   "source": [
    "pd.date_range('2019-05-01', periods=3)"
   ]
  },
  {
   "cell_type": "markdown",
   "metadata": {},
   "source": [
    "<font size=3> _**<font color=orange>freq</font> = 'BM'**_ : 'business end of month' 每月最后一个工作日</font>  \n",
    "  \n",
    "<font size=3> **<font color=ff8888>时间的基础频率</font>** </font>  \n"
   ]
  },
  {
   "cell_type": "markdown",
   "metadata": {},
   "source": [
    "| _**<font size=3 color=orange>freq</font>**_  | **<font size=3 color=ff8888>说明</font>**     |\n",
    "|---------------------------------------------|------------------------------------------------|\n",
    "| <font size=3 color=skyblue> H, T/min, S, L/ms, U</font>              | <font size=3 color=skyblue> 每小时, 每分钟, 每秒, 每毫秒, 每微秒 </font>|\n",
    "| <font size=3 color=skyblue> D, M, MS </font>                         | <font size=3 color=skyblue> 每日历日, 每月的最后一个日历日, 每月的第一个日历日 </font>       | \n",
    "| <font size=3 color=skyblue> B, BM, BMS </font>                       | <font size=3 color=skyblue> 每工作日, 每月的最后一个工作日, 每月的第一个工作日 </font>|\n",
    "| <font size=3 color=lightgreen> W-MON, W-TUE, ..., W-SUN </font>        | <font size=3 color=lightgreen> 每周, 从指定的星期几开始算起  </font>|\n",
    "| <font size=3 color=lightgreen> WOM-1MON, WOM-2MON, ..., WOM-4SUN </font>| <font size=3 color=lightgreen> 每月, 从指定的第几周的星期几开始算起 </font>|\n",
    "| <font size=3 color=pink> Q-JAN, Q-FEB, ..., Q-DEC </font>                    | <font size=3 color=pink> 每季, 从指定的月份的最后一个日历日开始算起 </font>|\n",
    "| <font size=3 color=pink> QS-JAN, QS-FEB, ..., QS-DEC </font>                    | <font size=3 color=pink> 每季, 从指定的月份的第一个日历日开始算起 </font>|\n",
    "| <font size=3 color=pink> BQ-JAN, BQ-FEB, ..., BQ-DEC </font>                    | <font size=3 color=pink> 每季, 从指定的月份的最后一个工作日开始算起 </font>|\n",
    "| <font size=3 color=pink> BQS-JAN, BQS-FEB, ..., BQS-DEC </font>                    | <font size=3 color=pink> 每季, 从指定的月份的第一个工作日开始算起 </font>|\n",
    "| <font size=3 color=lightyellow> A-JAN, A-FEB, ..., A-DEC </font>                    | <font size=3 color=lightyellow> 每年, 从指定的月份的最后一个日历日开始算起 </font>|\n",
    "| <font size=3 color=lightyellow> AS-JAN, AS-FEB, ..., AS-DEC </font>                    | <font size=3 color=lightyellow> 每年, 从指定的月份的第一个日历日开始算起 </font>|\n",
    "| <font size=3 color=lightyellow> BA-JAN, BA-FEB, ..., BA-DEC </font>                    | <font size=3 color=lightyellow> 每年, 从指定的月份的最后一个工作日开始算起 </font>|\n",
    "| <font size=3 color=lightyellow> BAS-JAN, BAS-FEB, ..., BAS-DEC </font>                    | <font size=3 color=lightyellow> 每年, 从指定的月份的第一个工作日开始算起 </font>|"
   ]
  },
  {
   "cell_type": "code",
   "execution_count": 24,
   "metadata": {},
   "outputs": [
    {
     "data": {
      "text/plain": [
       "DatetimeIndex(['2020-01-31', '2020-02-29', '2020-03-31', '2020-04-30',\n",
       "               '2020-05-31', '2020-06-30', '2020-07-31', '2020-08-31',\n",
       "               '2020-09-30', '2020-10-31', '2020-11-30', '2020-12-31'],\n",
       "              dtype='datetime64[ns]', freq='M')"
      ]
     },
     "execution_count": 24,
     "metadata": {},
     "output_type": "execute_result"
    }
   ],
   "source": [
    "pd.date_range('2020-01-01', '2021-01-01', freq='M')"
   ]
  },
  {
   "cell_type": "code",
   "execution_count": 25,
   "metadata": {},
   "outputs": [
    {
     "data": {
      "text/plain": [
       "DatetimeIndex(['2020-01-31', '2020-05-31', '2020-09-30'], dtype='datetime64[ns]', freq='4M')"
      ]
     },
     "execution_count": 25,
     "metadata": {},
     "output_type": "execute_result"
    }
   ],
   "source": [
    "pd.date_range('2020-01-01', '2021-01-01', freq='4M')"
   ]
  },
  {
   "cell_type": "code",
   "execution_count": 26,
   "metadata": {},
   "outputs": [
    {
     "data": {
      "text/plain": [
       "DatetimeIndex(['2020-01-01 00:00:00', '2020-01-01 02:30:00',\n",
       "               '2020-01-01 05:00:00', '2020-01-01 07:30:00',\n",
       "               '2020-01-01 10:00:00', '2020-01-01 12:30:00',\n",
       "               '2020-01-01 15:00:00', '2020-01-01 17:30:00',\n",
       "               '2020-01-01 20:00:00', '2020-01-01 22:30:00'],\n",
       "              dtype='datetime64[ns]', freq='150T')"
      ]
     },
     "execution_count": 26,
     "metadata": {},
     "output_type": "execute_result"
    }
   ],
   "source": [
    "pd.date_range('2020-01-01', '2020-01-02', freq='2h30min')"
   ]
  },
  {
   "cell_type": "markdown",
   "metadata": {},
   "source": [
    "## _**<font color=skyblue><font color=orange>ts</font>.shift( <font color=orange>periods</font>, <font color=orange>freq</font> )</font>**_ : 时间序列的平移"
   ]
  },
  {
   "cell_type": "code",
   "execution_count": 27,
   "metadata": {},
   "outputs": [
    {
     "data": {
      "text/plain": [
       "2000-01-01    1\n",
       "2000-01-02    2\n",
       "2000-01-03    3\n",
       "2000-01-04    4\n",
       "Freq: D, dtype: int32"
      ]
     },
     "execution_count": 27,
     "metadata": {},
     "output_type": "execute_result"
    }
   ],
   "source": [
    "ts = pd.Series(np.arange(1, 5),\n",
    "               index=pd.date_range('1/1/2000', periods=4, freq='D'))\n",
    "ts"
   ]
  },
  {
   "cell_type": "markdown",
   "metadata": {},
   "source": [
    "<font size=3>Series 和 DataFrame 都有一个 shift 方法用于执行单纯的前移或后移操作, 保持索引不变</font>"
   ]
  },
  {
   "cell_type": "code",
   "execution_count": 28,
   "metadata": {},
   "outputs": [
    {
     "data": {
      "text/plain": [
       "(2000-01-01    2.0\n",
       " 2000-01-02    3.0\n",
       " 2000-01-03    4.0\n",
       " 2000-01-04    NaN\n",
       " Freq: D, dtype: float64,\n",
       " 2000-01-01         NaN\n",
       " 2000-01-02    1.000000\n",
       " 2000-01-03    0.500000\n",
       " 2000-01-04    0.333333\n",
       " Freq: D, dtype: float64)"
      ]
     },
     "execution_count": 28,
     "metadata": {},
     "output_type": "execute_result"
    }
   ],
   "source": [
    "ts.shift(-1), ts / ts.shift(1) -1 #计算随时间的变化"
   ]
  },
  {
   "cell_type": "markdown",
   "metadata": {},
   "source": [
    "<font size=2> _**ts.shift(-1) <font color=ff8888>vs</font> ts.shfit(-1, freq='D')**_ </font>"
   ]
  },
  {
   "cell_type": "code",
   "execution_count": 29,
   "metadata": {},
   "outputs": [
    {
     "data": {
      "text/plain": [
       "1999-12-31    1\n",
       "2000-01-01    2\n",
       "2000-01-02    3\n",
       "2000-01-03    4\n",
       "Freq: D, dtype: int32"
      ]
     },
     "execution_count": 29,
     "metadata": {},
     "output_type": "execute_result"
    }
   ],
   "source": [
    "ts.shift(-1, freq='D') # 时间序列向后平移3个 'D'"
   ]
  },
  {
   "cell_type": "code",
   "execution_count": 30,
   "metadata": {},
   "outputs": [
    {
     "data": {
      "text/plain": [
       "2000-01-04    1\n",
       "2000-01-05    2\n",
       "2000-01-06    3\n",
       "2000-01-07    4\n",
       "Freq: D, dtype: int32"
      ]
     },
     "execution_count": 30,
     "metadata": {},
     "output_type": "execute_result"
    }
   ],
   "source": [
    "ts.shift(1, freq='3D') # 时间序列向后平移3个 'D'"
   ]
  },
  {
   "cell_type": "code",
   "execution_count": 31,
   "metadata": {},
   "outputs": [
    {
     "data": {
      "text/plain": [
       "2000-01-01 01:30:00    1\n",
       "2000-01-02 01:30:00    2\n",
       "2000-01-03 01:30:00    3\n",
       "2000-01-04 01:30:00    4\n",
       "Freq: D, dtype: int32"
      ]
     },
     "execution_count": 31,
     "metadata": {},
     "output_type": "execute_result"
    }
   ],
   "source": [
    "ts.shift(1, freq='90T') # 时间序列向后平移90个 'min'"
   ]
  },
  {
   "cell_type": "markdown",
   "metadata": {},
   "source": [
    "## _**<font color=skyblue>Hour(), Minute(), Day(), MonthEnd()</font>**_ : 通过偏移量对日期进行平移  \n",
    "> <font size = 3> _**<font color=skyblue>Hour(), Minute(), Day(), MonthEnd(), ...</font>**_ : 日期偏移量（ date offset ）对象</font>"
   ]
  },
  {
   "cell_type": "code",
   "execution_count": 32,
   "metadata": {},
   "outputs": [
    {
     "data": {
      "text/plain": [
       "datetime.datetime(2021, 10, 9, 21, 38, 3, 837907)"
      ]
     },
     "execution_count": 32,
     "metadata": {},
     "output_type": "execute_result"
    }
   ],
   "source": [
    "from pandas.tseries.offsets import Day, MonthEnd\n",
    "now = datetime.now()\n",
    "now"
   ]
  },
  {
   "cell_type": "code",
   "execution_count": 33,
   "metadata": {},
   "outputs": [
    {
     "data": {
      "text/plain": [
       "(Timestamp('2021-10-12 21:38:03.837907'),\n",
       " Timestamp('2021-10-12 21:38:03.837907'))"
      ]
     },
     "execution_count": 33,
     "metadata": {},
     "output_type": "execute_result"
    }
   ],
   "source": [
    "now + 3 * Day(), now + Day(3)"
   ]
  },
  {
   "cell_type": "code",
   "execution_count": 34,
   "metadata": {},
   "outputs": [
    {
     "data": {
      "text/plain": [
       "Timestamp('2021-10-31 21:38:03.837907')"
      ]
     },
     "execution_count": 34,
     "metadata": {},
     "output_type": "execute_result"
    }
   ],
   "source": [
    "now + 1 * MonthEnd()"
   ]
  },
  {
   "cell_type": "markdown",
   "metadata": {},
   "source": [
    "### _**<font color=skyblue><font color=orange>offset</font>.rollforward( <font color=orange>datetime</font> ), <font color=orange>offset</font>.rollback( <font color=orange>datetime</font> )</font>**_ : 控制将日期向前或向后“滚动”"
   ]
  },
  {
   "cell_type": "code",
   "execution_count": 35,
   "metadata": {},
   "outputs": [
    {
     "data": {
      "text/plain": [
       "(Timestamp('2021-10-31 21:38:03.837907'),\n",
       " Timestamp('2021-09-30 21:38:03.837907'))"
      ]
     },
     "execution_count": 35,
     "metadata": {},
     "output_type": "execute_result"
    }
   ],
   "source": [
    "offset = MonthEnd()\n",
    "offset.rollforward(now), offset.rollback(now)"
   ]
  },
  {
   "cell_type": "code",
   "execution_count": 36,
   "metadata": {},
   "outputs": [
    {
     "data": {
      "text/plain": [
       "2000-01-15    1.0\n",
       "2000-01-19    1.0\n",
       "2000-01-23    1.0\n",
       "2000-01-27    1.0\n",
       "2000-01-31    1.0\n",
       "2000-02-04    1.0\n",
       "2000-02-08    1.0\n",
       "2000-02-12    1.0\n",
       "2000-02-16    1.0\n",
       "2000-02-20    1.0\n",
       "2000-02-24    1.0\n",
       "2000-02-28    1.0\n",
       "2000-03-03    1.0\n",
       "2000-03-07    1.0\n",
       "2000-03-11    1.0\n",
       "2000-03-15    1.0\n",
       "2000-03-19    1.0\n",
       "2000-03-23    1.0\n",
       "2000-03-27    1.0\n",
       "2000-03-31    1.0\n",
       "Freq: 4D, dtype: float64"
      ]
     },
     "execution_count": 36,
     "metadata": {},
     "output_type": "execute_result"
    }
   ],
   "source": [
    "ts = pd.Series(np.ones(20), index=pd.date_range('1/15/2000', periods=20, freq='4d'))\n",
    "ts"
   ]
  },
  {
   "cell_type": "markdown",
   "metadata": {},
   "source": [
    "<font size=3> _**<font color=skyblue><font color=orange>ts</font>.groupby( <font color=orange>offset</font>.rollforward )</font>**_ </font>"
   ]
  },
  {
   "cell_type": "code",
   "execution_count": 37,
   "metadata": {},
   "outputs": [
    {
     "data": {
      "text/plain": [
       "2000-01-31    5.0\n",
       "2000-02-29    7.0\n",
       "2000-03-31    8.0\n",
       "dtype: float64"
      ]
     },
     "execution_count": 37,
     "metadata": {},
     "output_type": "execute_result"
    }
   ],
   "source": [
    "offset = MonthEnd()\n",
    "ts.groupby(MonthEnd().rollforward).sum()"
   ]
  },
  {
   "cell_type": "markdown",
   "metadata": {},
   "source": [
    "<font size=3> _**<font color=skyblue><font color=orange>ts</font>.resample( <font color=orange>freq</font> )</font>**_ </font>"
   ]
  },
  {
   "cell_type": "code",
   "execution_count": 38,
   "metadata": {},
   "outputs": [
    {
     "data": {
      "text/plain": [
       "2000-01-31    1.0\n",
       "2000-02-29    1.0\n",
       "2000-03-31    1.0\n",
       "Freq: M, dtype: float64"
      ]
     },
     "execution_count": 38,
     "metadata": {},
     "output_type": "execute_result"
    }
   ],
   "source": [
    "ts.resample('M').mean()"
   ]
  },
  {
   "cell_type": "markdown",
   "metadata": {},
   "source": [
    "# 时期 (period) 及其计算"
   ]
  },
  {
   "cell_type": "markdown",
   "metadata": {},
   "source": [
    "## _**<font color=skyblue>pd.Period( <font color=orange>value</font>, <font color=orange>freq</font> )</font>**_ : 时期的创建"
   ]
  },
  {
   "cell_type": "code",
   "execution_count": 39,
   "metadata": {},
   "outputs": [
    {
     "data": {
      "text/plain": [
       "Period('2021', 'A-MAY')"
      ]
     },
     "execution_count": 39,
     "metadata": {},
     "output_type": "execute_result"
    }
   ],
   "source": [
    "p = pd.Period(2021, freq='A-MAY')\n",
    "p"
   ]
  },
  {
   "cell_type": "code",
   "execution_count": 40,
   "metadata": {},
   "outputs": [
    {
     "data": {
      "text/plain": [
       "Period('2024', 'A-MAY')"
      ]
     },
     "execution_count": 40,
     "metadata": {},
     "output_type": "execute_result"
    }
   ],
   "source": [
    "p + 3"
   ]
  },
  {
   "cell_type": "code",
   "execution_count": 41,
   "metadata": {},
   "outputs": [
    {
     "data": {
      "text/plain": [
       "<2 * YearEnds: month=5>"
      ]
     },
     "execution_count": 41,
     "metadata": {},
     "output_type": "execute_result"
    }
   ],
   "source": [
    "p - pd.Period(2019, freq='A-MAY')"
   ]
  },
  {
   "cell_type": "markdown",
   "metadata": {},
   "source": [
    "## _**<font color=skyblue>pd.period_range( <font color=orange>start</font>, <font color=orange>end</font>, <font color=orange>freq</font> )</font>**_ : 时期范围的创建"
   ]
  },
  {
   "cell_type": "code",
   "execution_count": 42,
   "metadata": {},
   "outputs": [
    {
     "data": {
      "text/plain": [
       "PeriodIndex(['2000-01', '2000-02', '2000-03', '2000-04', '2000-05', '2000-06'], dtype='period[M]')"
      ]
     },
     "execution_count": 42,
     "metadata": {},
     "output_type": "execute_result"
    }
   ],
   "source": [
    "rng = pd.period_range('2000-01-01', '2000-06-30', freq='M')\n",
    "rng"
   ]
  },
  {
   "cell_type": "code",
   "execution_count": 43,
   "metadata": {},
   "outputs": [
    {
     "data": {
      "text/plain": [
       "2000-01    0\n",
       "2000-02    1\n",
       "2000-03    2\n",
       "2000-04    3\n",
       "2000-05    4\n",
       "2000-06    5\n",
       "Freq: M, dtype: int32"
      ]
     },
     "execution_count": 43,
     "metadata": {},
     "output_type": "execute_result"
    }
   ],
   "source": [
    "pd.Series(np.arange(6), index=rng)"
   ]
  },
  {
   "cell_type": "markdown",
   "metadata": {},
   "source": [
    "## _**<font color=skyblue>pd.PeriodIndex( <font color=orange>values</font>, <font color=orange>freq</font>, <font color=orange>year</font>, <font color=orange>quarter</font> )</font>**_ : 季度时期范围的创建"
   ]
  },
  {
   "cell_type": "code",
   "execution_count": 44,
   "metadata": {},
   "outputs": [
    {
     "data": {
      "text/plain": [
       "PeriodIndex(['2001Q3', '2002Q2', '2003Q1'], dtype='period[Q-DEC]')"
      ]
     },
     "execution_count": 44,
     "metadata": {},
     "output_type": "execute_result"
    }
   ],
   "source": [
    "values = ['2001Q3', '2002Q2', '2003Q1']\n",
    "pd.PeriodIndex(values, freq='Q-DEC')"
   ]
  },
  {
   "cell_type": "markdown",
   "metadata": {},
   "source": [
    "通过数组创建 PeriodIndex"
   ]
  },
  {
   "cell_type": "code",
   "execution_count": 45,
   "metadata": {},
   "outputs": [
    {
     "data": {
      "text/plain": [
       "(0      1959.0\n",
       " 1      1959.0\n",
       " 2      1959.0\n",
       " 3      1959.0\n",
       " 4      1960.0\n",
       "         ...  \n",
       " 198    2008.0\n",
       " 199    2008.0\n",
       " 200    2009.0\n",
       " 201    2009.0\n",
       " 202    2009.0\n",
       " Name: year, Length: 203, dtype: float64,\n",
       " 0      1.0\n",
       " 1      2.0\n",
       " 2      3.0\n",
       " 3      4.0\n",
       " 4      1.0\n",
       "       ... \n",
       " 198    3.0\n",
       " 199    4.0\n",
       " 200    1.0\n",
       " 201    2.0\n",
       " 202    3.0\n",
       " Name: quarter, Length: 203, dtype: float64)"
      ]
     },
     "execution_count": 45,
     "metadata": {},
     "output_type": "execute_result"
    }
   ],
   "source": [
    "data = pd.read_csv('pydata-book-2nd-edition/examples/macrodata.csv')\n",
    "data.year, data.quarter"
   ]
  },
  {
   "cell_type": "code",
   "execution_count": 46,
   "metadata": {},
   "outputs": [
    {
     "data": {
      "text/plain": [
       "PeriodIndex(['1959Q1', '1959Q2', '1959Q3', '1959Q4', '1960Q1', '1960Q2',\n",
       "             '1960Q3', '1960Q4', '1961Q1', '1961Q2',\n",
       "             ...\n",
       "             '2007Q2', '2007Q3', '2007Q4', '2008Q1', '2008Q2', '2008Q3',\n",
       "             '2008Q4', '2009Q1', '2009Q2', '2009Q3'],\n",
       "            dtype='period[Q-DEC]', length=203)"
      ]
     },
     "execution_count": 46,
     "metadata": {},
     "output_type": "execute_result"
    }
   ],
   "source": [
    "index = pd.PeriodIndex(year=data.year, quarter=data.quarter,\n",
    "                       freq='Q-DEC')\n",
    "index"
   ]
  },
  {
   "cell_type": "code",
   "execution_count": 47,
   "metadata": {},
   "outputs": [
    {
     "data": {
      "text/html": [
       "<div>\n",
       "<style scoped>\n",
       "    .dataframe tbody tr th:only-of-type {\n",
       "        vertical-align: middle;\n",
       "    }\n",
       "\n",
       "    .dataframe tbody tr th {\n",
       "        vertical-align: top;\n",
       "    }\n",
       "\n",
       "    .dataframe thead th {\n",
       "        text-align: right;\n",
       "    }\n",
       "</style>\n",
       "<table border=\"1\" class=\"dataframe\">\n",
       "  <thead>\n",
       "    <tr style=\"text-align: right;\">\n",
       "      <th></th>\n",
       "      <th>year</th>\n",
       "      <th>quarter</th>\n",
       "      <th>realgdp</th>\n",
       "      <th>realcons</th>\n",
       "      <th>realinv</th>\n",
       "      <th>realgovt</th>\n",
       "      <th>realdpi</th>\n",
       "      <th>cpi</th>\n",
       "      <th>m1</th>\n",
       "      <th>tbilrate</th>\n",
       "      <th>unemp</th>\n",
       "      <th>pop</th>\n",
       "      <th>infl</th>\n",
       "      <th>realint</th>\n",
       "    </tr>\n",
       "  </thead>\n",
       "  <tbody>\n",
       "    <tr>\n",
       "      <th>1959Q1</th>\n",
       "      <td>1959.0</td>\n",
       "      <td>1.0</td>\n",
       "      <td>2710.349</td>\n",
       "      <td>1707.4</td>\n",
       "      <td>286.898</td>\n",
       "      <td>470.045</td>\n",
       "      <td>1886.9</td>\n",
       "      <td>28.980</td>\n",
       "      <td>139.7</td>\n",
       "      <td>2.82</td>\n",
       "      <td>5.8</td>\n",
       "      <td>177.146</td>\n",
       "      <td>0.00</td>\n",
       "      <td>0.00</td>\n",
       "    </tr>\n",
       "    <tr>\n",
       "      <th>1959Q2</th>\n",
       "      <td>1959.0</td>\n",
       "      <td>2.0</td>\n",
       "      <td>2778.801</td>\n",
       "      <td>1733.7</td>\n",
       "      <td>310.859</td>\n",
       "      <td>481.301</td>\n",
       "      <td>1919.7</td>\n",
       "      <td>29.150</td>\n",
       "      <td>141.7</td>\n",
       "      <td>3.08</td>\n",
       "      <td>5.1</td>\n",
       "      <td>177.830</td>\n",
       "      <td>2.34</td>\n",
       "      <td>0.74</td>\n",
       "    </tr>\n",
       "    <tr>\n",
       "      <th>1959Q3</th>\n",
       "      <td>1959.0</td>\n",
       "      <td>3.0</td>\n",
       "      <td>2775.488</td>\n",
       "      <td>1751.8</td>\n",
       "      <td>289.226</td>\n",
       "      <td>491.260</td>\n",
       "      <td>1916.4</td>\n",
       "      <td>29.350</td>\n",
       "      <td>140.5</td>\n",
       "      <td>3.82</td>\n",
       "      <td>5.3</td>\n",
       "      <td>178.657</td>\n",
       "      <td>2.74</td>\n",
       "      <td>1.09</td>\n",
       "    </tr>\n",
       "    <tr>\n",
       "      <th>1959Q4</th>\n",
       "      <td>1959.0</td>\n",
       "      <td>4.0</td>\n",
       "      <td>2785.204</td>\n",
       "      <td>1753.7</td>\n",
       "      <td>299.356</td>\n",
       "      <td>484.052</td>\n",
       "      <td>1931.3</td>\n",
       "      <td>29.370</td>\n",
       "      <td>140.0</td>\n",
       "      <td>4.33</td>\n",
       "      <td>5.6</td>\n",
       "      <td>179.386</td>\n",
       "      <td>0.27</td>\n",
       "      <td>4.06</td>\n",
       "    </tr>\n",
       "    <tr>\n",
       "      <th>1960Q1</th>\n",
       "      <td>1960.0</td>\n",
       "      <td>1.0</td>\n",
       "      <td>2847.699</td>\n",
       "      <td>1770.5</td>\n",
       "      <td>331.722</td>\n",
       "      <td>462.199</td>\n",
       "      <td>1955.5</td>\n",
       "      <td>29.540</td>\n",
       "      <td>139.6</td>\n",
       "      <td>3.50</td>\n",
       "      <td>5.2</td>\n",
       "      <td>180.007</td>\n",
       "      <td>2.31</td>\n",
       "      <td>1.19</td>\n",
       "    </tr>\n",
       "    <tr>\n",
       "      <th>...</th>\n",
       "      <td>...</td>\n",
       "      <td>...</td>\n",
       "      <td>...</td>\n",
       "      <td>...</td>\n",
       "      <td>...</td>\n",
       "      <td>...</td>\n",
       "      <td>...</td>\n",
       "      <td>...</td>\n",
       "      <td>...</td>\n",
       "      <td>...</td>\n",
       "      <td>...</td>\n",
       "      <td>...</td>\n",
       "      <td>...</td>\n",
       "      <td>...</td>\n",
       "    </tr>\n",
       "    <tr>\n",
       "      <th>2008Q3</th>\n",
       "      <td>2008.0</td>\n",
       "      <td>3.0</td>\n",
       "      <td>13324.600</td>\n",
       "      <td>9267.7</td>\n",
       "      <td>1990.693</td>\n",
       "      <td>991.551</td>\n",
       "      <td>9838.3</td>\n",
       "      <td>216.889</td>\n",
       "      <td>1474.7</td>\n",
       "      <td>1.17</td>\n",
       "      <td>6.0</td>\n",
       "      <td>305.270</td>\n",
       "      <td>-3.16</td>\n",
       "      <td>4.33</td>\n",
       "    </tr>\n",
       "    <tr>\n",
       "      <th>2008Q4</th>\n",
       "      <td>2008.0</td>\n",
       "      <td>4.0</td>\n",
       "      <td>13141.920</td>\n",
       "      <td>9195.3</td>\n",
       "      <td>1857.661</td>\n",
       "      <td>1007.273</td>\n",
       "      <td>9920.4</td>\n",
       "      <td>212.174</td>\n",
       "      <td>1576.5</td>\n",
       "      <td>0.12</td>\n",
       "      <td>6.9</td>\n",
       "      <td>305.952</td>\n",
       "      <td>-8.79</td>\n",
       "      <td>8.91</td>\n",
       "    </tr>\n",
       "    <tr>\n",
       "      <th>2009Q1</th>\n",
       "      <td>2009.0</td>\n",
       "      <td>1.0</td>\n",
       "      <td>12925.410</td>\n",
       "      <td>9209.2</td>\n",
       "      <td>1558.494</td>\n",
       "      <td>996.287</td>\n",
       "      <td>9926.4</td>\n",
       "      <td>212.671</td>\n",
       "      <td>1592.8</td>\n",
       "      <td>0.22</td>\n",
       "      <td>8.1</td>\n",
       "      <td>306.547</td>\n",
       "      <td>0.94</td>\n",
       "      <td>-0.71</td>\n",
       "    </tr>\n",
       "    <tr>\n",
       "      <th>2009Q2</th>\n",
       "      <td>2009.0</td>\n",
       "      <td>2.0</td>\n",
       "      <td>12901.504</td>\n",
       "      <td>9189.0</td>\n",
       "      <td>1456.678</td>\n",
       "      <td>1023.528</td>\n",
       "      <td>10077.5</td>\n",
       "      <td>214.469</td>\n",
       "      <td>1653.6</td>\n",
       "      <td>0.18</td>\n",
       "      <td>9.2</td>\n",
       "      <td>307.226</td>\n",
       "      <td>3.37</td>\n",
       "      <td>-3.19</td>\n",
       "    </tr>\n",
       "    <tr>\n",
       "      <th>2009Q3</th>\n",
       "      <td>2009.0</td>\n",
       "      <td>3.0</td>\n",
       "      <td>12990.341</td>\n",
       "      <td>9256.0</td>\n",
       "      <td>1486.398</td>\n",
       "      <td>1044.088</td>\n",
       "      <td>10040.6</td>\n",
       "      <td>216.385</td>\n",
       "      <td>1673.9</td>\n",
       "      <td>0.12</td>\n",
       "      <td>9.6</td>\n",
       "      <td>308.013</td>\n",
       "      <td>3.56</td>\n",
       "      <td>-3.44</td>\n",
       "    </tr>\n",
       "  </tbody>\n",
       "</table>\n",
       "<p>203 rows × 14 columns</p>\n",
       "</div>"
      ],
      "text/plain": [
       "          year  quarter    realgdp  realcons   realinv  realgovt  realdpi  \\\n",
       "1959Q1  1959.0      1.0   2710.349    1707.4   286.898   470.045   1886.9   \n",
       "1959Q2  1959.0      2.0   2778.801    1733.7   310.859   481.301   1919.7   \n",
       "1959Q3  1959.0      3.0   2775.488    1751.8   289.226   491.260   1916.4   \n",
       "1959Q4  1959.0      4.0   2785.204    1753.7   299.356   484.052   1931.3   \n",
       "1960Q1  1960.0      1.0   2847.699    1770.5   331.722   462.199   1955.5   \n",
       "...        ...      ...        ...       ...       ...       ...      ...   \n",
       "2008Q3  2008.0      3.0  13324.600    9267.7  1990.693   991.551   9838.3   \n",
       "2008Q4  2008.0      4.0  13141.920    9195.3  1857.661  1007.273   9920.4   \n",
       "2009Q1  2009.0      1.0  12925.410    9209.2  1558.494   996.287   9926.4   \n",
       "2009Q2  2009.0      2.0  12901.504    9189.0  1456.678  1023.528  10077.5   \n",
       "2009Q3  2009.0      3.0  12990.341    9256.0  1486.398  1044.088  10040.6   \n",
       "\n",
       "            cpi      m1  tbilrate  unemp      pop  infl  realint  \n",
       "1959Q1   28.980   139.7      2.82    5.8  177.146  0.00     0.00  \n",
       "1959Q2   29.150   141.7      3.08    5.1  177.830  2.34     0.74  \n",
       "1959Q3   29.350   140.5      3.82    5.3  178.657  2.74     1.09  \n",
       "1959Q4   29.370   140.0      4.33    5.6  179.386  0.27     4.06  \n",
       "1960Q1   29.540   139.6      3.50    5.2  180.007  2.31     1.19  \n",
       "...         ...     ...       ...    ...      ...   ...      ...  \n",
       "2008Q3  216.889  1474.7      1.17    6.0  305.270 -3.16     4.33  \n",
       "2008Q4  212.174  1576.5      0.12    6.9  305.952 -8.79     8.91  \n",
       "2009Q1  212.671  1592.8      0.22    8.1  306.547  0.94    -0.71  \n",
       "2009Q2  214.469  1653.6      0.18    9.2  307.226  3.37    -3.19  \n",
       "2009Q3  216.385  1673.9      0.12    9.6  308.013  3.56    -3.44  \n",
       "\n",
       "[203 rows x 14 columns]"
      ]
     },
     "execution_count": 47,
     "metadata": {},
     "output_type": "execute_result"
    }
   ],
   "source": [
    "data.index = index\n",
    "data"
   ]
  },
  {
   "cell_type": "markdown",
   "metadata": {},
   "source": [
    "## _**<font color=skyblue><font color=orange>period</font>.asfreq( <font color=orange>freq</font>, <font color=orange>how</font> )</font>**_ : 时期的频率转换"
   ]
  },
  {
   "cell_type": "markdown",
   "metadata": {},
   "source": [
    "### 年 → 月"
   ]
  },
  {
   "cell_type": "code",
   "execution_count": 48,
   "metadata": {},
   "outputs": [
    {
     "data": {
      "text/plain": [
       "(Period('2021', 'A-MAY'), Period('2020-06', 'M'), Period('2021-05', 'M'))"
      ]
     },
     "execution_count": 48,
     "metadata": {},
     "output_type": "execute_result"
    }
   ],
   "source": [
    "p = pd.Period('2021', freq='A-MAY')\n",
    "p, p.asfreq('M', how='start'), p.asfreq('M', how='end')  # 2020.6 开始  # 2021.5 结束"
   ]
  },
  {
   "cell_type": "markdown",
   "metadata": {},
   "source": [
    "### 月 → 年"
   ]
  },
  {
   "cell_type": "code",
   "execution_count": 49,
   "metadata": {},
   "outputs": [
    {
     "data": {
      "text/plain": [
       "(Period('2021-05', 'M'), Period('2021', 'A-DEC'))"
      ]
     },
     "execution_count": 49,
     "metadata": {},
     "output_type": "execute_result"
    }
   ],
   "source": [
    "p = pd.Period('May-2021', 'M')\n",
    "p, p.asfreq('A-DEC')"
   ]
  },
  {
   "cell_type": "markdown",
   "metadata": {},
   "source": [
    "### 年 → 日"
   ]
  },
  {
   "cell_type": "code",
   "execution_count": 50,
   "metadata": {},
   "outputs": [
    {
     "data": {
      "text/plain": [
       "(2006   -0.954789\n",
       " 2007    2.045184\n",
       " 2008   -0.367045\n",
       " 2009   -0.672529\n",
       " Freq: A-DEC, dtype: float64,\n",
       " 2006-01   -0.954789\n",
       " 2007-01    2.045184\n",
       " 2008-01   -0.367045\n",
       " 2009-01   -0.672529\n",
       " Freq: M, dtype: float64,\n",
       " 2006-01-01   -0.954789\n",
       " 2007-01-01    2.045184\n",
       " 2008-01-01   -0.367045\n",
       " 2009-01-01   -0.672529\n",
       " Freq: D, dtype: float64)"
      ]
     },
     "execution_count": 50,
     "metadata": {},
     "output_type": "execute_result"
    }
   ],
   "source": [
    "rng = pd.period_range('2006', '2009', freq='A-DEC')\n",
    "ts = pd.Series(np.random.randn(len(rng)), index=rng)\n",
    "ts, ts.asfreq('M', how='start'),  ts.asfreq('D', how='start')"
   ]
  },
  {
   "cell_type": "markdown",
   "metadata": {},
   "source": [
    "### 按季度计算的时期"
   ]
  },
  {
   "cell_type": "code",
   "execution_count": 51,
   "metadata": {},
   "outputs": [
    {
     "data": {
      "text/plain": [
       "(Period('2021Q1', 'Q-DEC'),\n",
       " Period('2021-01-01', 'D'),\n",
       " Period('2021-03-31', 'D'))"
      ]
     },
     "execution_count": 51,
     "metadata": {},
     "output_type": "execute_result"
    }
   ],
   "source": [
    "p = pd.Period('2021Q1', freq='Q-DEC') # 季度以DEC为一年的分界, 2021第一季度为2021.1-2021.3\n",
    "p, p.asfreq('D', 'start'), p.asfreq('D', 'end')"
   ]
  },
  {
   "cell_type": "code",
   "execution_count": 52,
   "metadata": {},
   "outputs": [
    {
     "data": {
      "text/plain": [
       "(Period('2021Q1', 'Q-JUN'),\n",
       " Period('2020-07-01', 'D'),\n",
       " Period('2020-09-30', 'D'))"
      ]
     },
     "execution_count": 52,
     "metadata": {},
     "output_type": "execute_result"
    }
   ],
   "source": [
    "p = pd.Period('2021Q1', freq='Q-JUN') # 季度以JUN为一年的分界, 2021第一季度为2020.7-2020.9\n",
    "p, p.asfreq('D', 'start'), p.asfreq('D', 'end')"
   ]
  },
  {
   "cell_type": "code",
   "execution_count": 53,
   "metadata": {},
   "outputs": [
    {
     "data": {
      "text/plain": [
       "(Period('2021Q4', 'Q-JUN'),\n",
       " Period('2021-04-01', 'D'),\n",
       " Period('2021-06-30', 'D'))"
      ]
     },
     "execution_count": 53,
     "metadata": {},
     "output_type": "execute_result"
    }
   ],
   "source": [
    "p = pd.Period('2021Q4', freq='Q-JUN') # 季度以JUN为一年的分界, 2021第四季度为2021.4-2021.6\n",
    "p, p.asfreq('D', 'start'), p.asfreq('D', 'end')"
   ]
  },
  {
   "cell_type": "markdown",
   "metadata": {},
   "source": [
    "获取该季度倒数第二个工作日下午4点的时间戳 : "
   ]
  },
  {
   "cell_type": "code",
   "execution_count": 54,
   "metadata": {},
   "outputs": [
    {
     "data": {
      "text/plain": [
       "(Period('2021-06-29 16:00', 'T'), Timestamp('2021-06-29 16:00:00'))"
      ]
     },
     "execution_count": 54,
     "metadata": {},
     "output_type": "execute_result"
    }
   ],
   "source": [
    "from pandas.tseries.offsets import Hour\n",
    "p4pm = (p.asfreq('B', 'end') - 1).asfreq('T', 'start') + Hour(16)\n",
    "p4pm, p4pm.to_timestamp()"
   ]
  },
  {
   "cell_type": "markdown",
   "metadata": {},
   "source": [
    "季度型范围的算术运算"
   ]
  },
  {
   "cell_type": "code",
   "execution_count": 55,
   "metadata": {},
   "outputs": [
    {
     "data": {
      "text/plain": [
       "2019Q3    0\n",
       "2019Q4    1\n",
       "2020Q1    2\n",
       "2020Q2    3\n",
       "2020Q3    4\n",
       "2020Q4    5\n",
       "2021Q1    6\n",
       "2021Q2    7\n",
       "2021Q3    8\n",
       "2021Q4    9\n",
       "Freq: Q-DEC, dtype: int32"
      ]
     },
     "execution_count": 55,
     "metadata": {},
     "output_type": "execute_result"
    }
   ],
   "source": [
    "rng = pd.period_range('2019Q3', '2021Q4', freq='Q-DEC')\n",
    "ts = pd.Series(np.arange(len(rng)), index=rng)\n",
    "ts"
   ]
  },
  {
   "cell_type": "code",
   "execution_count": 56,
   "metadata": {},
   "outputs": [
    {
     "data": {
      "text/plain": [
       "2019-09-30 16:00:00    0\n",
       "2019-12-31 16:00:00    1\n",
       "2020-03-31 16:00:00    2\n",
       "2020-06-30 16:00:00    3\n",
       "2020-09-30 16:00:00    4\n",
       "2020-12-31 16:00:00    5\n",
       "2021-03-31 16:00:00    6\n",
       "2021-06-30 16:00:00    7\n",
       "2021-09-30 16:00:00    8\n",
       "2021-12-31 16:00:00    9\n",
       "Freq: Q-DEC, dtype: int32"
      ]
     },
     "execution_count": 56,
     "metadata": {},
     "output_type": "execute_result"
    }
   ],
   "source": [
    "new_rng = rng.asfreq('D', 'end').asfreq('T', 'start') + 16 * 60\n",
    "ts.index = new_rng.to_timestamp()\n",
    "ts"
   ]
  },
  {
   "cell_type": "markdown",
   "metadata": {},
   "source": [
    "## _**<font color=skyblue><font color=orange>ts</font>.to_period( <font color=orange>freq</font>, <font color=orange>copy</font> )</font>**_  : 时间戳 → 时期"
   ]
  },
  {
   "cell_type": "code",
   "execution_count": 57,
   "metadata": {},
   "outputs": [
    {
     "data": {
      "text/plain": [
       "(2021-01-31    0.799601\n",
       " 2021-02-28   -0.747543\n",
       " 2021-03-31   -0.333042\n",
       " Freq: M, dtype: float64,\n",
       " 2021-01    0.799601\n",
       " 2021-02   -0.747543\n",
       " 2021-03   -0.333042\n",
       " Freq: M, dtype: float64)"
      ]
     },
     "execution_count": 57,
     "metadata": {},
     "output_type": "execute_result"
    }
   ],
   "source": [
    "rng = pd.date_range('2021-01-01', periods=3, freq='M')\n",
    "ts = pd.Series(np.random.randn(3), index=rng)\n",
    "ts, ts.to_period()"
   ]
  },
  {
   "cell_type": "code",
   "execution_count": 58,
   "metadata": {},
   "outputs": [
    {
     "data": {
      "text/plain": [
       "(2021-01-29   -0.917420\n",
       " 2021-01-30   -1.667312\n",
       " 2021-01-31    0.370422\n",
       " 2021-02-01   -1.841920\n",
       " 2021-02-02    0.067595\n",
       " 2021-02-03    0.539212\n",
       " Freq: D, dtype: float64,\n",
       " 2021-01   -0.917420\n",
       " 2021-01   -1.667312\n",
       " 2021-01    0.370422\n",
       " 2021-02   -1.841920\n",
       " 2021-02    0.067595\n",
       " 2021-02    0.539212\n",
       " Freq: M, dtype: float64)"
      ]
     },
     "execution_count": 58,
     "metadata": {},
     "output_type": "execute_result"
    }
   ],
   "source": [
    "rng = pd.date_range('1/29/2021', periods=6, freq='D')\n",
    "ts2 = pd.Series(np.random.randn(6), index=rng)\n",
    "ts2, ts2.to_period('M')"
   ]
  },
  {
   "cell_type": "markdown",
   "metadata": {},
   "source": [
    "## _**<font color=skyblue><font color=orange>ts</font>.to_timestamp( <font color=orange>freq</font>, <font color=orange>how</font>, <font color=orange>copy</font> )</font>**_  : 时期 → 时间戳"
   ]
  },
  {
   "cell_type": "code",
   "execution_count": 59,
   "metadata": {},
   "outputs": [
    {
     "data": {
      "text/plain": [
       "(2021-01   -2.029517\n",
       " 2021-02   -0.154121\n",
       " Freq: M, dtype: float64,\n",
       " 2021-01-01   -2.029517\n",
       " 2021-02-01   -0.154121\n",
       " dtype: float64)"
      ]
     },
     "execution_count": 59,
     "metadata": {},
     "output_type": "execute_result"
    }
   ],
   "source": [
    "rng = pd.period_range('1/29/2021', periods=2, freq='M')\n",
    "ts3 = pd.Series(np.random.randn(2), index=rng)\n",
    "ts3, ts3.to_timestamp()"
   ]
  },
  {
   "cell_type": "markdown",
   "metadata": {},
   "source": [
    "# 重采样和频率转换"
   ]
  },
  {
   "cell_type": "markdown",
   "metadata": {},
   "source": [
    "## _**<font color=skyblue><font color=orange>ts</font>.resample( <font color=orange>freq</font>, <font color=orange>axis</font>, <font color=orange>closed</font>, <font color=orange>label</font>, <font color=orange>kind</font>, <font color=orange>fill_method</font>, <font color=orange>limit</font>, <font color=orange>convention</font> )</font>**_ "
   ]
  },
  {
   "cell_type": "code",
   "execution_count": 60,
   "metadata": {},
   "outputs": [
    {
     "data": {
      "text/plain": [
       "2000-01-01    1.0\n",
       "2000-01-02    1.0\n",
       "2000-01-03    1.0\n",
       "2000-01-04    1.0\n",
       "2000-01-05    1.0\n",
       "             ... \n",
       "2000-04-05    1.0\n",
       "2000-04-06    1.0\n",
       "2000-04-07    1.0\n",
       "2000-04-08    1.0\n",
       "2000-04-09    1.0\n",
       "Freq: D, Length: 100, dtype: float64"
      ]
     },
     "execution_count": 60,
     "metadata": {},
     "output_type": "execute_result"
    }
   ],
   "source": [
    "rng = pd.date_range('2000-01-01', periods=100, freq='D')\n",
    "ts = pd.Series(np.ones(len(rng)), index=rng)\n",
    "ts"
   ]
  },
  {
   "cell_type": "code",
   "execution_count": 61,
   "metadata": {},
   "outputs": [
    {
     "data": {
      "text/plain": [
       "2000-01-31    31.0\n",
       "2000-02-29    29.0\n",
       "2000-03-31    31.0\n",
       "2000-04-30     9.0\n",
       "Freq: M, dtype: float64"
      ]
     },
     "execution_count": 61,
     "metadata": {},
     "output_type": "execute_result"
    }
   ],
   "source": [
    "ts.resample('M').sum()"
   ]
  },
  {
   "cell_type": "markdown",
   "metadata": {},
   "source": [
    "<font size=3> _**<font color=orange>kind</font>**_ : 聚合到周期 ( <font color=ff8888>'period'</font> ) 或 时间戳 ( <font color=ff8888>'timestamp'</font> )"
   ]
  },
  {
   "cell_type": "code",
   "execution_count": 62,
   "metadata": {},
   "outputs": [
    {
     "data": {
      "text/plain": [
       "2000-01    31.0\n",
       "2000-02    29.0\n",
       "2000-03    31.0\n",
       "2000-04     9.0\n",
       "Freq: M, dtype: float64"
      ]
     },
     "execution_count": 62,
     "metadata": {},
     "output_type": "execute_result"
    }
   ],
   "source": [
    "ts.resample('M', kind='period').sum()"
   ]
  },
  {
   "cell_type": "markdown",
   "metadata": {},
   "source": [
    "<font size=3> _**<font color=orange>closed</font>**_ : 降采样中, 设置时间闭合的一端, <font color=ff8888>'right'</font> (start, end] 或 <font color=ff8888>'left'</font> [start, end)"
   ]
  },
  {
   "cell_type": "code",
   "execution_count": 63,
   "metadata": {},
   "outputs": [
    {
     "data": {
      "text/plain": [
       "2000-01-01 00:00:00    0\n",
       "2000-01-01 00:01:00    1\n",
       "2000-01-01 00:02:00    2\n",
       "2000-01-01 00:03:00    3\n",
       "2000-01-01 00:04:00    4\n",
       "2000-01-01 00:05:00    5\n",
       "2000-01-01 00:06:00    6\n",
       "Freq: T, dtype: int32"
      ]
     },
     "execution_count": 63,
     "metadata": {},
     "output_type": "execute_result"
    }
   ],
   "source": [
    "rng2 = pd.date_range('2000-01-01', periods=7, freq='T')\n",
    "ts2 = pd.Series(np.arange(7), index=rng2)\n",
    "ts2"
   ]
  },
  {
   "cell_type": "code",
   "execution_count": 64,
   "metadata": {},
   "outputs": [
    {
     "data": {
      "text/plain": [
       "1999-12-31 23:55:00     0\n",
       "2000-01-01 00:00:00    15\n",
       "2000-01-01 00:05:00     6\n",
       "Freq: 5T, dtype: int32"
      ]
     },
     "execution_count": 64,
     "metadata": {},
     "output_type": "execute_result"
    }
   ],
   "source": [
    "ts2.resample('5T', closed='right').sum() # ( , ]"
   ]
  },
  {
   "cell_type": "code",
   "execution_count": 65,
   "metadata": {},
   "outputs": [
    {
     "data": {
      "text/plain": [
       "2000-01-01 00:00:00    10\n",
       "2000-01-01 00:05:00    11\n",
       "Freq: 5T, dtype: int32"
      ]
     },
     "execution_count": 65,
     "metadata": {},
     "output_type": "execute_result"
    }
   ],
   "source": [
    "ts2.resample('5T', closed='left').sum() # [ , )"
   ]
  },
  {
   "cell_type": "markdown",
   "metadata": {},
   "source": [
    "<font size=3> _**<font color=orange>label</font>**_ : 降采样中, 设置聚合值的标签, <font color=ff8888>'right'</font> 或 <font color=ff8888>'left'</font>"
   ]
  },
  {
   "cell_type": "code",
   "execution_count": 66,
   "metadata": {},
   "outputs": [
    {
     "data": {
      "text/plain": [
       "2000-01-01 00:00:00     0\n",
       "2000-01-01 00:05:00    15\n",
       "2000-01-01 00:10:00     6\n",
       "Freq: 5T, dtype: int32"
      ]
     },
     "execution_count": 66,
     "metadata": {},
     "output_type": "execute_result"
    }
   ],
   "source": [
    "ts2.resample('5T', closed='right', label='right').sum()"
   ]
  },
  {
   "cell_type": "markdown",
   "metadata": {},
   "source": [
    "<font size=3> _**<font color=orange>convention</font>**_ : 升采样中, 设置低频周期对应的高频时间戳, <font color=ff8888>'start'</font> 或 <font color=ff8888>'end'</font>"
   ]
  },
  {
   "cell_type": "code",
   "execution_count": 67,
   "metadata": {},
   "outputs": [
    {
     "data": {
      "text/html": [
       "<div>\n",
       "<style scoped>\n",
       "    .dataframe tbody tr th:only-of-type {\n",
       "        vertical-align: middle;\n",
       "    }\n",
       "\n",
       "    .dataframe tbody tr th {\n",
       "        vertical-align: top;\n",
       "    }\n",
       "\n",
       "    .dataframe thead th {\n",
       "        text-align: right;\n",
       "    }\n",
       "</style>\n",
       "<table border=\"1\" class=\"dataframe\">\n",
       "  <thead>\n",
       "    <tr style=\"text-align: right;\">\n",
       "      <th></th>\n",
       "      <th>Colorado</th>\n",
       "      <th>Texas</th>\n",
       "      <th>New York</th>\n",
       "      <th>Ohio</th>\n",
       "    </tr>\n",
       "  </thead>\n",
       "  <tbody>\n",
       "    <tr>\n",
       "      <th>2000-01-31</th>\n",
       "      <td>1.025930</td>\n",
       "      <td>-0.974227</td>\n",
       "      <td>0.842722</td>\n",
       "      <td>1.017311</td>\n",
       "    </tr>\n",
       "    <tr>\n",
       "      <th>2000-02-29</th>\n",
       "      <td>1.171868</td>\n",
       "      <td>-1.525096</td>\n",
       "      <td>-0.159692</td>\n",
       "      <td>0.148648</td>\n",
       "    </tr>\n",
       "  </tbody>\n",
       "</table>\n",
       "</div>"
      ],
      "text/plain": [
       "            Colorado     Texas  New York      Ohio\n",
       "2000-01-31  1.025930 -0.974227  0.842722  1.017311\n",
       "2000-02-29  1.171868 -1.525096 -0.159692  0.148648"
      ]
     },
     "execution_count": 67,
     "metadata": {},
     "output_type": "execute_result"
    }
   ],
   "source": [
    "frame = pd.DataFrame(np.random.randn(2, 4),\n",
    "                     index=pd.date_range('1/1/2000', periods=2,\n",
    "                                         freq='M'),\n",
    "                     columns=['Colorado', 'Texas', 'New York', 'Ohio'])\n",
    "frame"
   ]
  },
  {
   "cell_type": "code",
   "execution_count": 68,
   "metadata": {},
   "outputs": [
    {
     "data": {
      "text/html": [
       "<div>\n",
       "<style scoped>\n",
       "    .dataframe tbody tr th:only-of-type {\n",
       "        vertical-align: middle;\n",
       "    }\n",
       "\n",
       "    .dataframe tbody tr th {\n",
       "        vertical-align: top;\n",
       "    }\n",
       "\n",
       "    .dataframe thead th {\n",
       "        text-align: right;\n",
       "    }\n",
       "</style>\n",
       "<table border=\"1\" class=\"dataframe\">\n",
       "  <thead>\n",
       "    <tr style=\"text-align: right;\">\n",
       "      <th></th>\n",
       "      <th>Colorado</th>\n",
       "      <th>Texas</th>\n",
       "      <th>New York</th>\n",
       "      <th>Ohio</th>\n",
       "    </tr>\n",
       "  </thead>\n",
       "  <tbody>\n",
       "    <tr>\n",
       "      <th>2000-01</th>\n",
       "      <td>1.025930</td>\n",
       "      <td>-0.974227</td>\n",
       "      <td>0.842722</td>\n",
       "      <td>1.017311</td>\n",
       "    </tr>\n",
       "    <tr>\n",
       "      <th>2000-02</th>\n",
       "      <td>1.171868</td>\n",
       "      <td>-1.525096</td>\n",
       "      <td>-0.159692</td>\n",
       "      <td>0.148648</td>\n",
       "    </tr>\n",
       "  </tbody>\n",
       "</table>\n",
       "</div>"
      ],
      "text/plain": [
       "         Colorado     Texas  New York      Ohio\n",
       "2000-01  1.025930 -0.974227  0.842722  1.017311\n",
       "2000-02  1.171868 -1.525096 -0.159692  0.148648"
      ]
     },
     "execution_count": 68,
     "metadata": {},
     "output_type": "execute_result"
    }
   ],
   "source": [
    "df_month = frame.resample('M', kind='period').sum()\n",
    "df_month"
   ]
  },
  {
   "cell_type": "code",
   "execution_count": 69,
   "metadata": {},
   "outputs": [
    {
     "data": {
      "text/html": [
       "<div>\n",
       "<style scoped>\n",
       "    .dataframe tbody tr th:only-of-type {\n",
       "        vertical-align: middle;\n",
       "    }\n",
       "\n",
       "    .dataframe tbody tr th {\n",
       "        vertical-align: top;\n",
       "    }\n",
       "\n",
       "    .dataframe thead th {\n",
       "        text-align: right;\n",
       "    }\n",
       "</style>\n",
       "<table border=\"1\" class=\"dataframe\">\n",
       "  <thead>\n",
       "    <tr style=\"text-align: right;\">\n",
       "      <th></th>\n",
       "      <th>Colorado</th>\n",
       "      <th>Texas</th>\n",
       "      <th>New York</th>\n",
       "      <th>Ohio</th>\n",
       "    </tr>\n",
       "  </thead>\n",
       "  <tbody>\n",
       "    <tr>\n",
       "      <th>2000-01-01</th>\n",
       "      <td>1.02593</td>\n",
       "      <td>-0.974227</td>\n",
       "      <td>0.842722</td>\n",
       "      <td>1.017311</td>\n",
       "    </tr>\n",
       "    <tr>\n",
       "      <th>2000-01-02</th>\n",
       "      <td>NaN</td>\n",
       "      <td>NaN</td>\n",
       "      <td>NaN</td>\n",
       "      <td>NaN</td>\n",
       "    </tr>\n",
       "    <tr>\n",
       "      <th>2000-01-03</th>\n",
       "      <td>NaN</td>\n",
       "      <td>NaN</td>\n",
       "      <td>NaN</td>\n",
       "      <td>NaN</td>\n",
       "    </tr>\n",
       "    <tr>\n",
       "      <th>2000-01-04</th>\n",
       "      <td>NaN</td>\n",
       "      <td>NaN</td>\n",
       "      <td>NaN</td>\n",
       "      <td>NaN</td>\n",
       "    </tr>\n",
       "    <tr>\n",
       "      <th>2000-01-05</th>\n",
       "      <td>NaN</td>\n",
       "      <td>NaN</td>\n",
       "      <td>NaN</td>\n",
       "      <td>NaN</td>\n",
       "    </tr>\n",
       "  </tbody>\n",
       "</table>\n",
       "</div>"
      ],
      "text/plain": [
       "            Colorado     Texas  New York      Ohio\n",
       "2000-01-01   1.02593 -0.974227  0.842722  1.017311\n",
       "2000-01-02       NaN       NaN       NaN       NaN\n",
       "2000-01-03       NaN       NaN       NaN       NaN\n",
       "2000-01-04       NaN       NaN       NaN       NaN\n",
       "2000-01-05       NaN       NaN       NaN       NaN"
      ]
     },
     "execution_count": 69,
     "metadata": {},
     "output_type": "execute_result"
    }
   ],
   "source": [
    "df_daily = df_month.resample('D', convention='start').asfreq()\n",
    "df_daily.head()"
   ]
  }
 ],
 "metadata": {
  "interpreter": {
   "hash": "68e46c7c86c1cc2409d6e31d27c78e45e4d67aa8b7a5fb870e63d2734be169e0"
  },
  "kernelspec": {
   "display_name": "Python 3",
   "language": "python",
   "name": "python3"
  },
  "language_info": {
   "codemirror_mode": {
    "name": "ipython",
    "version": 3
   },
   "file_extension": ".py",
   "mimetype": "text/x-python",
   "name": "python",
   "nbconvert_exporter": "python",
   "pygments_lexer": "ipython3",
   "version": "3.8.8"
  }
 },
 "nbformat": 4,
 "nbformat_minor": 2
}
