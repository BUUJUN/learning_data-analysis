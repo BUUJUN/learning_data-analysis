{
 "cells": [
  {
   "cell_type": "markdown",
   "metadata": {},
   "source": [
    "numpy 入门"
   ]
  },
  {
   "cell_type": "code",
   "execution_count": 1,
   "metadata": {},
   "outputs": [],
   "source": [
    "import numpy as np"
   ]
  },
  {
   "cell_type": "markdown",
   "metadata": {},
   "source": [
    "## 基于 NumPy 比纯 Python 处理的速度更快, 占用的内存更少"
   ]
  },
  {
   "cell_type": "code",
   "execution_count": 2,
   "metadata": {},
   "outputs": [
    {
     "name": "stdout",
     "output_type": "stream",
     "text": [
      "Wall time: 2.99 ms\n",
      "Wall time: 339 ms\n"
     ]
    }
   ],
   "source": [
    "my_arr = np.arange(1000000)\n",
    "my_list = list(range(1000000))\n",
    "%time my_arr2 = my_arr ** 2\n",
    "%time my_list2 = [x ** 2 for x in my_list]"
   ]
  },
  {
   "cell_type": "markdown",
   "metadata": {},
   "source": [
    "# ***ndarray*** : 一种多维数组对象"
   ]
  },
  {
   "cell_type": "code",
   "execution_count": 3,
   "metadata": {},
   "outputs": [
    {
     "data": {
      "text/plain": [
       "(array([[ 0.61755716,  0.27939505, -0.13490957],\n",
       "        [ 0.8987287 , -0.50354707,  0.92604458]]),\n",
       " array([[ 6.17557158,  2.79395053, -1.34909571],\n",
       "        [ 8.987287  , -5.03547071,  9.26044575]]),\n",
       " array([[ 1.23511432,  0.55879011, -0.26981914],\n",
       "        [ 1.7974574 , -1.00709414,  1.85208915]]))"
      ]
     },
     "execution_count": 3,
     "metadata": {},
     "output_type": "execute_result"
    }
   ],
   "source": [
    "data = np.random.randn(2,3)  # 随机生成一个2x3的服从正态分布的随机矩阵\n",
    "data, data * 10, data + data # 所有元素都x10，所有元素各自相加"
   ]
  },
  {
   "cell_type": "markdown",
   "metadata": {},
   "source": [
    "## 每个ndarray数组都有一个 <b><i><font color=FF8888>shape</font></i></b> 和一个 <b><i><font color=FF8888>dtype</font></i></b> 属性\n",
    "><font size = 4> <b><i><font color=FF8888>shape</font></i></b> : 表示各维度大小的元组  \n",
    "><b><i><font color=FF8888>dtype</font></i></b> : 用于说明数组数据类型的对象  \n",
    "><b><i><font color=FF8888>ndim</font></i></b> : 用于说明数组的维数  \n",
    "><b><i><font color=skyblue><font color=orange>arr</font>.shape, <font color=orange>arr</font>.dtype, <font color=orange>arr</font>.ndim</font></i></b>"
   ]
  },
  {
   "cell_type": "code",
   "execution_count": 4,
   "metadata": {},
   "outputs": [
    {
     "data": {
      "text/plain": [
       "((2, 3), dtype('float64'), 2)"
      ]
     },
     "execution_count": 4,
     "metadata": {},
     "output_type": "execute_result"
    }
   ],
   "source": [
    "data.shape, data.dtype, data.ndim"
   ]
  },
  {
   "cell_type": "markdown",
   "metadata": {},
   "source": [
    "# ***ndarray*** 的创建"
   ]
  },
  {
   "cell_type": "markdown",
   "metadata": {},
   "source": [
    "## _**<font color = skyblue>np.array(<font color = orange>object</font>), np.asarray(<font color = orange>object</font>)</font>**_"
   ]
  },
  {
   "cell_type": "code",
   "execution_count": 5,
   "metadata": {},
   "outputs": [
    {
     "data": {
      "text/plain": [
       "((array([6. , 0.5, 8. ]), 1, (3,)),\n",
       " (array([[1, 2, 3, 4],\n",
       "         [5, 6, 7, 8]]), 2, (2, 4)))"
      ]
     },
     "execution_count": 5,
     "metadata": {},
     "output_type": "execute_result"
    }
   ],
   "source": [
    "data1 = [6, .5, 8]\n",
    "data2 = [[1, 2, 3, 4], [5, 6, 7, 8]]\n",
    "arr1 = np.array(data1)\n",
    "arr2 = np.array(data2)\n",
    "(arr1, arr1.ndim, arr1.shape), (arr2, arr2.ndim, arr2.shape)"
   ]
  },
  {
   "cell_type": "markdown",
   "metadata": {},
   "source": [
    "### _**<font color = skyblue>np.array(<font color = orange>object</font>), np.asarray(<font color = orange>object</font>)</font>**_ **<font color = FF8888>区别**</font> : \n",
    "><font size=3>数据源非ndarray : 两者都开辟新的内存复制数据  \n",
    ">数据源为ndarray : array 占用新内存就行复制, asarray 不进行复制直接引用源内存</font>"
   ]
  },
  {
   "cell_type": "code",
   "execution_count": 6,
   "metadata": {},
   "outputs": [
    {
     "data": {
      "text/plain": [
       "(array([1, 2, 3]), array([1, 2, 3]))"
      ]
     },
     "execution_count": 6,
     "metadata": {},
     "output_type": "execute_result"
    }
   ],
   "source": [
    "data = [1,2,3]\n",
    "arr1 = np.array(data)\n",
    "arr2 = np.asarray(data)\n",
    "data[1] = 4\n",
    "arr1, arr2"
   ]
  },
  {
   "cell_type": "code",
   "execution_count": 7,
   "metadata": {},
   "outputs": [
    {
     "data": {
      "text/plain": [
       "(array([  0., 999.,   0.]), array([0., 0., 0.]), array([  0., 999.,   0.]))"
      ]
     },
     "execution_count": 7,
     "metadata": {},
     "output_type": "execute_result"
    }
   ],
   "source": [
    "data = np.zeros(3)\n",
    "arr1 = np.array(data)\n",
    "arr2 = np.asarray(data)\n",
    "data[1] = 999\n",
    "data, arr1, arr2"
   ]
  },
  {
   "cell_type": "markdown",
   "metadata": {},
   "source": [
    "## _**<font color = skyblue>np.ones(<font color=orange>shape</font>), np.zeros(<font color=orange>shape</font>), np.empty(<font color=orange>shape</font>), np.full(<font color = orange>shape, fill_value</font>)</font>**_\n",
    "> <font size=4> _**<font color = skyblue>np.empty</font>**_: 给变量分配一个没有任何值的数组空间，可以定义这个空间的shape"
   ]
  },
  {
   "cell_type": "code",
   "execution_count": 8,
   "metadata": {},
   "outputs": [
    {
     "data": {
      "text/plain": [
       "(array([[0., 0., 0.],\n",
       "        [0., 0., 0.],\n",
       "        [0., 0., 0.]]),\n",
       " array([[1., 1., 1.],\n",
       "        [1., 1., 1.],\n",
       "        [1., 1., 1.]]),\n",
       " array([[0.00000000e+000, 0.00000000e+000, 0.00000000e+000],\n",
       "        [0.00000000e+000, 0.00000000e+000, 6.58095440e-321],\n",
       "        [6.23058028e-307, 1.69115935e-306, 1.89142822e-307]]),\n",
       " array([[999, 999, 999],\n",
       "        [999, 999, 999],\n",
       "        [999, 999, 999]]))"
      ]
     },
     "execution_count": 8,
     "metadata": {},
     "output_type": "execute_result"
    }
   ],
   "source": [
    "shape = (3, 3)\n",
    "arr0 = np.zeros(shape = shape)\n",
    "arr1 = np.ones(shape = shape)\n",
    "arre = np.empty(shape = shape)\n",
    "arrf = np.full(shape = shape, fill_value= 999)\n",
    "arr0, arr1, arre, arrf"
   ]
  },
  {
   "cell_type": "markdown",
   "metadata": {},
   "source": [
    "## <font color = skyblue>_**np.ones_like(<font color = orange>arr</font>), np.zeros_like(<font color = orange>arr</font>), np.empty_like(<font color = orange>arr</font>), np.full_like(<font color = orange>arr, fill_value</font>)**_</font>"
   ]
  },
  {
   "cell_type": "code",
   "execution_count": 9,
   "metadata": {},
   "outputs": [
    {
     "data": {
      "text/plain": [
       "(array([[1, 1, 1],\n",
       "        [1, 1, 1],\n",
       "        [1, 1, 1]]),\n",
       " array([[999, 999, 999],\n",
       "        [999, 999, 999],\n",
       "        [999, 999, 999]]))"
      ]
     },
     "execution_count": 9,
     "metadata": {},
     "output_type": "execute_result"
    }
   ],
   "source": [
    "data = [[1,2,3], [4,5,6], [7,8,9]]\n",
    "arr1 = np.ones_like(data)\n",
    "arrf = np.full_like(data, fill_value=999)\n",
    "arr1, arrf"
   ]
  },
  {
   "cell_type": "markdown",
   "metadata": {},
   "source": [
    "## _**<font color = skyblue>np.eye(<font color = orange>N</font>), np.identity(<font color = orange>N</font>)</font>**_"
   ]
  },
  {
   "cell_type": "code",
   "execution_count": 10,
   "metadata": {},
   "outputs": [
    {
     "data": {
      "text/plain": [
       "(array([[1., 0., 0.],\n",
       "        [0., 1., 0.],\n",
       "        [0., 0., 1.]]),\n",
       " array([[1., 0., 0.],\n",
       "        [0., 1., 0.],\n",
       "        [0., 0., 1.]]),\n",
       " array([[ True,  True,  True],\n",
       "        [ True,  True,  True],\n",
       "        [ True,  True,  True]]))"
      ]
     },
     "execution_count": 10,
     "metadata": {},
     "output_type": "execute_result"
    }
   ],
   "source": [
    "arre = np.eye(3)\n",
    "arri = np.identity(3)\n",
    "arre, arri, arre == arri"
   ]
  },
  {
   "cell_type": "markdown",
   "metadata": {},
   "source": [
    "## _**<font color = skyblue>np.arange(<font color = orange>start, stop, step</font>)</font>**_"
   ]
  },
  {
   "cell_type": "code",
   "execution_count": 11,
   "metadata": {},
   "outputs": [
    {
     "data": {
      "text/plain": [
       "array([1, 3, 5, 7, 9])"
      ]
     },
     "execution_count": 11,
     "metadata": {},
     "output_type": "execute_result"
    }
   ],
   "source": [
    "start, stop, step = 1, 10, 2\n",
    "arrr = np.arange(start = start, stop = stop, step = step)\n",
    "arrr"
   ]
  },
  {
   "cell_type": "markdown",
   "metadata": {},
   "source": [
    "## _**<font color = skyblue>np.random.randn(<font color = orange>d0, d1, d2, ...</font>)</font>**_"
   ]
  },
  {
   "cell_type": "code",
   "execution_count": 12,
   "metadata": {},
   "outputs": [
    {
     "data": {
      "text/plain": [
       "array([[[ 1.86999   ,  0.0390554 , -0.50994802, -1.78571159],\n",
       "        [-1.16586811, -1.80043925,  0.12937635, -0.51073928],\n",
       "        [ 0.90820582,  0.16733293,  1.37816101, -1.99030047]],\n",
       "\n",
       "       [[-0.37128402,  1.01049711,  1.16644033, -0.42575843],\n",
       "        [ 1.04713973,  0.30232925,  1.05983582,  1.48025048],\n",
       "        [ 0.65822568,  1.00390684,  1.51106941,  1.22224557]]])"
      ]
     },
     "execution_count": 12,
     "metadata": {},
     "output_type": "execute_result"
    }
   ],
   "source": [
    "np.random.randn(2,3,4)"
   ]
  },
  {
   "cell_type": "markdown",
   "metadata": {
    "hide_input": true
   },
   "source": [
    "# _**ndarray**_ 的数据类型"
   ]
  },
  {
   "cell_type": "markdown",
   "metadata": {},
   "source": [
    "## _**<font color = skyblue>np.array(<font color = orange>object, dtype</font>), <font color=orange>arr</font>.astype(<font color = orange>dtype</font>)</font>**_"
   ]
  },
  {
   "cell_type": "code",
   "execution_count": 13,
   "metadata": {},
   "outputs": [
    {
     "data": {
      "text/plain": [
       "(dtype('float64'), dtype('int32'))"
      ]
     },
     "execution_count": 13,
     "metadata": {},
     "output_type": "execute_result"
    }
   ],
   "source": [
    "arr1 = np.array([1, 2, 3], dtype=np.float64)\n",
    "arr2 = np.array([1, 2, 3], dtype=np.int32)\n",
    "arr1.dtype, arr2.dtype"
   ]
  },
  {
   "cell_type": "code",
   "execution_count": 14,
   "metadata": {},
   "outputs": [
    {
     "data": {
      "text/plain": [
       "(dtype('int32'), dtype('float64'))"
      ]
     },
     "execution_count": 14,
     "metadata": {},
     "output_type": "execute_result"
    }
   ],
   "source": [
    "arr = np.array([1, 2, 3, 4, 5])\n",
    "float_arr = arr.astype(np.float64)\n",
    "arr.dtype, float_arr.dtype"
   ]
  },
  {
   "cell_type": "markdown",
   "metadata": {},
   "source": [
    "| **<font size=3>类型</font>**                            | **<font size=3>类型代码</font>**     | **<font size=3>说明</font>**                    |\n",
    "|-----------------------------------|--------------|---------------------------|\n",
    "| <font size=3>int8, uint8</font>                       | <font size=3>i1, u1</font>       | <font size=3>有符号和无符号的8位（1个字节）整型</font>        |\n",
    "| <font size=3>int16, uint16</font>                     | <font size=3>i2, u2</font>       | <font size=3>有符号和无符号的16位（2个字节）整型</font>       |\n",
    "| <font size=3>int32, uint32</font>                     | <font size=3>i4, u4</font>       | <font size=3>有符号和无符号的32位（4个字节）整型</font>       |\n",
    "| <font size=3>int64, uint64</font>                     | <font size=3>i8, u8</font>       | <font size=3>有符号和无符号的64位（8个字节）整型</font>       |\n",
    "| <font size=3>float16</font>                           | <font size=3>f2</font>           | <font size=3>半精度浮点数</font>                    |\n",
    "| <font size=3>float32</font>                           | <font size=3>f4 or f</font>      | <font size=3>单精度浮点数</font>                    |\n",
    "| <font size=3>float64</font>                           | <font size=3>f8 or d</font>      | <font size=3>双精度浮点数</font>                    |\n",
    "| <font size=3>float128</font>                          | <font size=3>f16 or g</font>     | <font size=3>扩展精度浮点数</font>                   |\n",
    "| <font size=3>complex64, complex128, complex256</font> | <font size=3>c8, c16, c32</font> | <font size=3>分别用两个32位、64位和128位浮点数表示的复数</font> |\n",
    "| <font size=3>bool</font>                              | <font size=3>?</font>            | <font size=3>存储 True 和 False 值得布尔类型</font>    |\n",
    "| <font size=3>objec</font>                            | <font size=3>O</font>            | <font size=3>Python 的对象类型</font>              |\n",
    "| <font size=3>string\\_</font>                          | <font size=3>S</font>            | <font size=3>固定长度的字符串类型</font>                |\n",
    "| <font size=3>unicode\\_</font>                         | <font size=3>U</font>            | <font size=3>固定长度的 unicode 类型</font>          |"
   ]
  },
  {
   "cell_type": "markdown",
   "metadata": {},
   "source": [
    "## 类型转换"
   ]
  },
  {
   "cell_type": "markdown",
   "metadata": {},
   "source": [
    "### float → int : 截断取整"
   ]
  },
  {
   "cell_type": "code",
   "execution_count": 15,
   "metadata": {},
   "outputs": [
    {
     "data": {
      "text/plain": [
       "(array([ 3.7, -1.2, -2.6,  0.5, 12.9, 10.1]), array([ 3, -1, -2,  0, 12, 10]))"
      ]
     },
     "execution_count": 15,
     "metadata": {},
     "output_type": "execute_result"
    }
   ],
   "source": [
    "arr = np.array([3.7, -1.2, -2.6, 0.5, 12.9, 10.1])\n",
    "arr, arr.astype(np.int32) #截断取整"
   ]
  },
  {
   "cell_type": "markdown",
   "metadata": {},
   "source": [
    "### string_ → float : 截取\n",
    "> <font size=3>NumPy 的字符串数据是<b><font color = FF8888>大小固定</font></b>的，使用 **<font color = orange>np.string_</font>** 类型时会发生<b><font color = FF8888>截取</font></b>"
   ]
  },
  {
   "cell_type": "code",
   "execution_count": 16,
   "metadata": {},
   "outputs": [
    {
     "data": {
      "text/plain": [
       "(array([ 1.25555556, -9.6       , 42.        ]), dtype('S12'))"
      ]
     },
     "execution_count": 16,
     "metadata": {},
     "output_type": "execute_result"
    }
   ],
   "source": [
    "numeric_strings = np.array(['1.2555555555', '-9.6', '42'], dtype=np.string_)\n",
    "numeric_strings.astype(float), numeric_strings.dtype"
   ]
  },
  {
   "cell_type": "markdown",
   "metadata": {},
   "source": [
    "# ***ndarray*** 的运算"
   ]
  },
  {
   "cell_type": "markdown",
   "metadata": {},
   "source": [
    "## <i><b><font color=skyblue>arr1+arr2, arr1-arr2, arr1*arr2, arr1/arr2</font></b></i>\n",
    "> <font size=4>矢量化运算：大小相等的数组之间的任何算术运算都会将运算应用到元素级"
   ]
  },
  {
   "cell_type": "code",
   "execution_count": 17,
   "metadata": {},
   "outputs": [
    {
     "data": {
      "text/plain": [
       "(array([[1., 2., 3.],\n",
       "        [4., 5., 6.]]),\n",
       " array([[ 1.,  4.,  9.],\n",
       "        [16., 25., 36.]]),\n",
       " array([[0., 0., 0.],\n",
       "        [0., 0., 0.]]),\n",
       " array([[1., 1., 1.],\n",
       "        [1., 1., 1.]]))"
      ]
     },
     "execution_count": 17,
     "metadata": {},
     "output_type": "execute_result"
    }
   ],
   "source": [
    "arr = np.array([[1., 2., 3.], [4., 5., 6.]])\n",
    "arr, arr * arr, arr - arr,  arr / arr"
   ]
  },
  {
   "cell_type": "markdown",
   "metadata": {},
   "source": [
    "## <i><b><font color = skyblue>arr+num, arr-num, arr*num, arr/num, num/arr, arr**num</font></b></i>\n",
    "> <font size=4> 数组与标量的算术运算：会将标量值传播到数组的各个元素"
   ]
  },
  {
   "cell_type": "code",
   "execution_count": 18,
   "metadata": {},
   "outputs": [
    {
     "data": {
      "text/plain": [
       "(array([[1., 2., 3.],\n",
       "        [4., 5., 6.]]),\n",
       " array([[2., 3., 4.],\n",
       "        [5., 6., 7.]]),\n",
       " array([[ 2.,  4.,  6.],\n",
       "        [ 8., 10., 12.]]),\n",
       " array([[1.        , 0.5       , 0.33333333],\n",
       "        [0.25      , 0.2       , 0.16666667]]),\n",
       " array([[ 1.,  4.,  9.],\n",
       "        [16., 25., 36.]]))"
      ]
     },
     "execution_count": 18,
     "metadata": {},
     "output_type": "execute_result"
    }
   ],
   "source": [
    "arr = np.array([[1., 2., 3.], [4., 5., 6.]])\n",
    "arr, arr + 1, arr / 0.5, 1 / arr, arr**2"
   ]
  },
  {
   "cell_type": "markdown",
   "metadata": {},
   "source": [
    "## <i><b><font color = skyblue>arr2>arr1</font></b></i>\n",
    "> <font size=4> 布尔运算：大小相同的数组之间的比较会生成布尔值数组"
   ]
  },
  {
   "cell_type": "code",
   "execution_count": 19,
   "metadata": {},
   "outputs": [
    {
     "data": {
      "text/plain": [
       "array([[False,  True, False],\n",
       "       [ True, False,  True]])"
      ]
     },
     "execution_count": 19,
     "metadata": {},
     "output_type": "execute_result"
    }
   ],
   "source": [
    "arr1 = np.array([[1., 2., 3.], [4., 5., 6.]])\n",
    "arr2 = np.array([[0., 4., 1.], [7., 2., 12.]])\n",
    "arr2 > arr"
   ]
  },
  {
   "cell_type": "markdown",
   "metadata": {},
   "source": [
    "# 切片与索引"
   ]
  },
  {
   "cell_type": "markdown",
   "metadata": {},
   "source": [
    "## 基本的切片和索引\n",
    "> <font size=4> _**<font color = skyblue>arr[ <font color = orange>d1</font>, <font color = orange>d2</font>, <font color = orange>...</font> ], arr[ <font color = orange>d1</font> ][ <font color = orange>d2</font> ]...</font>**_ "
   ]
  },
  {
   "cell_type": "code",
   "execution_count": 20,
   "metadata": {},
   "outputs": [
    {
     "data": {
      "text/plain": [
       "(array([0, 1, 2, 3, 4, 5, 6, 7, 8, 9]),\n",
       " 5,\n",
       " array([5, 6, 7]),\n",
       " array([5, 6, 7, 8]),\n",
       " array([5, 6, 7, 8, 9]))"
      ]
     },
     "execution_count": 20,
     "metadata": {},
     "output_type": "execute_result"
    }
   ],
   "source": [
    "arr = np.arange(10)\n",
    "arr, arr[5], arr[5:8], arr[-5:-1], arr[-5:10]"
   ]
  },
  {
   "cell_type": "markdown",
   "metadata": {},
   "source": [
    "### 切片的赋值（广播）"
   ]
  },
  {
   "cell_type": "code",
   "execution_count": 21,
   "metadata": {},
   "outputs": [
    {
     "data": {
      "text/plain": [
       "array([ 0,  1,  2,  3,  4, 12, 12, 12,  8,  9])"
      ]
     },
     "execution_count": 21,
     "metadata": {},
     "output_type": "execute_result"
    }
   ],
   "source": [
    "arr[5:8] = 12\n",
    "arr "
   ]
  },
  {
   "cell_type": "markdown",
   "metadata": {},
   "source": [
    "<font size=3> 基本切片的赋值 : **<font color = FF8888>直接引用内存（原地操作）</font>**"
   ]
  },
  {
   "cell_type": "code",
   "execution_count": 22,
   "metadata": {},
   "outputs": [
    {
     "name": "stdout",
     "output_type": "stream",
     "text": [
      "[0 1 2 3 4 5 6 7 8 9]\n",
      "[0 1 2 3 4 0 0 0 0 0]\n"
     ]
    }
   ],
   "source": [
    "arr = np.arange(10)\n",
    "print(arr)\n",
    "arr_slice = arr[5:]\n",
    "arr_slice[:] = 0\n",
    "print(arr)"
   ]
  },
  {
   "cell_type": "markdown",
   "metadata": {},
   "source": [
    "<font size=3>如果想得到切片的副本而不是引用, 要明确进行复制操作 : ***<font color = skyblue><font color = orange>arr</font>.copy()</font>***"
   ]
  },
  {
   "cell_type": "code",
   "execution_count": 23,
   "metadata": {},
   "outputs": [
    {
     "name": "stdout",
     "output_type": "stream",
     "text": [
      "[0 1 2 3 4 5 6 7 8 9]\n",
      "[0 1 2 3 4 5 6 7 8 9]\n",
      "[0 0 0 0 0]\n"
     ]
    }
   ],
   "source": [
    "arr = np.arange(10)\n",
    "print(arr)\n",
    "arr_copy = arr[5:].copy()\n",
    "arr_copy[:] = 0\n",
    "print(arr)\n",
    "print(arr_copy)"
   ]
  },
  {
   "cell_type": "markdown",
   "metadata": {},
   "source": [
    "### 对多维数组的切片"
   ]
  },
  {
   "cell_type": "code",
   "execution_count": 24,
   "metadata": {},
   "outputs": [
    {
     "data": {
      "text/plain": [
       "(array([[ 1,  2,  3],\n",
       "        [ 4,  5,  6],\n",
       "        [ 7,  8,  9],\n",
       "        [10, 11, 12]]),\n",
       " array([[ 4,  5,  6],\n",
       "        [ 7,  8,  9],\n",
       "        [10, 11, 12]]),\n",
       " array([[ 7,  8,  9],\n",
       "        [10, 11, 12]]),\n",
       " array([[ 5,  6],\n",
       "        [ 8,  9],\n",
       "        [11, 12]]))"
      ]
     },
     "execution_count": 24,
     "metadata": {},
     "output_type": "execute_result"
    }
   ],
   "source": [
    "arr2d = np.array([[1, 2, 3], [4, 5, 6], [7, 8, 9], [10, 11, 12]])\n",
    "arr2d, arr2d[1:], arr2d[1:][1:], arr2d[1:, 1:]"
   ]
  },
  {
   "cell_type": "code",
   "execution_count": 25,
   "metadata": {},
   "outputs": [
    {
     "data": {
      "text/plain": [
       "(array([[[ 1,  2,  3],\n",
       "         [ 4,  5,  6]],\n",
       " \n",
       "        [[ 7,  8,  9],\n",
       "         [10, 11, 12]]]),\n",
       " array([[1, 2, 3],\n",
       "        [4, 5, 6]]),\n",
       " array([[1, 2, 3],\n",
       "        [7, 8, 9]]),\n",
       " array([[ 1,  4],\n",
       "        [ 7, 10]]))"
      ]
     },
     "execution_count": 25,
     "metadata": {},
     "output_type": "execute_result"
    }
   ],
   "source": [
    "arr3d = np.array([[[1, 2, 3], [4, 5, 6]], [[7, 8, 9], [10, 11, 12]]])\n",
    "arr3d, arr3d[0, :, :], arr3d[:, 0, :], arr3d[:, :, 0]"
   ]
  },
  {
   "cell_type": "markdown",
   "metadata": {},
   "source": [
    "<font size=3> 在多维数组中, 如果省略了后面的索引, 则返回一个维度低一点的数组 : _**<font color = skyblue>arr[d1].ndim = arr.ndim - 1</font>**_ "
   ]
  },
  {
   "cell_type": "code",
   "execution_count": 26,
   "metadata": {},
   "outputs": [
    {
     "data": {
      "text/plain": [
       "(array([[1, 2, 3],\n",
       "        [4, 5, 6]]),\n",
       " array([[1, 2, 3],\n",
       "        [4, 5, 6]]),\n",
       " array([1, 2, 3]),\n",
       " array([1, 2, 3]))"
      ]
     },
     "execution_count": 26,
     "metadata": {},
     "output_type": "execute_result"
    }
   ],
   "source": [
    "arr3d[0], arr3d[0, :, :], arr3d[0][0], arr3d[0, 0, :]"
   ]
  },
  {
   "cell_type": "markdown",
   "metadata": {},
   "source": [
    "<font size=3> 高维数组切片的赋值"
   ]
  },
  {
   "cell_type": "code",
   "execution_count": 27,
   "metadata": {},
   "outputs": [
    {
     "name": "stdout",
     "output_type": "stream",
     "text": [
      "[[1 2 3]\n",
      " [4 5 6]\n",
      " [7 8 9]]\n",
      "[[1 0 0]\n",
      " [4 0 0]\n",
      " [7 8 9]]\n"
     ]
    }
   ],
   "source": [
    "arr2d = np.array([[1, 2, 3], [4, 5, 6], [7, 8, 9]])\n",
    "print(arr2d)\n",
    "arr2d[:2, 1:] = 0\n",
    "print(arr2d)"
   ]
  },
  {
   "cell_type": "markdown",
   "metadata": {},
   "source": [
    "## 布尔型索引\n",
    "> <font size=4>_**<font color = skyblue>arr[ <font color = orange>condition</font> ]</font>**_ "
   ]
  },
  {
   "cell_type": "code",
   "execution_count": 28,
   "metadata": {},
   "outputs": [
    {
     "data": {
      "text/plain": [
       "(array(['Bob', 'Joe', 'Will', 'Bob', 'Will', 'Joe', 'Joe'], dtype='<U4'),\n",
       " array([[93, 95, 94, 94, 91, 90, 92],\n",
       "        [90, 96, 95, 92, 99, 99, 90],\n",
       "        [97, 99, 95, 94, 99, 93, 95],\n",
       "        [90, 95, 95, 90, 98, 91, 95]]))"
      ]
     },
     "execution_count": 28,
     "metadata": {},
     "output_type": "execute_result"
    }
   ],
   "source": [
    "names = np.array(['Bob', 'Joe', 'Will', 'Bob', 'Will', 'Joe', 'Joe'])\n",
    "courses = np.array(['Maths', 'English', 'Physics', 'Python'])\n",
    "data = np.random.randint(90, 100, (4, 7))\n",
    "names, data"
   ]
  },
  {
   "cell_type": "markdown",
   "metadata": {},
   "source": [
    "### 布尔型数组"
   ]
  },
  {
   "cell_type": "code",
   "execution_count": 29,
   "metadata": {},
   "outputs": [
    {
     "data": {
      "text/plain": [
       "(array([ True, False, False,  True, False, False, False]),\n",
       " array([False, False, False,  True]))"
      ]
     },
     "execution_count": 29,
     "metadata": {},
     "output_type": "execute_result"
    }
   ],
   "source": [
    "names == 'Bob', courses == 'Python'"
   ]
  },
  {
   "cell_type": "markdown",
   "metadata": {},
   "source": [
    "<font size=3> 布尔型数组的长度必须跟被索引的轴长度一致"
   ]
  },
  {
   "cell_type": "code",
   "execution_count": 30,
   "metadata": {},
   "outputs": [
    {
     "data": {
      "text/plain": [
       "(array([[93, 94],\n",
       "        [90, 92],\n",
       "        [97, 94],\n",
       "        [90, 90]]),\n",
       " array([[90, 95, 95, 90, 98, 91, 95]]),\n",
       " array([90, 90]))"
      ]
     },
     "execution_count": 30,
     "metadata": {},
     "output_type": "execute_result"
    }
   ],
   "source": [
    "data[:, names == 'Bob'], data[courses == 'Python', :], \\\n",
    "data[courses == 'Python', names == 'Bob']"
   ]
  },
  {
   "cell_type": "markdown",
   "metadata": {},
   "source": [
    "<font size=3> 操作符 '<b><font color = FF8888>~</font></b>'"
   ]
  },
  {
   "cell_type": "code",
   "execution_count": 31,
   "metadata": {},
   "outputs": [
    {
     "data": {
      "text/plain": [
       "array([[93, 95, 94, 94, 91, 90, 92],\n",
       "       [90, 96, 95, 92, 99, 99, 90],\n",
       "       [97, 99, 95, 94, 99, 93, 95]])"
      ]
     },
     "execution_count": 31,
     "metadata": {},
     "output_type": "execute_result"
    }
   ],
   "source": [
    "data[~(courses == 'Python')]"
   ]
  },
  {
   "cell_type": "markdown",
   "metadata": {},
   "source": [
    "<font size=3> 操作符 '<b><font color = FF8888>&</font></b>', '<b><font color = FF8888>|</font></b>'\n",
    "><font size=2> Python 关键字 '<font color = FF8888>and</font>' 和 '<font color = FF8888>or</font>' 在布尔型数组中无效, 要使用 '<font color = FF8888>&</font>' 与 '<font color = FF8888>|</font>' "
   ]
  },
  {
   "cell_type": "code",
   "execution_count": 32,
   "metadata": {},
   "outputs": [
    {
     "data": {
      "text/plain": [
       "array([[93, 95, 94, 94, 91, 90, 92],\n",
       "       [97, 99, 95, 94, 99, 93, 95]])"
      ]
     },
     "execution_count": 32,
     "metadata": {},
     "output_type": "execute_result"
    }
   ],
   "source": [
    "mask = (courses == 'Maths') | (courses == 'Physics')\n",
    "data[mask]"
   ]
  },
  {
   "cell_type": "markdown",
   "metadata": {},
   "source": [
    "### 通过布尔型索引选取数组中的数据，将总是创建数据的副本\n",
    "> <font size=3>基本切片：引用内存；布尔索引：创建副本"
   ]
  },
  {
   "cell_type": "code",
   "execution_count": 33,
   "metadata": {},
   "outputs": [
    {
     "name": "stdout",
     "output_type": "stream",
     "text": [
      "[ True False  True False]\n",
      "[[99 97 98 92 92 90 99]\n",
      " [94 94 95 94 91 94 98]]\n",
      "[[99 97 98 92 92 90 99]\n",
      " [95 99 92 99 93 99 97]\n",
      " [94 94 95 94 91 94 98]\n",
      " [91 94 95 94 96 90 99]]\n"
     ]
    }
   ],
   "source": [
    "data = np.random.randint(90, 100, (4, 7))\n",
    "mask = (courses == 'Maths') | (courses == 'Physics')\n",
    "print(mask)\n",
    "data_mask = data[mask] \n",
    "print(data_mask)\n",
    "data_mask[:] = 0\n",
    "print(data)"
   ]
  },
  {
   "cell_type": "code",
   "execution_count": 34,
   "metadata": {},
   "outputs": [
    {
     "name": "stdout",
     "output_type": "stream",
     "text": [
      "[[99 97 98 92 92 90 99]\n",
      " [95 99 92 99 93 99 97]]\n",
      "[[ 0  0  0  0  0  0  0]\n",
      " [ 0  0  0  0  0  0  0]\n",
      " [94 94 95 94 91 94 98]\n",
      " [91 94 95 94 96 90 99]]\n"
     ]
    }
   ],
   "source": [
    "data_slice = data[0:2, :]\n",
    "print(data_slice)\n",
    "data_slice[:] = 0\n",
    "print(data)"
   ]
  },
  {
   "cell_type": "markdown",
   "metadata": {},
   "source": [
    "### 布尔型切片赋值"
   ]
  },
  {
   "cell_type": "code",
   "execution_count": 35,
   "metadata": {},
   "outputs": [
    {
     "name": "stdout",
     "output_type": "stream",
     "text": [
      "[[92 95 92 93 93 90 96]\n",
      " [90 98 99 97 91 96 95]\n",
      " [94 95 97 97 98 98 96]\n",
      " [90 97 96 97 96 93 95]]\n",
      "[[ 0 95  0  0  0  0 96]\n",
      " [ 0 98 99 97  0 96 95]\n",
      " [ 0 95 97 97 98 98 96]\n",
      " [ 0 97 96 97 96  0 95]]\n"
     ]
    }
   ],
   "source": [
    "data = np.random.randint(90, 100, (4, 7))\n",
    "print(data)\n",
    "data[data < 95] = 0\n",
    "print(data)"
   ]
  },
  {
   "cell_type": "markdown",
   "metadata": {},
   "source": [
    "## 花式索引（Fancy Indexing）\n",
    "><font size=4>_**<font color = skyblue>arr[ <font color = orange>list1</font>, <font color = orange>list2</font>, <font color = orange>...</font> ]</font>**_ "
   ]
  },
  {
   "cell_type": "code",
   "execution_count": 36,
   "metadata": {},
   "outputs": [
    {
     "data": {
      "text/plain": [
       "array([[ 0,  1,  2,  3],\n",
       "       [ 1,  2,  3,  4],\n",
       "       [ 2,  3,  4,  5],\n",
       "       [ 3,  4,  5,  6],\n",
       "       [ 4,  5,  6,  7],\n",
       "       [ 5,  6,  7,  8],\n",
       "       [ 6,  7,  8,  9],\n",
       "       [ 7,  8,  9, 10]])"
      ]
     },
     "execution_count": 36,
     "metadata": {},
     "output_type": "execute_result"
    }
   ],
   "source": [
    "arr = np.empty((8, 4))\n",
    "for i in range(8):\n",
    "    for j in range(4):\n",
    "        arr[i,j] = i+j\n",
    "arr = arr.astype(np.int32)\n",
    "arr"
   ]
  },
  {
   "cell_type": "markdown",
   "metadata": {},
   "source": [
    "### 利用整数数组进行索引"
   ]
  },
  {
   "cell_type": "code",
   "execution_count": 37,
   "metadata": {},
   "outputs": [
    {
     "data": {
      "text/plain": [
       "(array([[4, 5, 6, 7],\n",
       "        [3, 4, 5, 6],\n",
       "        [0, 1, 2, 3],\n",
       "        [6, 7, 8, 9]]),\n",
       " array([[5, 6, 7, 8],\n",
       "        [3, 4, 5, 6],\n",
       "        [1, 2, 3, 4]]))"
      ]
     },
     "execution_count": 37,
     "metadata": {},
     "output_type": "execute_result"
    }
   ],
   "source": [
    "arr[[4, 3, 0, 6]], arr[[-3, -5, -7]]"
   ]
  },
  {
   "cell_type": "markdown",
   "metadata": {},
   "source": [
    "### 一次传入多个索引数组 : 返回一个一维数组, 其中的元素对应各个索引元组"
   ]
  },
  {
   "cell_type": "code",
   "execution_count": 38,
   "metadata": {},
   "outputs": [
    {
     "data": {
      "text/plain": [
       "array([6, 4, 0, 9])"
      ]
     },
     "execution_count": 38,
     "metadata": {},
     "output_type": "execute_result"
    }
   ],
   "source": [
    "arr[[4, 3, 0, 6], [2, 1, 0, 3]]\n",
    "# 最终选出的是元素 (4, 2), (3, 1), (0, 0), (6, 3)\n",
    "# 无论数组是多少维的，花式索引总是一维的"
   ]
  },
  {
   "cell_type": "code",
   "execution_count": 39,
   "metadata": {},
   "outputs": [
    {
     "data": {
      "text/plain": [
       "array([[6, 5, 4, 7],\n",
       "       [5, 4, 3, 6],\n",
       "       [2, 1, 0, 3],\n",
       "       [8, 7, 6, 9]])"
      ]
     },
     "execution_count": 39,
     "metadata": {},
     "output_type": "execute_result"
    }
   ],
   "source": [
    "arr[[4, 3, 0, 6]][:, [2, 1, 0, 3]]"
   ]
  },
  {
   "cell_type": "markdown",
   "metadata": {},
   "source": [
    "### 通过花式索引选取数组中的数据，将总是创建数据的副本\n",
    "> <font size=3>基本切片 : <font color = skyblue>引用内存</font>; \n",
    "> <font size=3> 布尔索引 : <font color = FF8888>复制副本</font>; 花式索引 : <font color = FF8888>复制副本</font>"
   ]
  },
  {
   "cell_type": "code",
   "execution_count": 40,
   "metadata": {},
   "outputs": [
    {
     "name": "stdout",
     "output_type": "stream",
     "text": [
      "[[0 1 2 3]\n",
      " [1 2 3 4]\n",
      " [2 3 4 5]\n",
      " [3 4 5 6]]\n",
      "[[ 0  1  2  3]\n",
      " [ 1  2  3  4]\n",
      " [ 2  3  4  5]\n",
      " [ 3  4  5  6]\n",
      " [ 4  5  6  7]\n",
      " [ 5  6  7  8]\n",
      " [ 6  7  8  9]\n",
      " [ 7  8  9 10]]\n"
     ]
    }
   ],
   "source": [
    "arr_fancy = arr[range(0,4)][:, range(0,4)]\n",
    "print(arr_fancy)\n",
    "arr_fancy[:] = 0\n",
    "print(arr)"
   ]
  },
  {
   "cell_type": "markdown",
   "metadata": {},
   "source": [
    "# 数组转置和轴对换"
   ]
  },
  {
   "cell_type": "markdown",
   "metadata": {},
   "source": [
    "## _**<font color = orange>arr</font><font color = skyblue>.T</font>**_ : 转置"
   ]
  },
  {
   "cell_type": "code",
   "execution_count": 41,
   "metadata": {},
   "outputs": [
    {
     "data": {
      "text/plain": [
       "(array([[ 0,  1,  2,  3,  4],\n",
       "        [ 5,  6,  7,  8,  9],\n",
       "        [10, 11, 12, 13, 14]]),\n",
       " array([[ 0,  5, 10],\n",
       "        [ 1,  6, 11],\n",
       "        [ 2,  7, 12],\n",
       "        [ 3,  8, 13],\n",
       "        [ 4,  9, 14]]))"
      ]
     },
     "execution_count": 41,
     "metadata": {},
     "output_type": "execute_result"
    }
   ],
   "source": [
    "arr = np.arange(15).reshape((3, 5))\n",
    "arr, arr.T"
   ]
  },
  {
   "cell_type": "markdown",
   "metadata": {},
   "source": [
    "## _**<font color = skyblue>np.dot(<font color = orange>arr1, arr2</font>)</font>**_ : 矩阵内积"
   ]
  },
  {
   "cell_type": "code",
   "execution_count": 42,
   "metadata": {},
   "outputs": [
    {
     "data": {
      "text/plain": [
       "array([[ 30,  80, 130],\n",
       "       [ 80, 255, 430],\n",
       "       [130, 430, 730]])"
      ]
     },
     "execution_count": 42,
     "metadata": {},
     "output_type": "execute_result"
    }
   ],
   "source": [
    "np.dot(arr, arr.T)  #3x5 5x3 → 3x3"
   ]
  },
  {
   "cell_type": "markdown",
   "metadata": {},
   "source": [
    "## _**<font color = orange>arr</font><font color = skyblue>.transpose(<font color = orange>axes</font>)</font>**_ : 轴对换\n",
    "> <font size=4> _**<font color = orange>axes</font>**_ : 轴编号序列的元组"
   ]
  },
  {
   "cell_type": "code",
   "execution_count": 43,
   "metadata": {},
   "outputs": [
    {
     "data": {
      "text/plain": [
       "(array([[ 0,  1,  2,  3,  4],\n",
       "        [ 5,  6,  7,  8,  9],\n",
       "        [10, 11, 12, 13, 14]]),\n",
       " array([[ 0,  1,  2,  3,  4],\n",
       "        [ 5,  6,  7,  8,  9],\n",
       "        [10, 11, 12, 13, 14]]),\n",
       " array([[ 0,  5, 10],\n",
       "        [ 1,  6, 11],\n",
       "        [ 2,  7, 12],\n",
       "        [ 3,  8, 13],\n",
       "        [ 4,  9, 14]]))"
      ]
     },
     "execution_count": 43,
     "metadata": {},
     "output_type": "execute_result"
    }
   ],
   "source": [
    "arr = np.arange(15).reshape((3, 5))\n",
    "arr, arr.transpose((0, 1)), arr.transpose((1, 0)) # 第1轴与第2轴互换位置"
   ]
  },
  {
   "cell_type": "code",
   "execution_count": 44,
   "metadata": {},
   "outputs": [
    {
     "data": {
      "text/plain": [
       "(array([[[ 0,  1,  2,  3],\n",
       "         [ 4,  5,  6,  7],\n",
       "         [ 8,  9, 10, 11]],\n",
       " \n",
       "        [[12, 13, 14, 15],\n",
       "         [16, 17, 18, 19],\n",
       "         [20, 21, 22, 23]]]),\n",
       " array([[[ 0,  1,  2,  3],\n",
       "         [12, 13, 14, 15]],\n",
       " \n",
       "        [[ 4,  5,  6,  7],\n",
       "         [16, 17, 18, 19]],\n",
       " \n",
       "        [[ 8,  9, 10, 11],\n",
       "         [20, 21, 22, 23]]]))"
      ]
     },
     "execution_count": 44,
     "metadata": {},
     "output_type": "execute_result"
    }
   ],
   "source": [
    "arr = np.arange(24).reshape((2, 3, 4))\n",
    "arr, arr.transpose((1,0,2)) # 第1轴与第2轴互换，第3轴不变"
   ]
  },
  {
   "cell_type": "markdown",
   "metadata": {},
   "source": [
    "## _**<font color = orange>arr</font><font color = skyblue>.swapaxes(<font color = orange>axis1, axis2</font>)</font>**_ : 两个轴对换\n",
    "> <font size=4> _**<font color = orange>axis</font>**_ : 轴编号"
   ]
  },
  {
   "cell_type": "code",
   "execution_count": 45,
   "metadata": {},
   "outputs": [
    {
     "data": {
      "text/plain": [
       "(array([[[ 0,  1,  2,  3],\n",
       "         [ 4,  5,  6,  7],\n",
       "         [ 8,  9, 10, 11]],\n",
       " \n",
       "        [[12, 13, 14, 15],\n",
       "         [16, 17, 18, 19],\n",
       "         [20, 21, 22, 23]]]),\n",
       " array([[[ 0,  1,  2,  3],\n",
       "         [12, 13, 14, 15]],\n",
       " \n",
       "        [[ 4,  5,  6,  7],\n",
       "         [16, 17, 18, 19]],\n",
       " \n",
       "        [[ 8,  9, 10, 11],\n",
       "         [20, 21, 22, 23]]]))"
      ]
     },
     "execution_count": 45,
     "metadata": {},
     "output_type": "execute_result"
    }
   ],
   "source": [
    "arr = np.arange(24).reshape((2, 3, 4))\n",
    "arr, arr.swapaxes(0, 1) # 第1轴与第2轴互换，第3轴不变"
   ]
  },
  {
   "cell_type": "markdown",
   "metadata": {},
   "source": [
    "# 通用的一元函数"
   ]
  },
  {
   "cell_type": "code",
   "execution_count": 46,
   "metadata": {},
   "outputs": [
    {
     "data": {
      "text/plain": [
       "array([1, 3, 5, 7, 9])"
      ]
     },
     "execution_count": 46,
     "metadata": {},
     "output_type": "execute_result"
    }
   ],
   "source": [
    "arr = np.arange(1,10,2)\n",
    "arr"
   ]
  },
  {
   "cell_type": "markdown",
   "metadata": {},
   "source": [
    "## _**<font color = skyblue>np.sqrt(<font color = orange>arr</font>), np.exp(<font color = orange>arr</font>)</font>**_ : 平方根，平方"
   ]
  },
  {
   "cell_type": "code",
   "execution_count": 47,
   "metadata": {},
   "outputs": [
    {
     "data": {
      "text/plain": [
       "(array([1.        , 1.73205081, 2.23606798, 2.64575131, 3.        ]),\n",
       " array([ 1,  9, 25, 49, 81], dtype=int32))"
      ]
     },
     "execution_count": 47,
     "metadata": {},
     "output_type": "execute_result"
    }
   ],
   "source": [
    "np.sqrt(arr), np.square(arr)"
   ]
  },
  {
   "cell_type": "markdown",
   "metadata": {},
   "source": [
    "## _**<font color = skyblue>np.exp(<font color = orange>arr</font>), np.log(<font color = orange>arr</font>), np.log1p(<font color = orange>arr</font>)</font>**_ : 指数，对数，log(1+x)"
   ]
  },
  {
   "cell_type": "code",
   "execution_count": 48,
   "metadata": {},
   "outputs": [
    {
     "data": {
      "text/plain": [
       "(array([2.71828183e+00, 2.00855369e+01, 1.48413159e+02, 1.09663316e+03,\n",
       "        8.10308393e+03]),\n",
       " array([0.        , 1.09861229, 1.60943791, 1.94591015, 2.19722458]),\n",
       " array([0.69314718, 1.38629436, 1.79175947, 2.07944154, 2.30258509]))"
      ]
     },
     "execution_count": 48,
     "metadata": {},
     "output_type": "execute_result"
    }
   ],
   "source": [
    "np.exp(arr), np.log(arr), np.log1p(arr)"
   ]
  },
  {
   "cell_type": "markdown",
   "metadata": {},
   "source": [
    "## _**<font color = skyblue>np.sign(<font color = orange>arr</font>)</font>**_ : 符号函数"
   ]
  },
  {
   "cell_type": "code",
   "execution_count": 49,
   "metadata": {},
   "outputs": [
    {
     "data": {
      "text/plain": [
       "array([-5.72033251,  4.14975286, -1.29811492,  1.15525507,  1.39684986])"
      ]
     },
     "execution_count": 49,
     "metadata": {},
     "output_type": "execute_result"
    }
   ],
   "source": [
    "arr = np.random.randn(5) * 5\n",
    "arr"
   ]
  },
  {
   "cell_type": "code",
   "execution_count": 50,
   "metadata": {},
   "outputs": [
    {
     "data": {
      "text/plain": [
       "(array([-5.72033251,  4.14975286, -1.29811492,  1.15525507,  1.39684986]),\n",
       " array([-1.,  1., -1.,  1.,  1.]))"
      ]
     },
     "execution_count": 50,
     "metadata": {},
     "output_type": "execute_result"
    }
   ],
   "source": [
    "arr, np.sign(arr)"
   ]
  },
  {
   "cell_type": "markdown",
   "metadata": {},
   "source": [
    "## _**<font color = skyblue>np.ceil(<font color = orange>arr</font>), np.floor(<font color = orange>arr</font>), np.rint(<font color = orange>arr</font>)</font>**_ : 进一取整，退一取整，四舍五入"
   ]
  },
  {
   "cell_type": "code",
   "execution_count": 51,
   "metadata": {},
   "outputs": [
    {
     "data": {
      "text/plain": [
       "(array([-5.72033251,  4.14975286, -1.29811492,  1.15525507,  1.39684986]),\n",
       " array([-5.,  5., -1.,  2.,  2.]),\n",
       " array([-6.,  4., -2.,  1.,  1.]),\n",
       " array([-6.,  4., -1.,  1.,  1.]))"
      ]
     },
     "execution_count": 51,
     "metadata": {},
     "output_type": "execute_result"
    }
   ],
   "source": [
    "arr, np.ceil(arr), np.floor(arr), np.rint(arr)"
   ]
  },
  {
   "cell_type": "markdown",
   "metadata": {},
   "source": [
    "## _**<font color = skyblue>np.modf(<font color=orange>arr</font>)</font>**_ : 返回小数、整数"
   ]
  },
  {
   "cell_type": "code",
   "execution_count": 52,
   "metadata": {},
   "outputs": [
    {
     "data": {
      "text/plain": [
       "(array([-5.72033251,  4.14975286, -1.29811492,  1.15525507,  1.39684986]),\n",
       " array([-5.,  4., -1.,  1.,  1.]),\n",
       " array([-0.72033251,  0.14975286, -0.29811492,  0.15525507,  0.39684986]))"
      ]
     },
     "execution_count": 52,
     "metadata": {},
     "output_type": "execute_result"
    }
   ],
   "source": [
    "part, main = np.modf(arr)\n",
    "arr, main, part"
   ]
  },
  {
   "cell_type": "markdown",
   "metadata": {},
   "source": [
    "## _**<font color = skyblue>np.abs(<font color = orange>arr</font>), np.fabs(<font color = orange>arr</font>)</font>**_ : 绝对值，非复数绝对值"
   ]
  },
  {
   "cell_type": "code",
   "execution_count": 53,
   "metadata": {},
   "outputs": [
    {
     "data": {
      "text/plain": [
       "(array([-5.72033251,  4.14975286, -1.29811492,  1.15525507,  1.39684986]),\n",
       " array([5.72033251, 4.14975286, 1.29811492, 1.15525507, 1.39684986]),\n",
       " array([5.72033251, 4.14975286, 1.29811492, 1.15525507, 1.39684986]))"
      ]
     },
     "execution_count": 53,
     "metadata": {},
     "output_type": "execute_result"
    }
   ],
   "source": [
    "arr, np.abs(arr), np.fabs(arr)"
   ]
  },
  {
   "cell_type": "markdown",
   "metadata": {},
   "source": [
    "## _**<font color = skyblue>np.isnan(<font color = orange>arr</font>)</font>**_ : 判断非数字"
   ]
  },
  {
   "cell_type": "code",
   "execution_count": 54,
   "metadata": {},
   "outputs": [
    {
     "data": {
      "text/plain": [
       "(array([-5.72033251,  4.14975286, -1.29811492,  1.15525507,  1.39684986]),\n",
       " array([False, False, False, False, False]))"
      ]
     },
     "execution_count": 54,
     "metadata": {},
     "output_type": "execute_result"
    }
   ],
   "source": [
    "arr, np.isnan(arr)"
   ]
  },
  {
   "cell_type": "markdown",
   "metadata": {},
   "source": [
    "## _**<font color = skyblue>np.isfinite(<font color = orange>arr</font>), np.isinf(<font color = orange>arr</font>)</font>**_ : 判断有穷，判断无穷"
   ]
  },
  {
   "cell_type": "code",
   "execution_count": 55,
   "metadata": {},
   "outputs": [
    {
     "data": {
      "text/plain": [
       "(array([-5.72033251,  4.14975286, -1.29811492,  1.15525507,  1.39684986]),\n",
       " array([ True,  True,  True,  True,  True]),\n",
       " array([False, False, False, False, False]))"
      ]
     },
     "execution_count": 55,
     "metadata": {},
     "output_type": "execute_result"
    }
   ],
   "source": [
    "arr, np.isfinite(arr), np.isinf(arr)"
   ]
  },
  {
   "cell_type": "markdown",
   "metadata": {},
   "source": [
    "## _**<font color = skyblue>np.cos(<font color = orange>arr</font>), np.sin(<font color = orange>arr</font>), np.tan(<font color = orange>arr</font>)</font>**_  : 三角函数\n",
    "## _**<font color = skyblue>np.arccos(<font color = orange>arr</font>), np.arcsin(<font color = orange>arr</font>), np.arctan(<font color = orange>arr</font>)</font>**_  : 反三角函数"
   ]
  },
  {
   "cell_type": "markdown",
   "metadata": {},
   "source": [
    "## _**<font color = skyblue>np.logical_not(<font color = orange>arr</font>)</font>**_ : 逻辑非 ~"
   ]
  },
  {
   "cell_type": "code",
   "execution_count": 56,
   "metadata": {},
   "outputs": [
    {
     "data": {
      "text/plain": [
       "(array([0, 1, 1, 1, 0]), array([ True, False, False, False,  True]))"
      ]
     },
     "execution_count": 56,
     "metadata": {},
     "output_type": "execute_result"
    }
   ],
   "source": [
    "arr = np.random.randint(0, 2, (5))\n",
    "arr, np.logical_not(arr)"
   ]
  },
  {
   "cell_type": "markdown",
   "metadata": {},
   "source": [
    "# 通用的二元函数"
   ]
  },
  {
   "cell_type": "code",
   "execution_count": 57,
   "metadata": {},
   "outputs": [
    {
     "data": {
      "text/plain": [
       "(array([6, 2, 3, 8, 4]), array([3, 9, 0, 1, 0]))"
      ]
     },
     "execution_count": 57,
     "metadata": {},
     "output_type": "execute_result"
    }
   ],
   "source": [
    "arr1 = np.random.randint(0,10,(5))\n",
    "arr2 = np.random.randint(0,10,(5))\n",
    "arr1, arr2"
   ]
  },
  {
   "cell_type": "markdown",
   "metadata": {},
   "source": [
    "## 加减乘除 : \n",
    "> <font size=4>_**<font color = skyblue>np.add(<font color = orange>arr1</font>, <font color = orange>arr2</font>), np.subtract(<font color = orange>arr1</font>, <font color = orange>arr2</font>)**_  \n",
    "> <font size=4>_**<font color = skyblue>np.multiply(<font color = orange>arr1</font>, <font color = orange>arr2</font>), np.divide(<font color = orange>arr1</font>, <font color = orange>arr2</font>)</font>**_"
   ]
  },
  {
   "cell_type": "code",
   "execution_count": 58,
   "metadata": {},
   "outputs": [
    {
     "name": "stderr",
     "output_type": "stream",
     "text": [
      "<ipython-input-58-7d5cbea6c653>:3: RuntimeWarning: divide by zero encountered in true_divide\n",
      "  np.multiply(arr1, arr2), np.divide(arr1, arr2)\n"
     ]
    },
    {
     "data": {
      "text/plain": [
       "(array([6, 2, 3, 8, 4]),\n",
       " array([3, 9, 0, 1, 0]),\n",
       " array([ 9, 11,  3,  9,  4]),\n",
       " array([ 3, -7,  3,  7,  4]),\n",
       " array([18, 18,  0,  8,  0]),\n",
       " array([2.        , 0.22222222,        inf, 8.        ,        inf]))"
      ]
     },
     "execution_count": 58,
     "metadata": {},
     "output_type": "execute_result"
    }
   ],
   "source": [
    "arr1, arr2, \\\n",
    "np.add(arr1, arr2), np.subtract(arr1, arr2), \\\n",
    "np.multiply(arr1, arr2), np.divide(arr1, arr2)"
   ]
  },
  {
   "cell_type": "markdown",
   "metadata": {},
   "source": [
    "## 除法的取整和取余 : \n",
    "> <font size=4>_**<font color = skyblue>np.floor_divide(<font color = orange>arr1</font>, <font color = orange>arr2</font>), np.mod(<font color = orange>arr1</font>, <font color = orange>arr2</font>)</font>**_ : 各返回除法整数、除法余数\n",
    "> <font size=4>_**<font color = skyblue>np.divmod(<font color = orange>arr1</font>, <font color = orange>arr2</font>)</font>**_ : 返回除法整数和余数"
   ]
  },
  {
   "cell_type": "code",
   "execution_count": 59,
   "metadata": {},
   "outputs": [
    {
     "name": "stderr",
     "output_type": "stream",
     "text": [
      "<ipython-input-59-f630586a71d1>:1: RuntimeWarning: divide by zero encountered in floor_divide\n",
      "  arr1, arr2, np.floor_divide(arr1, arr2), np.mod(arr1, arr2), np.divmod(arr1, arr2)\n",
      "<ipython-input-59-f630586a71d1>:1: RuntimeWarning: divide by zero encountered in remainder\n",
      "  arr1, arr2, np.floor_divide(arr1, arr2), np.mod(arr1, arr2), np.divmod(arr1, arr2)\n",
      "<ipython-input-59-f630586a71d1>:1: RuntimeWarning: divide by zero encountered in divmod\n",
      "  arr1, arr2, np.floor_divide(arr1, arr2), np.mod(arr1, arr2), np.divmod(arr1, arr2)\n"
     ]
    },
    {
     "data": {
      "text/plain": [
       "(array([6, 2, 3, 8, 4]),\n",
       " array([3, 9, 0, 1, 0]),\n",
       " array([2, 0, 0, 8, 0], dtype=int32),\n",
       " array([0, 2, 0, 0, 0], dtype=int32),\n",
       " (array([2, 0, 0, 8, 0], dtype=int32), array([0, 2, 0, 0, 0], dtype=int32)))"
      ]
     },
     "execution_count": 59,
     "metadata": {},
     "output_type": "execute_result"
    }
   ],
   "source": [
    "arr1, arr2, np.floor_divide(arr1, arr2), np.mod(arr1, arr2), np.divmod(arr1, arr2)"
   ]
  },
  {
   "cell_type": "markdown",
   "metadata": {},
   "source": [
    "## 最大值和最小值 : \n",
    "><font size=4>_**<font color = skyblue>np.maximum(<font color = orange>arr1</font>, <font color = orange>arr2</font>), np.fmax(<font color = orange>arr1</font>, <font color = orange>arr2</font>)</font>**_  \n",
    "><font size=4>_**<font color = skyblue>np.minimum(<font color = orange>arr1</font>, <font color = orange>arr2</font>), np.fmin(<font color = orange>arr1</font>, <font color = orange>arr2</font>)</font>**_"
   ]
  },
  {
   "cell_type": "code",
   "execution_count": 60,
   "metadata": {},
   "outputs": [
    {
     "data": {
      "text/plain": [
       "(array([ 4.,  2., nan,  3.,  1.]),\n",
       " array([ 2.,  3.,  4.,  5., nan]),\n",
       " array([ 4.,  3., nan,  5., nan]),\n",
       " array([4., 3., 4., 5., 1.]))"
      ]
     },
     "execution_count": 60,
     "metadata": {},
     "output_type": "execute_result"
    }
   ],
   "source": [
    "a = np.array([4, 2 , np.nan,3, 1])\n",
    "b = np.array([2, 3, 4, 5, np.nan])\n",
    "a, b, np.maximum(a, b), np.fmax(a, b)  #fmax, fmin 将忽略NaN"
   ]
  },
  {
   "cell_type": "markdown",
   "metadata": {},
   "source": [
    "## _**<font color = skyblue>np.copysign(<font color = orange>arr1</font>, <font color = orange>arr2</font>)</font>**_ : copy sign of arr2 to arr1"
   ]
  },
  {
   "cell_type": "code",
   "execution_count": 61,
   "metadata": {},
   "outputs": [
    {
     "data": {
      "text/plain": [
       "(array([-5, -6, -5, -6, -5]),\n",
       " array([3, 4, 1, 2, 6]),\n",
       " array([-3., -4., -1., -2., -6.]))"
      ]
     },
     "execution_count": 61,
     "metadata": {},
     "output_type": "execute_result"
    }
   ],
   "source": [
    "a = np.random.randint(-9, 0, (5))\n",
    "b = np.random.randint(0, 9, (5))\n",
    "a, b, np.copysign(b, a)"
   ]
  },
  {
   "cell_type": "markdown",
   "metadata": {},
   "source": [
    "## _**<font color = skyblue>np.power(<font color = orange>arr1</font>, <font color = orange>arr2</font>)</font>**_ : 对 $arr_1$ ，根据 $arr_2$ 中的元素, 计算对应的 ${arr_1}^{arr_2}$"
   ]
  },
  {
   "cell_type": "code",
   "execution_count": 62,
   "metadata": {},
   "outputs": [
    {
     "data": {
      "text/plain": [
       "(array([6, 2, 3, 8, 4]),\n",
       " array([3, 9, 0, 1, 0]),\n",
       " array([216, 512,   1,   8,   1], dtype=int32))"
      ]
     },
     "execution_count": 62,
     "metadata": {},
     "output_type": "execute_result"
    }
   ],
   "source": [
    "arr1, arr2, np.power(arr1, arr2)"
   ]
  },
  {
   "cell_type": "markdown",
   "metadata": {},
   "source": [
    "## 比较 : \n",
    "> <font size = 4>_**<font color = skyblue>np.greater(<font color = orange>arr1</font>, <font color = orange>arr2</font>), np.greater_equal(<font color = orange>arr1</font>, <font color = orange>arr2</font>)</font>**_    \n",
    "> <font size = 4>_**<font color = skyblue>np.less(<font color = orange>arr1</font>, <font color = orange>arr2</font>), np.less_equal(<font color = orange>arr1</font>, <font color = orange>arr2</font>)</font>**_    \n",
    "> <font size = 4>_**<font color = skyblue>np.equal(<font color = orange>arr1</font>, <font color = orange>arr2</font>)np.not_equal(<font color = orange>arr1</font>, <font color = orange>arr2</font>)</font>**_"
   ]
  },
  {
   "cell_type": "code",
   "execution_count": 63,
   "metadata": {},
   "outputs": [
    {
     "data": {
      "text/plain": [
       "(array([6, 2, 3, 8, 4]),\n",
       " array([3, 9, 0, 1, 0]),\n",
       " array([ True, False,  True,  True,  True]),\n",
       " array([False,  True, False, False, False]))"
      ]
     },
     "execution_count": 63,
     "metadata": {},
     "output_type": "execute_result"
    }
   ],
   "source": [
    "arr1, arr2, np.greater_equal(arr1, arr2), np.less_equal(arr1, arr2)"
   ]
  },
  {
   "cell_type": "markdown",
   "metadata": {},
   "source": [
    "## 逻辑运算 : \n",
    "> <font size =4>_**<font color = skyblue>np.logical_and(<font color = orange>arr1</font>, <font color = orange>arr2</font>)</font>**_ : 逻辑与 &   \n",
    "> <font size =4>_**<font color = skyblue>np.logical_or(<font color = orange>arr1</font>, <font color = orange>arr2</font>)</font>**_ : 逻辑或 |  \n",
    "> <font size =4>_**<font color = skyblue>np.logical_xor(<font color = orange>arr1</font>, <font color = orange>arr2</font>)</font>**_ : 逻辑异或 ^"
   ]
  },
  {
   "cell_type": "code",
   "execution_count": 64,
   "metadata": {},
   "outputs": [
    {
     "data": {
      "text/plain": [
       "(array([0, 0, 1, 1, 0]),\n",
       " array([1, 0, 0, 1, 0]),\n",
       " array([False, False, False,  True, False]),\n",
       " array([ True, False,  True,  True, False]),\n",
       " array([ True, False,  True, False, False]))"
      ]
     },
     "execution_count": 64,
     "metadata": {},
     "output_type": "execute_result"
    }
   ],
   "source": [
    "arr1 = np.random.randint(0, 2, (5))\n",
    "arr2 = np.random.randint(0, 2, (5))\n",
    "arr1, arr2, \\\n",
    "np.logical_and(arr1, arr2), np.logical_or(arr1, arr2), np.logical_xor(arr1, arr2)"
   ]
  },
  {
   "cell_type": "markdown",
   "metadata": {},
   "source": [
    "# 利用数组进行数据处理"
   ]
  },
  {
   "cell_type": "markdown",
   "metadata": {},
   "source": [
    "## _**<font color = skyblue>np.meshgrid(<font color = orange>arr1</font>, <font color = orange>arr2</font>)</font>**_ : 基于两个一维数组arr1和arr2，返回两个二维数组"
   ]
  },
  {
   "cell_type": "code",
   "execution_count": 65,
   "metadata": {},
   "outputs": [
    {
     "data": {
      "text/plain": [
       "(array([[-5. , -4.9, -4.8, ...,  4.7,  4.8,  4.9],\n",
       "        [-5. , -4.9, -4.8, ...,  4.7,  4.8,  4.9],\n",
       "        [-5. , -4.9, -4.8, ...,  4.7,  4.8,  4.9],\n",
       "        ...,\n",
       "        [-5. , -4.9, -4.8, ...,  4.7,  4.8,  4.9],\n",
       "        [-5. , -4.9, -4.8, ...,  4.7,  4.8,  4.9],\n",
       "        [-5. , -4.9, -4.8, ...,  4.7,  4.8,  4.9]]),\n",
       " array([[-5. , -5. , -5. , ..., -5. , -5. , -5. ],\n",
       "        [-4.9, -4.9, -4.9, ..., -4.9, -4.9, -4.9],\n",
       "        [-4.8, -4.8, -4.8, ..., -4.8, -4.8, -4.8],\n",
       "        ...,\n",
       "        [ 4.7,  4.7,  4.7, ...,  4.7,  4.7,  4.7],\n",
       "        [ 4.8,  4.8,  4.8, ...,  4.8,  4.8,  4.8],\n",
       "        [ 4.9,  4.9,  4.9, ...,  4.9,  4.9,  4.9]]),\n",
       " array([[ True,  True,  True, ...,  True,  True,  True],\n",
       "        [ True,  True,  True, ...,  True,  True,  True],\n",
       "        [ True,  True,  True, ...,  True,  True,  True],\n",
       "        ...,\n",
       "        [ True,  True,  True, ...,  True,  True,  True],\n",
       "        [ True,  True,  True, ...,  True,  True,  True],\n",
       "        [ True,  True,  True, ...,  True,  True,  True]]))"
      ]
     },
     "execution_count": 65,
     "metadata": {},
     "output_type": "execute_result"
    }
   ],
   "source": [
    "points = np.arange(-5, 5, 0.1)\n",
    "x, y = np.meshgrid(points, points)\n",
    "x, y, x.T == y "
   ]
  },
  {
   "cell_type": "code",
   "execution_count": 66,
   "metadata": {},
   "outputs": [
    {
     "data": {
      "image/png": "[encoded data removed]",
      "text/plain": [
       "<Figure size 640x480 with 2 Axes>"
      ]
     },
     "metadata": {},
     "output_type": "display_data"
    }
   ],
   "source": [
    "z = np.sqrt(x**2 + y**2)\n",
    "import matplotlib.pyplot as plt\n",
    "plt.imshow(z, cmap=plt.cm.gray)\n",
    "plt.colorbar()\n",
    "plt.title(\"Image plot of $\\sqrt{x^2 + y^2}$ for a grid of values\")\n",
    "plt.show()"
   ]
  },
  {
   "cell_type": "markdown",
   "metadata": {},
   "source": [
    "## _**<font color = skyblue>np.where(<font color = orange>condition</font>, <font color = orange>x</font>, <font color = orange>y</font>)</font>**_ : np.where(...).shape = condition.shape\n",
    "><font size=4> $condition=True → x,  condition=False → y $"
   ]
  },
  {
   "cell_type": "code",
   "execution_count": 67,
   "metadata": {},
   "outputs": [
    {
     "data": {
      "text/plain": [
       "array([1.1, 2.2, 1.3, 1.4, 2.5])"
      ]
     },
     "execution_count": 67,
     "metadata": {},
     "output_type": "execute_result"
    }
   ],
   "source": [
    "xarr = np.array([1.1, 1.2, 1.3, 1.4, 1.5])\n",
    "yarr = np.array([2.1, 2.2, 2.3, 2.4, 2.5])\n",
    "cond = np.array([True, False, True, True, False])\n",
    "np.where(cond, xarr, yarr)"
   ]
  },
  {
   "cell_type": "code",
   "execution_count": 68,
   "metadata": {},
   "outputs": [
    {
     "data": {
      "text/plain": [
       "(array([[-1.38574074,  0.36308053,  1.70333481, -1.28078003],\n",
       "        [ 1.11809371,  0.6485143 ,  0.86350574, -0.0687285 ],\n",
       "        [-0.12629966,  0.89419753, -0.56168284,  0.73884436],\n",
       "        [-0.26990796,  0.27744503,  0.6568969 ,  0.02221542]]),\n",
       " array([[False,  True,  True, False],\n",
       "        [ True,  True,  True, False],\n",
       "        [False,  True, False,  True],\n",
       "        [False,  True,  True,  True]]),\n",
       " array([[-2,  2,  2, -2],\n",
       "        [ 2,  2,  2, -2],\n",
       "        [-2,  2, -2,  2],\n",
       "        [-2,  2,  2,  2]]))"
      ]
     },
     "execution_count": 68,
     "metadata": {},
     "output_type": "execute_result"
    }
   ],
   "source": [
    "arr = np.random.randn(4, 4)\n",
    "arr, arr > 0, np.where(arr > 0, 2, -2) # 将arr>0的元素替换为2， 否则替换为-2"
   ]
  },
  {
   "cell_type": "code",
   "execution_count": 69,
   "metadata": {},
   "outputs": [
    {
     "data": {
      "text/plain": [
       "(array([[-1.38574074,  0.36308053,  1.70333481, -1.28078003],\n",
       "        [ 1.11809371,  0.6485143 ,  0.86350574, -0.0687285 ],\n",
       "        [-0.12629966,  0.89419753, -0.56168284,  0.73884436],\n",
       "        [-0.26990796,  0.27744503,  0.6568969 ,  0.02221542]]),\n",
       " array([[-1.38574074,  2.        ,  2.        , -1.28078003],\n",
       "        [ 2.        ,  2.        ,  2.        , -0.0687285 ],\n",
       "        [-0.12629966,  2.        , -0.56168284,  2.        ],\n",
       "        [-0.26990796,  2.        ,  2.        ,  2.        ]]))"
      ]
     },
     "execution_count": 69,
     "metadata": {},
     "output_type": "execute_result"
    }
   ],
   "source": [
    "arr, np.where(arr > 0, 2, arr) # 将arr>0的元素替换为2，arr<0的不变"
   ]
  },
  {
   "cell_type": "markdown",
   "metadata": {},
   "source": [
    "<font size=5>**统计方法**\n",
    "> <font size=4>可以通过数组上的一组数学函数对整个数组或某个轴向的数据进行统计计算"
   ]
  },
  {
   "cell_type": "markdown",
   "metadata": {},
   "source": [
    "## 求平均、求和 \n",
    "><font size=4>_**<font color = skyblue>np.mean(<font color = orange>arr</font>, <font color = orange>axis</font>), <font color = orange>arr</font>.mean(<font color = orange>axis</font>)**_\n",
    "><font size =4>_**<font color = skyblue>np.sum(<font color = orange>arr</font>, <font color = orange>axis</font>), <font color = orange>arr</font>.sum(<font color = orange>axis</font>)**_"
   ]
  },
  {
   "cell_type": "code",
   "execution_count": 70,
   "metadata": {},
   "outputs": [
    {
     "data": {
      "text/plain": [
       "(array([[[ 0,  1,  2,  3],\n",
       "         [ 4,  5,  6,  7],\n",
       "         [ 8,  9, 10, 11]],\n",
       " \n",
       "        [[12, 13, 14, 15],\n",
       "         [16, 17, 18, 19],\n",
       "         [20, 21, 22, 23]]]),\n",
       " 11.5,\n",
       " 11.5,\n",
       " 276,\n",
       " 276)"
      ]
     },
     "execution_count": 70,
     "metadata": {},
     "output_type": "execute_result"
    }
   ],
   "source": [
    "arr = np.arange(24).reshape((2, 3, 4))\n",
    "arr, arr.mean(), np.mean(arr), arr.sum(), np.sum(arr)"
   ]
  },
  {
   "cell_type": "code",
   "execution_count": 71,
   "metadata": {},
   "outputs": [
    {
     "data": {
      "text/plain": [
       "(array([[[ 0,  1,  2,  3],\n",
       "         [ 4,  5,  6,  7],\n",
       "         [ 8,  9, 10, 11]],\n",
       " \n",
       "        [[12, 13, 14, 15],\n",
       "         [16, 17, 18, 19],\n",
       "         [20, 21, 22, 23]]]),\n",
       " array([[ 6.,  7.,  8.,  9.],\n",
       "        [10., 11., 12., 13.],\n",
       "        [14., 15., 16., 17.]]),\n",
       " array([[12, 14, 16, 18],\n",
       "        [20, 22, 24, 26],\n",
       "        [28, 30, 32, 34]]))"
      ]
     },
     "execution_count": 71,
     "metadata": {},
     "output_type": "execute_result"
    }
   ],
   "source": [
    "arr, np.mean(arr, axis=0), np.sum(arr, axis=0) # 对第1维进行取平均/求和处理\n",
    "# 0+12   1+13   2+14   3+15\n",
    "# 4+16   5+17   6+18   7+19\n",
    "# 8+20   9+21   10+22  11+23"
   ]
  },
  {
   "cell_type": "code",
   "execution_count": 72,
   "metadata": {},
   "outputs": [
    {
     "data": {
      "text/plain": [
       "(array([[[ 0,  1,  2,  3],\n",
       "         [ 4,  5,  6,  7],\n",
       "         [ 8,  9, 10, 11]],\n",
       " \n",
       "        [[12, 13, 14, 15],\n",
       "         [16, 17, 18, 19],\n",
       "         [20, 21, 22, 23]]]),\n",
       " array([[ 4.,  5.,  6.,  7.],\n",
       "        [16., 17., 18., 19.]]),\n",
       " array([[12, 15, 18, 21],\n",
       "        [48, 51, 54, 57]]))"
      ]
     },
     "execution_count": 72,
     "metadata": {},
     "output_type": "execute_result"
    }
   ],
   "source": [
    "arr, np.mean(arr, axis=1), np.sum(arr, axis=1) # 对第2维进行取平均/求和处理\n",
    "# 0+4+8     1+5+9     2+6+10    3+7+11\n",
    "# 12+16+20  13+17+21  14+18+22  15+19+23"
   ]
  },
  {
   "cell_type": "code",
   "execution_count": 73,
   "metadata": {},
   "outputs": [
    {
     "data": {
      "text/plain": [
       "39"
      ]
     },
     "execution_count": 73,
     "metadata": {},
     "output_type": "execute_result"
    }
   ],
   "source": [
    "arr = np.random.randn(100)\n",
    "(arr > 0).sum() # Number of positive values"
   ]
  },
  {
   "cell_type": "markdown",
   "metadata": {},
   "source": [
    "## 累加、累乘\n",
    "><font size =4>_**<font color = skyblue>np.cumsum(<font color = orange>arr</font>, <font color = orange>axis</font>), <font color = orange>arr</font>.cumsum(<font color = orange>axis</font>)</font>**_ : 累加  \n",
    "><font size =4>_**<font color = skyblue>np.cumprod(<font color = orange>arr</font>, <font color = orange>axis</font>), <font color = orange>arr</font>.cumprod(<font color = orange>axis</font>)</font>**_ : 累乘"
   ]
  },
  {
   "cell_type": "code",
   "execution_count": 74,
   "metadata": {},
   "outputs": [
    {
     "data": {
      "text/plain": [
       "(array([0, 1, 2, 3, 4, 5, 6, 7]),\n",
       " array([ 0,  1,  3,  6, 10, 15, 21, 28], dtype=int32),\n",
       " array([0, 0, 0, 0, 0, 0, 0, 0], dtype=int32))"
      ]
     },
     "execution_count": 74,
     "metadata": {},
     "output_type": "execute_result"
    }
   ],
   "source": [
    "arr = np.array([0, 1, 2, 3, 4, 5, 6, 7])\n",
    "arr, arr.cumsum(), arr.cumprod()"
   ]
  },
  {
   "cell_type": "code",
   "execution_count": 75,
   "metadata": {},
   "outputs": [
    {
     "data": {
      "text/plain": [
       "(array([[0, 1, 2],\n",
       "        [3, 4, 5],\n",
       "        [6, 7, 8]]),\n",
       " array([[ 0,  1,  2],\n",
       "        [ 3,  5,  7],\n",
       "        [ 9, 12, 15]], dtype=int32),\n",
       " array([[  0,   0,   0],\n",
       "        [  3,  12,  60],\n",
       "        [  6,  42, 336]], dtype=int32))"
      ]
     },
     "execution_count": 75,
     "metadata": {},
     "output_type": "execute_result"
    }
   ],
   "source": [
    "arr = np.array([[0, 1, 2], [3, 4, 5], [6, 7, 8]])\n",
    "arr, np.cumsum(arr, axis=0), np.cumprod(arr, axis=1)"
   ]
  },
  {
   "cell_type": "markdown",
   "metadata": {},
   "source": [
    "## 标准差、方差\n",
    "><font size =4>_**<font color = skyblue>np.std(<font color = orange>arr</font>, <font color = orange>axis</font>), <font color = orange>arr</font>.std(<font color = orange>axis</font>)</font>**_ : 标准差  \n",
    "><font size =4>_**<font color = skyblue>np.var(<font color = orange>arr</font>, <font color = orange>axis</font>), <font color = orange>arr</font>.var(<font color = orange>axis</font>)</font>**_ : 方差"
   ]
  },
  {
   "cell_type": "code",
   "execution_count": 76,
   "metadata": {},
   "outputs": [
    {
     "data": {
      "text/plain": [
       "(1.0108654484477226, 1.0218489548654153)"
      ]
     },
     "execution_count": 76,
     "metadata": {},
     "output_type": "execute_result"
    }
   ],
   "source": [
    "arr = np.random.randn(10000)\n",
    "arr.std(), arr.var()"
   ]
  },
  {
   "cell_type": "code",
   "execution_count": 77,
   "metadata": {},
   "outputs": [
    {
     "data": {
      "text/plain": [
       "(array([[66, 80, 28, 18],\n",
       "        [45, 55, 57, 40],\n",
       "        [66, 30, 29, 76]]),\n",
       " array([ 9.89949494, 20.41241452, 13.4412301 , 23.9072281 ]),\n",
       " array([662.    ,  49.1875, 443.1875]))"
      ]
     },
     "execution_count": 77,
     "metadata": {},
     "output_type": "execute_result"
    }
   ],
   "source": [
    "arr = np.random.randint(10, 100, (3, 4))\n",
    "arr, np.std(arr, axis=0), np.var(arr, axis=1)"
   ]
  },
  {
   "cell_type": "markdown",
   "metadata": {},
   "source": [
    "## 最值及其索引\n",
    "><font size =4> _**<font color = skyblue>np.max(<font color = orange>arr</font>, <font color = orange>axis</font>), <font color = orange>arr</font>.max(<font color = orange>axis</font>)</font>**_ : 最大值  \n",
    "><font size =4>_**<font color = skyblue>np.argmax(<font color = orange>arr</font>, <font color = orange>axis</font>), <font color = orange>arr</font>.argmax(<font color = orange>axis</font>)</font>**_ : 最大值索引（从0开始）<p>\n",
    "><font size =4> _**<font color = skyblue>np.min(<font color = orange>arr</font>, <font color = orange>axis</font>), <font color = orange>arr</font>.min(<font color = orange>axis</font>)</font>**_ : 最小值  \n",
    "><font size =4>_**<font color = skyblue>np.argmin(<font color = orange>arr</font>, <font color = orange>axis</font>), <font color = orange>arr</font>.argmin(<font color = orange>axis</font>)</font>**_ : 最小值索引（从0开始）"
   ]
  },
  {
   "cell_type": "code",
   "execution_count": 78,
   "metadata": {},
   "outputs": [
    {
     "data": {
      "text/plain": [
       "(array([[96, 69, 22, 95],\n",
       "        [43, 38, 95, 73],\n",
       "        [80, 13, 23, 90]]),\n",
       " array([96, 69, 95, 95]),\n",
       " array([0, 0, 1, 0], dtype=int64))"
      ]
     },
     "execution_count": 78,
     "metadata": {},
     "output_type": "execute_result"
    }
   ],
   "source": [
    "arr = np.random.randint(10, 100, (3, 4))\n",
    "arr, np.max(arr, axis=0), np.argmax(arr, axis=0)"
   ]
  },
  {
   "cell_type": "markdown",
   "metadata": {},
   "source": [
    "## 用于布尔类型的方法\n",
    "> <font size=4> _**<font color = skyblue>np.any(<font color = orange>arr</font>, <font color = orange>axis</font>), <font color = orange>arr</font>.any(<font color = orange>axis</font>)</font>**_ : 检查数组中是否存在一个或多个True  \n",
    "> <font size=4> _**<font color = skyblue>np.all(<font color = orange>arr</font>, <font color = orange>axis</font>), <font color = orange>arr</font>.all(<font color = orange>axis</font>)</font>**_ : 检查数组中所有值是否都是True"
   ]
  },
  {
   "cell_type": "code",
   "execution_count": 79,
   "metadata": {},
   "outputs": [
    {
     "data": {
      "text/plain": [
       "(True, False)"
      ]
     },
     "execution_count": 79,
     "metadata": {},
     "output_type": "execute_result"
    }
   ],
   "source": [
    "bools = np.array([False, False, True, False])\n",
    "bools.any(), bools.all()"
   ]
  },
  {
   "cell_type": "code",
   "execution_count": 80,
   "metadata": {},
   "outputs": [
    {
     "data": {
      "text/plain": [
       "(array([[ True,  True,  True,  True],\n",
       "        [ True,  True,  True,  True],\n",
       "        [False,  True,  True,  True]]),\n",
       " array([ True,  True,  True,  True]),\n",
       " array([False,  True,  True,  True]))"
      ]
     },
     "execution_count": 80,
     "metadata": {},
     "output_type": "execute_result"
    }
   ],
   "source": [
    "arr = (np.random.randint(10, 100, (3, 4))>50)\n",
    "arr, np.any(arr, axis=0), np.all(arr, axis=0)"
   ]
  },
  {
   "cell_type": "markdown",
   "metadata": {},
   "source": [
    "## 排序\n",
    "> <font size=4>_**<font color = skyblue>np.sort(<font color = orange>arr</font>, <font color = orange>axis</font>), <font color = orange>arr</font>.sort(<font color = orange>axis</font>)</font>**_ : 排序  "
   ]
  },
  {
   "cell_type": "markdown",
   "metadata": {},
   "source": [
    "<font size=4> np.sort返回排序副本，arr.sort()修改数组本身"
   ]
  },
  {
   "cell_type": "code",
   "execution_count": 81,
   "metadata": {},
   "outputs": [
    {
     "name": "stdout",
     "output_type": "stream",
     "text": [
      "[-0.6477684   0.73474585 -0.88816762  1.67601792 -1.00884885 -1.31953076]\n",
      "[-1.31953076 -1.00884885 -0.88816762 -0.6477684   0.73474585  1.67601792]\n"
     ]
    }
   ],
   "source": [
    "arr = np.random.randn(6)\n",
    "print(arr)\n",
    "arr.sort()\n",
    "print(arr)"
   ]
  },
  {
   "cell_type": "code",
   "execution_count": 82,
   "metadata": {},
   "outputs": [
    {
     "name": "stdout",
     "output_type": "stream",
     "text": [
      "[[0 3 2 7]\n",
      " [1 5 0 3]\n",
      " [6 3 0 2]]\n",
      "None\n",
      "[[0 2 3 7]\n",
      " [0 1 3 5]\n",
      " [0 2 3 6]]\n"
     ]
    }
   ],
   "source": [
    "arr = np.random.randint(0, 10, (3, 4))\n",
    "print(arr)\n",
    "print(arr.sort(axis=1))\n",
    "print(arr)"
   ]
  },
  {
   "cell_type": "code",
   "execution_count": 83,
   "metadata": {},
   "outputs": [
    {
     "name": "stdout",
     "output_type": "stream",
     "text": [
      "[[8 4 4 3]\n",
      " [8 4 9 2]\n",
      " [3 9 4 4]]\n",
      "[[3 4 4 8]\n",
      " [2 4 8 9]\n",
      " [3 4 4 9]]\n",
      "[[8 4 4 3]\n",
      " [8 4 9 2]\n",
      " [3 9 4 4]]\n"
     ]
    }
   ],
   "source": [
    "arr = np.random.randint(0, 10, (3, 4))\n",
    "print(arr)\n",
    "print(np.sort(arr, axis=1))\n",
    "print(arr)"
   ]
  },
  {
   "cell_type": "markdown",
   "metadata": {},
   "source": [
    "<font size=5> **集合逻辑**"
   ]
  },
  {
   "cell_type": "markdown",
   "metadata": {},
   "source": [
    "## _**<font color = skyblue>np.unique(<font color = orange>arr</font>)</font>**_ : 找出arr中的唯一值，返回有序结果"
   ]
  },
  {
   "cell_type": "code",
   "execution_count": 84,
   "metadata": {},
   "outputs": [
    {
     "data": {
      "text/plain": [
       "(array(['Bob', 'Joe', 'Will'], dtype='<U4'),\n",
       " ['Bob', 'Joe', 'Will'],\n",
       " array([1, 2, 3, 4]),\n",
       " [1, 2, 3, 4])"
      ]
     },
     "execution_count": 84,
     "metadata": {},
     "output_type": "execute_result"
    }
   ],
   "source": [
    "names = np.array(['Bob', 'Joe', 'Will', 'Bob', 'Will', 'Joe', 'Joe'])\n",
    "ints = np.array([3, 3, 3, 2, 2, 1, 1, 4, 4])\n",
    "np.unique(names), sorted(set(names)), np.unique(ints), sorted(set(ints))"
   ]
  },
  {
   "cell_type": "markdown",
   "metadata": {},
   "source": [
    "## _**<font color = skyblue>np.in1d(<font color = orange>arr1</font>, <font color = orange>arr2</font>)</font>**_ : 测试arr1的值是否在arr2中，返回布尔型数组\n",
    "><font size=4> arr1.shape = np.in1d(arr1, arr2).shape"
   ]
  },
  {
   "cell_type": "code",
   "execution_count": 85,
   "metadata": {},
   "outputs": [
    {
     "data": {
      "text/plain": [
       "array([ True, False, False,  True,  True, False,  True])"
      ]
     },
     "execution_count": 85,
     "metadata": {},
     "output_type": "execute_result"
    }
   ],
   "source": [
    "arr1 = np.array([6, 0, 0, 3, 2, 5, 6])\n",
    "arr2 = np.array([2, 3, 6, 7])\n",
    "np.in1d(arr1, arr2)"
   ]
  },
  {
   "cell_type": "markdown",
   "metadata": {},
   "source": [
    "## _**<font color = skyblue>np.intersect1d(<font color = orange>arr1</font>, <font color = orange>arr2</font>)</font>**_ : 计算arr1和arr2中的交集，返回有序结果"
   ]
  },
  {
   "cell_type": "code",
   "execution_count": 86,
   "metadata": {},
   "outputs": [
    {
     "data": {
      "text/plain": [
       "array([2, 3, 6])"
      ]
     },
     "execution_count": 86,
     "metadata": {},
     "output_type": "execute_result"
    }
   ],
   "source": [
    "arr1 = np.array([6, 0, 0, 3, 2, 5, 6])\n",
    "arr2 = np.array([2, 3, 6, 7])\n",
    "np.intersect1d(arr1, arr2)"
   ]
  },
  {
   "cell_type": "markdown",
   "metadata": {},
   "source": [
    "##  _**<font color = skyblue>np.union1d(<font color = orange>arr1</font>, <font color = orange>arr2</font>)</font>**_ : 计算arr1和arr2中的并集，返回有序结果"
   ]
  },
  {
   "cell_type": "code",
   "execution_count": 87,
   "metadata": {},
   "outputs": [
    {
     "data": {
      "text/plain": [
       "array([0, 2, 3, 5, 6, 7])"
      ]
     },
     "execution_count": 87,
     "metadata": {},
     "output_type": "execute_result"
    }
   ],
   "source": [
    "arr1 = np.array([6, 0, 0, 3, 2, 5, 6])\n",
    "arr2 = np.array([2, 3, 6, 7])\n",
    "np.union1d(arr1, arr2)"
   ]
  },
  {
   "cell_type": "markdown",
   "metadata": {},
   "source": [
    "##  _**<font color = skyblue>np.setdiff1d(<font color = orange>arr1</font>, <font color = orange>arr2</font>)</font>**_ : 计算arr1和arr2的差，即元素在arr1中但不在arr2中"
   ]
  },
  {
   "cell_type": "code",
   "execution_count": 88,
   "metadata": {},
   "outputs": [
    {
     "data": {
      "text/plain": [
       "array([0, 5])"
      ]
     },
     "execution_count": 88,
     "metadata": {},
     "output_type": "execute_result"
    }
   ],
   "source": [
    "arr1 = np.array([6, 0, 0, 3, 2, 5, 6])\n",
    "arr2 = np.array([2, 3, 6, 7])\n",
    "np.setdiff1d(arr1, arr2)"
   ]
  },
  {
   "cell_type": "markdown",
   "metadata": {},
   "source": [
    "## _**<font color = skyblue>np.setxor1d(<font color = orange>arr1</font>, <font color = orange>arr2</font>)</font>**_ : 计算arr1和arr2的对称差，即元素当且仅能在其中一个数组"
   ]
  },
  {
   "cell_type": "code",
   "execution_count": 89,
   "metadata": {},
   "outputs": [
    {
     "data": {
      "text/plain": [
       "array([0, 5, 7])"
      ]
     },
     "execution_count": 89,
     "metadata": {},
     "output_type": "execute_result"
    }
   ],
   "source": [
    "arr1 = np.array([6, 0, 0, 3, 2, 5, 6])\n",
    "arr2 = np.array([2, 3, 6, 7])\n",
    "np.setxor1d(arr1, arr2)"
   ]
  },
  {
   "cell_type": "markdown",
   "metadata": {},
   "source": [
    "# 文件"
   ]
  },
  {
   "cell_type": "markdown",
   "metadata": {},
   "source": [
    "## _**<font color = skyblue>np.save(<font color = orange>file</font>, <font color = orange>arr</font>), np.load(<font color = orange>file</font>)</font>**_ : 写文件，读文件\n",
    "><font size=4> <i><b>file : *.npy</i></b>"
   ]
  },
  {
   "cell_type": "code",
   "execution_count": 90,
   "metadata": {},
   "outputs": [],
   "source": [
    "arr = np.arange(10)\n",
    "np.save('some_array', arr)"
   ]
  },
  {
   "cell_type": "code",
   "execution_count": 91,
   "metadata": {},
   "outputs": [
    {
     "data": {
      "text/plain": [
       "array([0, 1, 2, 3, 4, 5, 6, 7, 8, 9])"
      ]
     },
     "execution_count": 91,
     "metadata": {},
     "output_type": "execute_result"
    }
   ],
   "source": [
    "np.load('some_array.npy')"
   ]
  },
  {
   "cell_type": "markdown",
   "metadata": {},
   "source": [
    "## _**<font color = skyblue>np.savez( <font color = orange>file</font>, <font color = orange>var1 = arr1</font>, <font color = orange>var2 = arr2</font>, <font color = orange>...</font> )</font>**_ : 将多个数组保存到一个未压缩的文件中\n",
    "> <font size=4> <b><i>file : *.npz</b></i>\n",
    "## _**<font color = skyblue>np.savez_compressed( <font color = orange>file</font>, <font color = orange>var1 = arr1</font>, <font color = orange>var2 = arr2</font>, <font color = orange>...</font> )</font>**_ : 数据压缩\n",
    "> <font size=4> <b><i>file : *.npz</b></i>"
   ]
  },
  {
   "cell_type": "code",
   "execution_count": 92,
   "metadata": {},
   "outputs": [],
   "source": [
    "np.savez('array_archive.npz', a=arr, b=arr)"
   ]
  },
  {
   "cell_type": "code",
   "execution_count": 93,
   "metadata": {},
   "outputs": [
    {
     "data": {
      "text/plain": [
       "array([0, 1, 2, 3, 4, 5, 6, 7, 8, 9])"
      ]
     },
     "execution_count": 93,
     "metadata": {},
     "output_type": "execute_result"
    }
   ],
   "source": [
    "arch = np.load('array_archive.npz')\n",
    "arch['b']"
   ]
  },
  {
   "cell_type": "code",
   "execution_count": 94,
   "metadata": {},
   "outputs": [],
   "source": [
    "np.savez_compressed('arrays_compressed.npz', a=arr, b=arr)"
   ]
  },
  {
   "cell_type": "code",
   "execution_count": 95,
   "metadata": {},
   "outputs": [
    {
     "data": {
      "text/plain": [
       "array([0, 1, 2, 3, 4, 5, 6, 7, 8, 9])"
      ]
     },
     "execution_count": 95,
     "metadata": {},
     "output_type": "execute_result"
    }
   ],
   "source": [
    "arch = np.load('arrays_compressed.npz')\n",
    "arch['b']"
   ]
  },
  {
   "cell_type": "markdown",
   "metadata": {},
   "source": [
    "# 线性代数"
   ]
  },
  {
   "cell_type": "markdown",
   "metadata": {},
   "source": [
    "## _**<font color = skyblue>np.diag( <font color = orange>arr</font>, <font color = orange>k</font> )</font>**_ : 返回方阵的对角线或者将一维数组转换为对角方阵"
   ]
  },
  {
   "cell_type": "code",
   "execution_count": 96,
   "metadata": {},
   "outputs": [
    {
     "data": {
      "text/plain": [
       "(array([[3, 7, 0],\n",
       "        [7, 9, 4],\n",
       "        [1, 8, 2]]),\n",
       " array([3, 9, 2]),\n",
       " array([7, 4]),\n",
       " array([0, 1, 2]),\n",
       " array([[0, 0, 0],\n",
       "        [0, 1, 0],\n",
       "        [0, 0, 2]]))"
      ]
     },
     "execution_count": 96,
     "metadata": {},
     "output_type": "execute_result"
    }
   ],
   "source": [
    "arr1 = np.random.randint(0,10,(3,3))\n",
    "arr2 = np.arange(3)\n",
    "arr1, np.diag(arr1), np.diag(arr1, k=1), arr2, np.diag(arr2)"
   ]
  },
  {
   "cell_type": "markdown",
   "metadata": {},
   "source": [
    "## _**<font color = skyblue>np.dot( <font color = orange>arr1</font>, <font color = orange>arr2</font> )</font>**_ : 矩阵乘法"
   ]
  },
  {
   "cell_type": "code",
   "execution_count": 97,
   "metadata": {},
   "outputs": [
    {
     "data": {
      "text/plain": [
       "array([[ 1.00000000e+00,  8.88178420e-16, -8.88178420e-16],\n",
       "       [ 1.11022302e-16,  1.00000000e+00, -4.44089210e-16],\n",
       "       [ 0.00000000e+00,  4.44089210e-16,  1.00000000e+00]])"
      ]
     },
     "execution_count": 97,
     "metadata": {},
     "output_type": "execute_result"
    }
   ],
   "source": [
    "arr1 = np.random.randint(0, 10, (3, 3))\n",
    "arr2 = np.linalg.inv(arr1)\n",
    "np.dot(arr1, arr2)"
   ]
  },
  {
   "cell_type": "markdown",
   "metadata": {},
   "source": [
    "## _**<font color = skyblue>np.trace( <font color = orange>arr</font> )</font>**_ : 矩阵的迹"
   ]
  },
  {
   "cell_type": "code",
   "execution_count": 98,
   "metadata": {},
   "outputs": [
    {
     "data": {
      "text/plain": [
       "(array([[0, 5, 6],\n",
       "        [4, 5, 9],\n",
       "        [5, 6, 2]]),\n",
       " 7)"
      ]
     },
     "execution_count": 98,
     "metadata": {},
     "output_type": "execute_result"
    }
   ],
   "source": [
    "arr = np.random.randint(0,10,(3,3))\n",
    "arr, np.trace(arr)"
   ]
  },
  {
   "cell_type": "markdown",
   "metadata": {},
   "source": [
    "## _**<font color = skyblue>np.linalg.det( <font color = orange>arr</font> )</font>**_ : 矩阵的行列式"
   ]
  },
  {
   "cell_type": "code",
   "execution_count": 99,
   "metadata": {},
   "outputs": [
    {
     "data": {
      "text/plain": [
       "(array([[0, 5, 6],\n",
       "        [4, 5, 9],\n",
       "        [5, 6, 2]]),\n",
       " 179.0)"
      ]
     },
     "execution_count": 99,
     "metadata": {},
     "output_type": "execute_result"
    }
   ],
   "source": [
    "arr, np.linalg.det(arr)"
   ]
  },
  {
   "cell_type": "markdown",
   "metadata": {},
   "source": [
    "## _**<font color = skyblue>np.linalg.eig( <font color = orange>arr</font> )</font>**_ : 矩阵的特征值和特征向量"
   ]
  },
  {
   "cell_type": "code",
   "execution_count": 100,
   "metadata": {},
   "outputs": [
    {
     "data": {
      "text/plain": [
       "(array([[0, 5, 6],\n",
       "        [4, 5, 9],\n",
       "        [5, 6, 2]]),\n",
       " (array([14.394287  , -2.58656667, -4.80772032]),\n",
       "  array([[-0.46692605, -0.5381644 , -0.38398256],\n",
       "         [-0.7072986 ,  0.74694386, -0.53437623],\n",
       "         [-0.53076243, -0.39045353,  0.75299365]])))"
      ]
     },
     "execution_count": 100,
     "metadata": {},
     "output_type": "execute_result"
    }
   ],
   "source": [
    "arr, np.linalg.eig(arr)"
   ]
  },
  {
   "cell_type": "code",
   "execution_count": 101,
   "metadata": {},
   "outputs": [
    {
     "data": {
      "text/plain": [
       "(array([ -6.72106756, -10.18105905,  -7.6399467 ]),\n",
       " array([ -6.72106756, -10.18105905,  -7.6399467 ]))"
      ]
     },
     "execution_count": 101,
     "metadata": {},
     "output_type": "execute_result"
    }
   ],
   "source": [
    "lbd, e = np.linalg.eig(arr)\n",
    "np.dot(arr, e[:, 0]) , lbd[0]*e[:, 0]"
   ]
  },
  {
   "cell_type": "markdown",
   "metadata": {},
   "source": [
    "## _**<font color = skyblue>np.linalg.inv( <font color = orange>arr</font> )</font>**_ : 方阵的逆\n",
    "## _**<font color = skyblue>np.linalg.pinv( <font color = orange>arr</font> )</font>**_ : 矩阵的More-Penrose伪逆"
   ]
  },
  {
   "cell_type": "code",
   "execution_count": 102,
   "metadata": {},
   "outputs": [
    {
     "data": {
      "text/plain": [
       "(array([[0, 5, 6],\n",
       "        [4, 5, 9],\n",
       "        [5, 6, 2]]),\n",
       " array([[-0.24581006,  0.1452514 ,  0.08379888],\n",
       "        [ 0.20670391, -0.16759777,  0.13407821],\n",
       "        [-0.00558659,  0.1396648 , -0.11173184]]),\n",
       " array([[-0.24581006,  0.1452514 ,  0.08379888],\n",
       "        [ 0.20670391, -0.16759777,  0.13407821],\n",
       "        [-0.00558659,  0.1396648 , -0.11173184]]))"
      ]
     },
     "execution_count": 102,
     "metadata": {},
     "output_type": "execute_result"
    }
   ],
   "source": [
    "arr, np.linalg.inv(arr), np.linalg.pinv(arr)"
   ]
  },
  {
   "cell_type": "code",
   "execution_count": 103,
   "metadata": {},
   "outputs": [
    {
     "data": {
      "text/plain": [
       "(array([[ 1,  2,  3,  4],\n",
       "        [ 5,  6,  7,  8],\n",
       "        [ 9, 10, 11, 12]]),\n",
       " array([[-0.375     , -0.1       ,  0.175     ],\n",
       "        [-0.14583333, -0.03333333,  0.07916667],\n",
       "        [ 0.08333333,  0.03333333, -0.01666667],\n",
       "        [ 0.3125    ,  0.1       , -0.1125    ]]))"
      ]
     },
     "execution_count": 103,
     "metadata": {},
     "output_type": "execute_result"
    }
   ],
   "source": [
    "arr2 = np.arange(1,13).reshape((3,4))\n",
    "arr2, np.linalg.pinv(arr2)"
   ]
  },
  {
   "cell_type": "markdown",
   "metadata": {},
   "source": [
    "## _**<font color = skyblue>np.linalg.qr( <font color = orange>arr</font> )</font>**_ : 计算QR分解（矩阵等价变换）\n",
    "> <font size=3> _**arr = QR**_  \n",
    "> <font size=3>Q:可逆矩阵，R:上三角矩阵 "
   ]
  },
  {
   "cell_type": "code",
   "execution_count": 104,
   "metadata": {},
   "outputs": [
    {
     "data": {
      "text/plain": [
       "(array([[0, 5, 6],\n",
       "        [4, 5, 9],\n",
       "        [5, 6, 2]]),\n",
       " array([[ 0.        ,  0.99951255,  0.03121953],\n",
       "        [-0.62469505,  0.02437835, -0.78048818],\n",
       "        [-0.78086881, -0.01950268,  0.62439054]]),\n",
       " array([[-6.40312424, -7.80868809, -7.18399305],\n",
       "        [ 0.        ,  5.00243843,  6.17747514],\n",
       "        [ 0.        ,  0.        , -5.58829534]]))"
      ]
     },
     "execution_count": 104,
     "metadata": {},
     "output_type": "execute_result"
    }
   ],
   "source": [
    "Q, R = np.linalg.qr(arr)\n",
    "arr, Q, R"
   ]
  },
  {
   "cell_type": "code",
   "execution_count": 105,
   "metadata": {},
   "outputs": [
    {
     "data": {
      "text/plain": [
       "(array([[0, 5, 6],\n",
       "        [4, 5, 9],\n",
       "        [5, 6, 2]]),\n",
       " array([[0., 5., 6.],\n",
       "        [4., 5., 9.],\n",
       "        [5., 6., 2.]]))"
      ]
     },
     "execution_count": 105,
     "metadata": {},
     "output_type": "execute_result"
    }
   ],
   "source": [
    "arr, np.dot(Q, R)"
   ]
  },
  {
   "cell_type": "code",
   "execution_count": 106,
   "metadata": {},
   "outputs": [
    {
     "data": {
      "text/plain": [
       "(179.0, 179.0)"
      ]
     },
     "execution_count": 106,
     "metadata": {},
     "output_type": "execute_result"
    }
   ],
   "source": [
    "np.linalg.det(arr), np.linalg.det(R)"
   ]
  },
  {
   "cell_type": "markdown",
   "metadata": {},
   "source": [
    "## _**<font color = skyblue>np.linalg.svd( <font color = orange>arr</font> )</font>**_ : 奇异值(SVD)分解"
   ]
  },
  {
   "cell_type": "code",
   "execution_count": 107,
   "metadata": {},
   "outputs": [
    {
     "data": {
      "text/plain": [
       "(array([[0, 5, 6],\n",
       "        [4, 5, 9],\n",
       "        [5, 6, 2]]),\n",
       " array([[-0.49438846,  0.41745486,  0.76243786],\n",
       "        [-0.73566235,  0.26627093, -0.62281675],\n",
       "        [-0.46301292, -0.86881024,  0.17546455]]),\n",
       " array([14.76104704,  4.89682835,  2.47640109]),\n",
       " array([[-0.35618842, -0.6048576 , -0.71223387],\n",
       "        [-0.66961046, -0.36640706,  0.64604002],\n",
       "        [-0.65172973,  0.70703122, -0.27450903]]))"
      ]
     },
     "execution_count": 107,
     "metadata": {},
     "output_type": "execute_result"
    }
   ],
   "source": [
    "U, S, V = np.linalg.svd(arr)\n",
    "arr, U, S, V"
   ]
  },
  {
   "cell_type": "markdown",
   "metadata": {},
   "source": [
    "> <font size=3> _**arr = U diag(S) V**_  \n",
    "> <font size=3> U : 正交矩阵; V : 正交矩阵; S : 降序排序的非负数  \n",
    "> <font size=3> S : 奇异值; U : 左奇异向量; V : 右奇异向量  "
   ]
  },
  {
   "cell_type": "code",
   "execution_count": 108,
   "metadata": {},
   "outputs": [
    {
     "data": {
      "text/plain": [
       "array([[-1.54427352e-15,  5.00000000e+00,  6.00000000e+00],\n",
       "       [ 4.00000000e+00,  5.00000000e+00,  9.00000000e+00],\n",
       "       [ 5.00000000e+00,  6.00000000e+00,  2.00000000e+00]])"
      ]
     },
     "execution_count": 108,
     "metadata": {},
     "output_type": "execute_result"
    }
   ],
   "source": [
    "U.dot(np.diag(S)).dot(V)"
   ]
  },
  {
   "cell_type": "code",
   "execution_count": 109,
   "metadata": {},
   "outputs": [
    {
     "data": {
      "text/plain": [
       "(array([[1.00000000e+00, 3.54512330e-16, 1.29342340e-16],\n",
       "        [3.54512330e-16, 1.00000000e+00, 2.65502607e-16],\n",
       "        [1.29342340e-16, 2.65502607e-16, 1.00000000e+00]]),\n",
       " array([[ 1.00000000e+00,  1.05593218e-16, -2.36545414e-16],\n",
       "        [ 1.05593218e-16,  1.00000000e+00,  1.07467290e-16],\n",
       "        [-2.36545414e-16,  1.07467290e-16,  1.00000000e+00]]))"
      ]
     },
     "execution_count": 109,
     "metadata": {},
     "output_type": "execute_result"
    }
   ],
   "source": [
    "np.dot(U,U.T), np.dot(V,V.T)"
   ]
  },
  {
   "cell_type": "markdown",
   "metadata": {},
   "source": [
    "## _**<font color = skyblue>np.linalg.solve( <font color = orange>A</font>, <font color = orange>b</font> )</font>**_ : 解线性方程 $Ax=b$"
   ]
  },
  {
   "cell_type": "code",
   "execution_count": 110,
   "metadata": {},
   "outputs": [
    {
     "data": {
      "text/plain": [
       "(array([[0, 5, 6],\n",
       "        [4, 5, 9],\n",
       "        [5, 6, 2]]),\n",
       " array([5, 4, 3]),\n",
       " array([-0.39664804,  0.76536313,  0.19553073]),\n",
       " array([5., 4., 3.]))"
      ]
     },
     "execution_count": 110,
     "metadata": {},
     "output_type": "execute_result"
    }
   ],
   "source": [
    "A = arr\n",
    "b = np.random.randint(0,10,(3))\n",
    "A, b, np.linalg.solve(A, b), A.dot(np.linalg.solve(A, b))"
   ]
  },
  {
   "cell_type": "markdown",
   "metadata": {},
   "source": [
    "## _**<font color = skyblue>np.linalg.lstsq( <font color = orange>A</font>, <font color = orange>b</font>, <font color = orange>rcond=None</font> )</font>**_ : 计算 $Ax=b$ 的最小二乘解"
   ]
  },
  {
   "cell_type": "code",
   "execution_count": 111,
   "metadata": {},
   "outputs": [
    {
     "data": {
      "text/plain": [
       "(array([[1, 5, 3],\n",
       "        [1, 2, 8],\n",
       "        [9, 4, 9],\n",
       "        [7, 4, 2]]),\n",
       " array([[9, 3],\n",
       "        [8, 6],\n",
       "        [0, 3],\n",
       "        [2, 4]]),\n",
       " (array([[-1.18525308, -0.15774406],\n",
       "         [ 1.90640595,  0.57450974],\n",
       "         [ 0.49149608,  0.41539645]]),\n",
       "  array([ 7.50870761, 10.28111032]),\n",
       "  3,\n",
       "  array([17.23239582,  6.21628481,  3.92458118])))"
      ]
     },
     "execution_count": 111,
     "metadata": {},
     "output_type": "execute_result"
    }
   ],
   "source": [
    "A = np.random.randint(0,10,(4, 3))\n",
    "b = np.random.randint(0, 10, (4, 2))\n",
    "A, b, np.linalg.lstsq(A, b, rcond=None)"
   ]
  },
  {
   "cell_type": "markdown",
   "metadata": {},
   "source": [
    "> <font size=3> 返回值: x : 近似解; cost : 损失; n : 维度  ; S : A的奇异值"
   ]
  },
  {
   "cell_type": "code",
   "execution_count": 112,
   "metadata": {},
   "outputs": [
    {
     "data": {
      "text/plain": [
       "(array([[9, 3],\n",
       "        [8, 6],\n",
       "        [0, 3],\n",
       "        [2, 4]]),\n",
       " array([[9.82126489, 3.96099399],\n",
       "        [6.55952745, 4.31444705],\n",
       "        [1.38181078, 4.61691052],\n",
       "        [0.31184438, 2.02462346]]))"
      ]
     },
     "execution_count": 112,
     "metadata": {},
     "output_type": "execute_result"
    }
   ],
   "source": [
    "x, cost, n, S = np.linalg.lstsq(A, b, rcond=None)\n",
    "b, A.dot(x)"
   ]
  },
  {
   "cell_type": "code",
   "execution_count": 113,
   "metadata": {},
   "outputs": [
    {
     "data": {
      "text/plain": [
       "(array([ 7.50870761, 10.28111032]), array([ 7.50870761, 10.28111032]))"
      ]
     },
     "execution_count": 113,
     "metadata": {},
     "output_type": "execute_result"
    }
   ],
   "source": [
    "cost, np.sum((A.dot(x) - b)**2, 0)"
   ]
  },
  {
   "cell_type": "code",
   "execution_count": 114,
   "metadata": {},
   "outputs": [
    {
     "data": {
      "text/plain": [
       "(array([17.23239582,  6.21628481,  3.92458118]),\n",
       " array([17.23239582,  6.21628481,  3.92458118]))"
      ]
     },
     "execution_count": 114,
     "metadata": {},
     "output_type": "execute_result"
    }
   ],
   "source": [
    "S, np.linalg.svd(A)[1]"
   ]
  },
  {
   "cell_type": "markdown",
   "metadata": {},
   "source": [
    "# 随机数生成"
   ]
  },
  {
   "cell_type": "markdown",
   "metadata": {},
   "source": [
    "## _**<font color = skyblue>np.random.permutation( <font color = orange>x</font> )</font>**_ : 产生给定序列的随机排列或者一个随机排列的序列"
   ]
  },
  {
   "cell_type": "code",
   "execution_count": 115,
   "metadata": {},
   "outputs": [
    {
     "data": {
      "text/plain": [
       "array([-2, -4, -5, -1, -3])"
      ]
     },
     "execution_count": 115,
     "metadata": {},
     "output_type": "execute_result"
    }
   ],
   "source": [
    "np.random.permutation(range(-5,0))"
   ]
  },
  {
   "cell_type": "code",
   "execution_count": 116,
   "metadata": {},
   "outputs": [
    {
     "data": {
      "text/plain": [
       "array([4, 2, 3, 1, 0])"
      ]
     },
     "execution_count": 116,
     "metadata": {},
     "output_type": "execute_result"
    }
   ],
   "source": [
    "np.random.permutation(5)"
   ]
  },
  {
   "cell_type": "markdown",
   "metadata": {},
   "source": [
    "## _**<font color = skyblue>np.random.rand( <font color = orange>d0</font>, <font color = orange>d1</font>, <font color = orange>...</font> )</font>**_ : 产生均匀分布的随机数"
   ]
  },
  {
   "cell_type": "code",
   "execution_count": 117,
   "metadata": {},
   "outputs": [
    {
     "data": {
      "text/plain": [
       "array([[0.93188729, 0.19373543, 0.03242586],\n",
       "       [0.0891599 , 0.11993145, 0.41048466],\n",
       "       [0.31863807, 0.77394962, 0.4442849 ]])"
      ]
     },
     "execution_count": 117,
     "metadata": {},
     "output_type": "execute_result"
    }
   ],
   "source": [
    "np.random.rand(3,3)"
   ]
  },
  {
   "cell_type": "markdown",
   "metadata": {},
   "source": [
    "## _**<font color = skyblue>np.random.uniform( <font color = orange>low</font>, <font color = orange>high</font>, <font color = orange>size</font> )</font>**_ : 产生给定范围均匀分布的随机数"
   ]
  },
  {
   "cell_type": "code",
   "execution_count": 118,
   "metadata": {},
   "outputs": [
    {
     "data": {
      "text/plain": [
       "array([[2.60630253, 8.86000804, 3.7889038 ],\n",
       "       [1.25386602, 4.55746877, 6.21932379],\n",
       "       [0.48936224, 9.65439911, 9.45159411]])"
      ]
     },
     "execution_count": 118,
     "metadata": {},
     "output_type": "execute_result"
    }
   ],
   "source": [
    "np.random.uniform(0, 10, (3, 3))"
   ]
  },
  {
   "cell_type": "markdown",
   "metadata": {},
   "source": [
    "## _**<font color = skyblue>np.random.randint( <font color = orange>low</font>, <font color = orange>high</font>, <font color = orange>size</font> )</font>**_ : 产生给定范围的整数随机数"
   ]
  },
  {
   "cell_type": "code",
   "execution_count": 119,
   "metadata": {},
   "outputs": [
    {
     "data": {
      "text/plain": [
       "array([[7, 5, 9],\n",
       "       [1, 4, 6],\n",
       "       [5, 6, 2]])"
      ]
     },
     "execution_count": 119,
     "metadata": {},
     "output_type": "execute_result"
    }
   ],
   "source": [
    "np.random.randint(0, 10, (3, 3))"
   ]
  },
  {
   "cell_type": "markdown",
   "metadata": {},
   "source": [
    "## _**<font color = skyblue>np.random.randn( <font color = orange>size</font> )</font>**_ : 产生服从标准正态分布的随机数"
   ]
  },
  {
   "cell_type": "code",
   "execution_count": 120,
   "metadata": {},
   "outputs": [
    {
     "data": {
      "text/plain": [
       "array([[ 0.5632786 , -2.02610778, -1.7987696 ],\n",
       "       [-0.27670206, -2.16489614, -0.70812467],\n",
       "       [ 1.8628367 ,  0.27024486, -0.80207598]])"
      ]
     },
     "execution_count": 120,
     "metadata": {},
     "output_type": "execute_result"
    }
   ],
   "source": [
    "np.random.randn(3,3)"
   ]
  },
  {
   "cell_type": "markdown",
   "metadata": {},
   "source": [
    "## _**<font color = skyblue>np.random.normal( <font color = orange>loc</font>, <font color = orange>scale</font>, <font color = orange>size</font> )</font>**_ : 产生服从 $N(loc,scale^2)$ 正态分布的随机数"
   ]
  },
  {
   "cell_type": "code",
   "execution_count": 121,
   "metadata": {},
   "outputs": [
    {
     "data": {
      "text/plain": [
       "array([[ 1.49669768,  0.1519672 ,  0.61085676],\n",
       "       [ 0.21297848, -0.32231956,  0.7621172 ],\n",
       "       [-0.11691781, -1.36556747,  0.42578613]])"
      ]
     },
     "execution_count": 121,
     "metadata": {},
     "output_type": "execute_result"
    }
   ],
   "source": [
    "np.random.normal(0, 1, (3,3))"
   ]
  },
  {
   "cell_type": "markdown",
   "metadata": {},
   "source": [
    "## _**<font color = skyblue>np.random.binomial( <font color = orange>n</font>, <font color = orange>p</font>, <font color = orange>size</font> )</font>**_: 产生服从 $B(n,p)$ 二项分布的随机数"
   ]
  },
  {
   "cell_type": "code",
   "execution_count": 122,
   "metadata": {},
   "outputs": [
    {
     "data": {
      "text/plain": [
       "array([[48, 52, 54],\n",
       "       [55, 50, 51],\n",
       "       [47, 44, 40]])"
      ]
     },
     "execution_count": 122,
     "metadata": {},
     "output_type": "execute_result"
    }
   ],
   "source": [
    "np.random.binomial(100, 0.5, (3,3))"
   ]
  },
  {
   "cell_type": "markdown",
   "metadata": {},
   "source": [
    "## _**<font color = skyblue>np.random.beta( <font color = orange>a</font>, <font color = orange>b</font>, <font color = orange>size</font> )</font>**_ : 产生服从 Beta 分布的随机数"
   ]
  },
  {
   "cell_type": "markdown",
   "metadata": {},
   "source": [
    "## _**<font color = skyblue>np.random.chisquare( <font color = orange>k</font>, <font color = orange>size</font> )</font>**_ : 产生服从 $X^2(k)$ 卡方分布的随机数"
   ]
  },
  {
   "cell_type": "markdown",
   "metadata": {},
   "source": [
    "## _**<font color = skyblue>np.random.gamma( <font color = orange>shape</font>, <font color = orange>scale</font>, <font color = orange>size</font> )</font>**_ : 产生服从 $G(shape,scale)$ Gamma 分布的随机数"
   ]
  }
 ],
 "metadata": {
  "celltoolbar": "原始单元格格式",
  "interpreter": {
   "hash": "68e46c7c86c1cc2409d6e31d27c78e45e4d67aa8b7a5fb870e63d2734be169e0"
  },
  "kernelspec": {
   "display_name": "Python 3.8.11 64-bit ('learn': conda)",
   "name": "python3"
  },
  "language_info": {
   "codemirror_mode": {
    "name": "ipython",
    "version": 3
   },
   "file_extension": ".py",
   "mimetype": "text/x-python",
   "name": "python",
   "nbconvert_exporter": "python",
   "pygments_lexer": "ipython3",
   "version": "3.8.11"
  },
  "toc": {
   "base_numbering": 1,
   "nav_menu": {
    "height": "401px",
    "width": "532px"
   },
   "number_sections": true,
   "sideBar": true,
   "skip_h1_title": false,
   "title_cell": "Table of Contents",
   "title_sidebar": "Contents",
   "toc_cell": false,
   "toc_position": {},
   "toc_section_display": true,
   "toc_window_display": false
  },
  "varInspector": {
   "cols": {
    "lenName": 16,
    "lenType": 16,
    "lenVar": 40
   },
   "kernels_config": {
    "python": {
     "delete_cmd_postfix": "",
     "delete_cmd_prefix": "del ",
     "library": "var_list.py",
     "varRefreshCmd": "print(var_dic_list())"
    },
    "r": {
     "delete_cmd_postfix": ") ",
     "delete_cmd_prefix": "rm(",
     "library": "var_list.r",
     "varRefreshCmd": "cat(var_dic_list()) "
    }
   },
   "types_to_exclude": [
    "module",
    "function",
    "builtin_function_or_method",
    "instance",
    "_Feature"
   ],
   "window_display": false
  }
 },
 "nbformat": 4,
 "nbformat_minor": 2
}
